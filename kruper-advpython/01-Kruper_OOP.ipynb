{
 "cells": [
  {
   "cell_type": "markdown",
   "id": "48e2ae07",
   "metadata": {},
   "source": [
    "# Python Tutorial: Object-Oriented Programming (OOP)\n",
    "Object-Oriented Programming (OOP) is a programming paradigm that is based on the concept of \"objects\".\n",
    "\n",
    "\"objects\" can contain data and code:\n",
    "\n",
    "    data in the form of properties (often known as attributes),\n",
    "    and code, in the form of methods."
   ]
  },
  {
   "cell_type": "markdown",
   "id": "b251dea7",
   "metadata": {},
   "source": [
    "## Class\n",
    "In Python, we create a class using the `class` keyword followed by the class name. Here's an example of a class called `BrainScan`:\n"
   ]
  },
  {
   "cell_type": "code",
   "execution_count": null,
   "id": "55071c54",
   "metadata": {},
   "outputs": [],
   "source": [
    "class BrainScan:\n",
    "    def __init__(self, patient_name, scan_type, date):\n",
    "        self.patient_name = patient_name\n",
    "        self.scan_type = scan_type\n",
    "        self.date = date"
   ]
  },
  {
   "cell_type": "markdown",
   "id": "b3461561",
   "metadata": {},
   "source": [
    "The `__init__` method is a special method in Python, which is called when an instance (object) of the class is created. It is also called a constructor. It's called when you create an object from the class. It is often used to set the properties of an object. Here, it takes the patient's name, scan type, and date as parameters and assigns them to the object's properties. `self` is a reference to the current instance of the class and is used to access variables that belong to the class."
   ]
  },
  {
   "cell_type": "markdown",
   "id": "9cf6d2e8",
   "metadata": {},
   "source": [
    "## Object\n",
    "An object is an instance of a class. A class is just a concept, and an object is an instance of that concept.\n",
    "Now, let's create an object that represents a specific brain scan for a patient:"
   ]
  },
  {
   "cell_type": "code",
   "execution_count": null,
   "id": "a3bc1d54",
   "metadata": {},
   "outputs": [],
   "source": [
    "scan1 = BrainScan(\"John Doe\", \"MRI\", \"2023-08-02\")\n",
    "print(scan1.patient_name)\n",
    "print(scan1.scan_type)\n",
    "print(scan1.date)"
   ]
  },
  {
   "cell_type": "markdown",
   "id": "5bb3333a",
   "metadata": {},
   "source": [
    "An object's properties, also known as attributes, are variables that hold data representing the state or characteristics of the object. These properties define specific qualities or features of an object that distinguish it from other objects. When you create an object, you can initialize these properties with particular values, which then represent a unique instance of that object.\n",
    "\n",
    "Here, `scan1` is an object of the `BrainScan` class. It holds the specific information for a brain scan done on John Doe using MRI technology on August 2, 2023. But typically there are many objects from one class:"
   ]
  },
  {
   "cell_type": "code",
   "execution_count": null,
   "id": "76c0c4cf",
   "metadata": {},
   "outputs": [],
   "source": [
    "scan2 = BrainScan(\"Jian Chao\", \"MRI\", \"2023-08-03\")\n",
    "print(scan2.patient_name)\n",
    "print(scan2.scan_type)\n",
    "print(scan2.date)\n",
    "print(\"\")\n",
    "\n",
    "scan3 = BrainScan(\"Vladimir Kucera\", \"CT\", \"2022-09-07\")\n",
    "print(scan3.patient_name)\n",
    "print(scan3.scan_type)\n",
    "print(scan3.date)"
   ]
  },
  {
   "cell_type": "markdown",
   "id": "d860e4d1",
   "metadata": {},
   "source": [
    "## Methods\n",
    "Methods are functions that belong to a class. Now we redefine the class to include another method:"
   ]
  },
  {
   "cell_type": "code",
   "execution_count": null,
   "id": "3f6c94d6",
   "metadata": {},
   "outputs": [],
   "source": [
    "class BrainScan:\n",
    "    def __init__(self, patient_name, scan_type, date):\n",
    "        self.patient_name = patient_name\n",
    "        self.scan_type = scan_type\n",
    "        self.date = date\n",
    "\n",
    "    def display_details(self):\n",
    "        print(f\"Patient: {self.patient_name}\")\n",
    "        print(f\"Scan Type: {self.scan_type}\")\n",
    "        print(f\"Date: {self.date}\")"
   ]
  },
  {
   "cell_type": "markdown",
   "id": "654858bc",
   "metadata": {},
   "source": [
    "We can call this method on a `BrainScan` object, like this:"
   ]
  },
  {
   "cell_type": "code",
   "execution_count": null,
   "id": "5f75e570",
   "metadata": {},
   "outputs": [],
   "source": [
    "scan1 = BrainScan(\"John Doe\", \"MRI\", \"2023-08-02\")\n",
    "scan1.display_details()"
   ]
  },
  {
   "cell_type": "markdown",
   "id": "e7eb3564",
   "metadata": {},
   "source": [
    "## Exercise\n",
    "Create a simple `Patient` class that captures basic patient details such as name, age, and medical history. \n",
    "Define attributes within the constructor (`__init__`).\n",
    "Demonstrate how to create objects using this class and access their properties.\n",
    "Specifically:\n",
    " 1. Define a `Patient` class with attributes for name, age, and medical history.\n",
    " 2. Create a method to display the patient's details.\n",
    " 3. Instantiate several Patient objects and call the method to print their details."
   ]
  },
  {
   "cell_type": "markdown",
   "id": "5ac8771d",
   "metadata": {},
   "source": [
    "## Inheritance\n",
    "Inheritance is an OOP feature that allows us to create a class that inherits all the methods and properties from another class.\n",
    "\n",
    "__Parent class__: the class being inherited from. Also called the superclass.\n",
    "\n",
    "__Child class__: the class that inherits from another class. Also called the subclass.\n",
    "\n",
    "For example, suppose we want to create a class specifically for MRI scans, which will include all the features of a general brain scan but also additional details unique to MRI. We can derive an MRIScan class from the BrainScan class like this:"
   ]
  },
  {
   "cell_type": "code",
   "execution_count": null,
   "id": "6e13af37",
   "metadata": {},
   "outputs": [],
   "source": [
    "class MRIScan(BrainScan):\n",
    "    def __init__(self, patient_name, date, magnetic_field_strength):\n",
    "        super().__init__(patient_name, \"MRI\", date)\n",
    "        self.magnetic_field_strength = magnetic_field_strength\n",
    "\n",
    "    def display_mri_details(self):\n",
    "        self.display_details()\n",
    "        print(f\"Magnetic Field Strength: {self.magnetic_field_strength} Tesla\")\n"
   ]
  },
  {
   "cell_type": "markdown",
   "id": "19a74c3f",
   "metadata": {},
   "source": [
    "Note that `MRIScan` is the child class and `BrainScan` is the parent class.\n",
    "The MRIScan class inherits all properties and methods from BrainScan. That's why we can still call `display_details()` in the new method `display_mri_details()`.\n",
    "\n",
    "The `MRIScan` class has its own `__init__()` method. This 'overrides' the parent class's `__init__()` method. When we call the `__init__()` method of the `MRIScan` class, we can still use the parent class's `__init__()` method by calling `super()`. This allows us to set the `patient_name`, `scan`, and `date` attributes from the `BrainScan` class, while adding the new attribute `magnetic_field_strength`.\n",
    "\n",
    "We can use this new class to create a `MRIScan` object:"
   ]
  },
  {
   "cell_type": "code",
   "execution_count": null,
   "id": "609fe388",
   "metadata": {},
   "outputs": [],
   "source": [
    "mri_scan = MRIScan(\"Jane Doe\", \"2023-08-02\", 3)\n",
    "mri_scan.display_mri_details()"
   ]
  },
  {
   "cell_type": "markdown",
   "id": "f921a74b",
   "metadata": {},
   "source": [
    "Inheritance demonstrates the power of OOP to organize code in a hierarchical and modular way, making it easier to manage and extend."
   ]
  },
  {
   "cell_type": "markdown",
   "id": "a97ebfef",
   "metadata": {},
   "source": [
    "## Exercise\n",
    "Create a subclass of `MRIScan` for a specific type of MRI scan, such as a `fMRIScan` or `T1Scan`. As an example, you could: \n",
    "1. Define a `T1Scan` class that inherits from `MRIScan`.\n",
    "2. Add specific attributes and methods relevant to a `T1Scan`, such as `repetition_time` and `time_to_echo`.\n",
    "3. Create a `T1Scan` object and demonstrate how the it includes the attributes and methods of the parent class, as well as its own."
   ]
  },
  {
   "cell_type": "markdown",
   "id": "9052fcea",
   "metadata": {},
   "source": [
    "# Encapsulation\n",
    "Encapsulation enables us to hide the internal state and processes of an object, exposing only what's necessary to the outside world. This separation creates a controlled interface for interacting with an object, ensuring that the object's behavior remains consistent and predictable.\n",
    "\n",
    "In Python, we can restrict access to methods and variables using underscores (_)."
   ]
  },
  {
   "cell_type": "code",
   "execution_count": null,
   "id": "97a9b70d",
   "metadata": {},
   "outputs": [],
   "source": [
    "class BrainScan:\n",
    "    def __init__(self, patient_name, scan_type, date):\n",
    "        self._patient_name = patient_name\n",
    "        self.scan_type = scan_type\n",
    "        self.date = date\n",
    "\n",
    "    def get_patient_name(self):\n",
    "        return self._patient_name\n",
    "    \n",
    "    def display_details(self):\n",
    "        print(f\"Patient: {self.get_patient_name()}\")\n",
    "        print(f\"Scan Type: {self.scan_type}\")\n",
    "        print(f\"Date: {self.date}\")\n"
   ]
  },
  {
   "cell_type": "markdown",
   "id": "d659843a",
   "metadata": {},
   "source": [
    "Now, the `_patient_name` attribute is considered private and should not be accessed directly from outside the class. Instead, we've provided a method `get_patient_name` to access this information, demonstrating controlled access.\n",
    "\n",
    "Similar to private attributes, we can also define private methods that are intended to be called only within the class. These methods usually handle internal logic and should not be part of the public interface."
   ]
  },
  {
   "cell_type": "code",
   "execution_count": null,
   "id": "39f24d8d",
   "metadata": {},
   "outputs": [],
   "source": [
    "class MRIScan(BrainScan):\n",
    "    def __init__(self, patient_name, date, magnetic_field_strength):\n",
    "        super().__init__(patient_name, \"MRI\", date)\n",
    "        self.magnetic_field_strength = magnetic_field_strength\n",
    "\n",
    "    def _calculate_intensity(self, value):\n",
    "        return value * self.magnetic_field_strength\n",
    "\n",
    "    def process_scan(self):\n",
    "        intensity = self._calculate_intensity(10)\n",
    "        print(f\"Processing MRI scan with intensity {intensity}...\")\n",
    "\n",
    "# Create an MRI scan object\n",
    "mri_scan = MRIScan(\"Jane Doe\", \"2023-08-02\", 3)\n",
    "\n",
    "# Display the details using the public method\n",
    "mri_scan.display_details()\n",
    "\n",
    "# Process the scan using the public method\n",
    "mri_scan.process_scan()"
   ]
  },
  {
   "cell_type": "markdown",
   "id": "d0952f9a",
   "metadata": {},
   "source": [
    "## Exercise\n",
    "Modify the existing BrainScan class to also encapsulate the patient's age as a private attribute. Create two public methods to securely access and modify this information.\n"
   ]
  },
  {
   "cell_type": "markdown",
   "id": "73480f79",
   "metadata": {},
   "source": [
    "# Polymorphism\n",
    "Polymorphism comes from Greek words meaning \"many shapes.\" In programming, it refers to the ability of different objects to respond to the same method call in a way that's specific to their individual types.\n",
    "\n",
    "In the context of this neuroimaging example, we will use polymorphism to represent various types of brain scans (e.g., MRI, CT, PET) under a common interface, allowing us to write code that can work with any type of brain scan without knowing the specific subclass. To demonstrate this, let's first write two example child classes:"
   ]
  },
  {
   "cell_type": "code",
   "execution_count": null,
   "id": "7d8a5a5a",
   "metadata": {},
   "outputs": [],
   "source": [
    "class MRIScan(BrainScan):\n",
    "    def __init__(self, patient_name, date, magnetic_field_strength):\n",
    "        super().__init__(patient_name, \"MRI\", date)\n",
    "        self.magnetic_field_strength = magnetic_field_strength\n",
    "\n",
    "    def process_scan(self):\n",
    "        print(f\"Processing MRI scan with {self.magnetic_field_strength} Tesla magnetic field strength...\")\n",
    "\n",
    "class CTScan(BrainScan):\n",
    "    def __init__(self, patient_name, date, slice_thickness):\n",
    "        super().__init__(patient_name, \"CT\", date)\n",
    "        self.slice_thickness = slice_thickness\n",
    "\n",
    "    def process_scan(self):\n",
    "        print(f\"Processing CT scan with {self.slice_thickness} mm slice thickness...\")"
   ]
  },
  {
   "cell_type": "markdown",
   "id": "cf621bc3",
   "metadata": {},
   "source": [
    "Now, we demonstrate polymorphism by calling `process_scan` on both `CTScan` and `MRIScan` objects:"
   ]
  },
  {
   "cell_type": "code",
   "execution_count": null,
   "id": "25dee962",
   "metadata": {},
   "outputs": [],
   "source": [
    "# List to hold scheduled scans\n",
    "scheduled_scans = []\n",
    "\n",
    "# Schedule MRI and CT scans\n",
    "scheduled_scans.append(MRIScan(\"Jane Doe\", \"2023-08-02\", 3))\n",
    "scheduled_scans.append(CTScan(\"John Doe\", \"2023-08-02\", 5))\n",
    "scheduled_scans.append(MRIScan(\"Jian Chao\", \"2023-08-03\", 1.5))\n",
    "scheduled_scans.append(CTScan(\"Vladimir Kucera\", \"2023-08-03\", 3))\n",
    "\n",
    "# Function to process all scheduled scans\n",
    "def process_all_scans(scans):\n",
    "    print(\"Processing all scheduled brain scans:\")\n",
    "    for scan in scans:\n",
    "        print(\"\\nScan Details:\")\n",
    "        scan.display_details()\n",
    "        print(\"Processing:\")\n",
    "        scan.process_scan()\n",
    "    print(\"\\nAll scans have been successfully processed!\")\n",
    "\n",
    "# Process all scheduled scans\n",
    "process_all_scans(scheduled_scans)"
   ]
  },
  {
   "cell_type": "markdown",
   "id": "6b97492c",
   "metadata": {},
   "source": [
    "## Exercise\n",
    "\n",
    "Create a `ScanScheduler` class that manages scheduling and processing of various types of scans It should allow adding scans, removing scans, and processing all scheduled scans using the classes you've developed.  Use both encapsulation and polymorphism. \n",
    "\n",
    "Specifically:\n",
    " - The `ScanScheduler` should have a list to hold scheduled scans. This list should be private.\n",
    " - The method to add a scan should add it to the end of the list.\n",
    " - The method to remove scans can just remove the most recent scan added to this list of scheduled scans.\n",
    " - The method to process scans should be similar to the `process_all_scans` function above.\n",
    "\n",
    "Optionally:\n",
    " - Implement checks to ensure that only scan objects that inherit from `BrainScan` are added. For this you can use the `isinstance` method: https://docs.python.org/3/library/functions.html#isinstance\n",
    " - Limit the capacity of scans that can be scheduled, using a maximum daily capacity which is given to the constructor.\n",
    " - Allow scans to be removed according to patient name and date.\n"
   ]
  },
  {
   "cell_type": "markdown",
   "id": "49eb269f",
   "metadata": {},
   "source": [
    "# Abstraction\n",
    "Abstraction is a process of hiding the implementation details and showing only the functionality. Abstract classes are classes that contain one or more abstract methods. An abstract method is a method declared in an abstract class, but it does not contain any implementation.\n",
    "\n",
    "Python doesn't have a keyword for creating an abstract class but we can use the `abc` module (Abstract Base Class) for this purpose. We use the `@abstractmethod` decorator to define abstract methods."
   ]
  },
  {
   "cell_type": "code",
   "execution_count": null,
   "id": "b783ce0a",
   "metadata": {},
   "outputs": [],
   "source": [
    "from abc import ABC, abstractmethod\n",
    "\n",
    "class BrainScan(ABC):\n",
    "    def __init__(self, patient_name, scan_type, date):\n",
    "        self.patient_name = patient_name\n",
    "        self.scan_type = scan_type\n",
    "        self.date = date\n",
    "\n",
    "    @abstractmethod\n",
    "    def process_scan(self):\n",
    "        pass\n",
    "\n",
    "    def display_details(self):\n",
    "        print(f\"Patient: {self.patient_name}\")\n",
    "        print(f\"Scan Type: {self.scan_type}\")\n",
    "        print(f\"Date: {self.date}\")"
   ]
  },
  {
   "cell_type": "markdown",
   "id": "8b303dd8",
   "metadata": {},
   "source": [
    "Now, we can create a derived class for MRI scans that actually implements the `process_scan` method, and then finally an object with which you call the method:"
   ]
  },
  {
   "cell_type": "code",
   "execution_count": null,
   "id": "70143f6a",
   "metadata": {},
   "outputs": [],
   "source": [
    "class MRIScan(BrainScan):\n",
    "    def __init__(self, patient_name, date, magnetic_field_strength):\n",
    "        super().__init__(patient_name, \"MRI\", date)\n",
    "        self.magnetic_field_strength = magnetic_field_strength\n",
    "\n",
    "    def process_scan(self):\n",
    "        print(f\"Processing MRI scan with {self.magnetic_field_strength} Tesla magnetic field strength...\")\n",
    "\n",
    "mri_scan = MRIScan(\"Jane Doe\", \"2023-08-02\", 3)\n",
    "mri_scan.process_scan()"
   ]
  },
  {
   "cell_type": "markdown",
   "id": "52b45b82",
   "metadata": {},
   "source": [
    "## Final Exercise\n",
    "You are tasked with designing a toolkit for neuroimaging analysis. This toolkit has multiple steps to analyze brain scans: segmentation, registration, and feature extraction. You'll use abstraction to define a common interface for these analysis steps, allowing different implementations to be plugged into the system seamlessly.\n",
    "\n",
    "Tasks:\n",
    "1. Create an abstract class `AnalysisAlgorithm` that will serve as the base for various neuroimaging analysis techniques.\n",
    "2. Within the abstract class, define abstract methods such as `execute_algorithm` and `display_results`. These methods should outline what every analysis algorithm must do but not how it does it.\n",
    "3. Implement specific subclasses for each of the different analysis steps: `SegmentationAlgorithm`, `RegistrationAlgorithm`, and `FeatureExtractionAlgorithm`. Each of these subclasses should provide a concrete implementation of the abstract methods. Like the `process_scan` method above, these implementations can just be pring statements.\n",
    "4. Write a function that takes an object of type `AnalysisAlgorithm` and calls its abstract methods. Demonstrate how this function can work with objects of the different subclasses you have created."
   ]
  },
  {
   "cell_type": "markdown",
   "id": "101655a0",
   "metadata": {},
   "source": [
    "## Optional Project \n",
    "\n",
    "Build an advanced patient and scan management system that includes classes for Patients, Doctors, and various Scans, integrating the `ScanScheduler` class. Implement relationships between these classes and create methods to schedule scans, assign doctors, view patient history, etc. Think about how real-world entities relate to each other and how you can model those relationships using OOP principles. Get creative!"
   ]
  },
  {
   "cell_type": "markdown",
   "id": "dcae5c7b",
   "metadata": {},
   "source": [
    "\n",
    "*This tutorial was put together with the help of GPT-4.*"
   ]
  }
 ],
 "metadata": {
  "kernelspec": {
   "display_name": "Python 3 (ipykernel)",
   "language": "python",
   "name": "python3"
  },
  "language_info": {
   "codemirror_mode": {
    "name": "ipython",
    "version": 3
   },
   "file_extension": ".py",
   "mimetype": "text/x-python",
   "name": "python",
   "nbconvert_exporter": "python",
   "pygments_lexer": "ipython3",
   "version": "3.9.10"
  }
 },
 "nbformat": 4,
 "nbformat_minor": 5
}
