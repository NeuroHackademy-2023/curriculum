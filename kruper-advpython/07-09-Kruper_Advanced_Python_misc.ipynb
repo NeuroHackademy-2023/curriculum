{
 "cells": [
  {
   "cell_type": "markdown",
   "id": "72971562",
   "metadata": {},
   "source": [
    "# Python Tutorial: Miscellaneous"
   ]
  },
  {
   "cell_type": "markdown",
   "id": "bffaf9f5",
   "metadata": {},
   "source": [
    "## Lambda Functions\n",
    "Lambda functions in Python are small anonymous functions defined with the `lambda` keyword. They are used to create small, one-time, throwaway functions without naming them. Lambda functions can take any number of arguments but can have only one expression. The expression is evaluated and returned. The syntax for a lambda function is:"
   ]
  },
  {
   "cell_type": "code",
   "execution_count": 45,
   "id": "43062a6a",
   "metadata": {},
   "outputs": [
    {
     "data": {
      "text/plain": [
       "<function __main__.<lambda>(arguments)>"
      ]
     },
     "execution_count": 45,
     "metadata": {},
     "output_type": "execute_result"
    }
   ],
   "source": [
    "lambda arguments: expression"
   ]
  },
  {
   "cell_type": "markdown",
   "id": "b1c06398",
   "metadata": {},
   "source": [
    "Imagine you have some brain image, and that you want to threshold that image to keep only the pixels above a certain intensity. You can define a lambda function to do this. First, we make synthetic data:"
   ]
  },
  {
   "cell_type": "code",
   "execution_count": 50,
   "id": "3f063ffe",
   "metadata": {},
   "outputs": [],
   "source": [
    "import numpy as np\n",
    "\n",
    "# Create a 3D array with dimensions 64x64x64\n",
    "image_shape = (64, 64, 64)\n",
    "\n",
    "# Generate random intensities within a range to simulate image data\n",
    "np.random.seed(42) # For reproducibility\n",
    "image_data = np.random.randint(0, 255, image_shape)"
   ]
  },
  {
   "cell_type": "markdown",
   "id": "c30b2b60",
   "metadata": {},
   "source": [
    "Next, we define then apply the lambda function to this data.\n",
    "\n",
    "We will use 2 new functions:\n",
    "\n",
    "`numpy.zeros_like` is used to create a new array with the same shape and type as a given array, but with all elements set to zero.\n",
    " \n",
    " `numpy.ndindex` is a function that returns an iterator yielding pairs of indices corresponding to every element in an N-dimensional array. It's particularly useful for looping over the elements of a multi-dimensional array."
   ]
  },
  {
   "cell_type": "code",
   "execution_count": 51,
   "id": "535288c3",
   "metadata": {},
   "outputs": [
    {
     "name": "stdout",
     "output_type": "stream",
     "text": [
      "107.05646133422852\n"
     ]
    }
   ],
   "source": [
    "threshold_value = 100\n",
    "threshold_func = lambda x: x if x > threshold_value else 0\n",
    "\n",
    "thresholded_image = np.zeros_like(image_data)\n",
    "for ijk in np.ndindex(image_shape):\n",
    "    thresholded_image[ijk] = threshold_func(image_data[ijk])\n",
    "print(np.mean(thresholded_image))"
   ]
  },
  {
   "cell_type": "markdown",
   "id": "957822da",
   "metadata": {},
   "source": [
    "The `thresholded_image` now contains the thresholded values, keeping only the intensities above 100. \n",
    "\n",
    "Another way to do this is to use `numpy.vectorize`. `numpy.vectorize` takes a function that accepts scalar input (a single number) and returns a new function that can handle vector input (arrays). Essentially, it allows you to apply a function designed for individual elements to an entire array at once. It can be much faster than using a for loop:"
   ]
  },
  {
   "cell_type": "code",
   "execution_count": 52,
   "id": "9473c45c",
   "metadata": {},
   "outputs": [
    {
     "name": "stdout",
     "output_type": "stream",
     "text": [
      "107.05646133422852\n"
     ]
    }
   ],
   "source": [
    "thresholded_image = np.vectorize(threshold_func)(image_data)\n",
    "print(np.mean(thresholded_image))"
   ]
  },
  {
   "cell_type": "markdown",
   "id": "f55b0132",
   "metadata": {},
   "source": [
    "## `*args` and `**kwargs`\n"
   ]
  },
  {
   "cell_type": "markdown",
   "id": "7122197c",
   "metadata": {},
   "source": [
    "The `*args` syntax in a function signature is used to pass a variable number of non-keyword arguments to a function. Inside the function, args is a tuple containing all the passed arguments. A tuple is an immutable collection of objects.\n",
    "\n",
    "In this example, we calculate mean intensity of any number of slices from the synthetic data:"
   ]
  },
  {
   "cell_type": "code",
   "execution_count": 53,
   "id": "49428998",
   "metadata": {},
   "outputs": [
    {
     "name": "stdout",
     "output_type": "stream",
     "text": [
      "Mean Intensity: 127.531005859375\n",
      "Mean Intensity: 126.1837158203125\n"
     ]
    }
   ],
   "source": [
    "def mean_intensity(*slices):\n",
    "    total = 0\n",
    "    count = 0\n",
    "    for slice in slices:\n",
    "        total += np.sum(slice)\n",
    "        count += np.prod(slice.shape)\n",
    "    return total / count\n",
    "\n",
    "mean_int = mean_intensity(image_data[0], image_data[1])\n",
    "print(\"Mean Intensity:\", mean_int)\n",
    "\n",
    "mean_int = mean_intensity(image_data[10], image_data[30])\n",
    "print(\"Mean Intensity:\", mean_int)\n"
   ]
  },
  {
   "cell_type": "markdown",
   "id": "7a0c36c7",
   "metadata": {},
   "source": [
    "The `**kwargs` syntax allows you to pass a variable number of keyword arguments to a function. Inside the function, kwargs is a dictionary containing all the keyword arguments. Dictionaries are mutable data structures that allow you to store key-value pairs."
   ]
  },
  {
   "cell_type": "code",
   "execution_count": 54,
   "id": "275e6c90",
   "metadata": {},
   "outputs": [
    {
     "name": "stdout",
     "output_type": "stream",
     "text": [
      "56.06982421875\n",
      "106.9482421875\n",
      "48.19140625\n"
     ]
    }
   ],
   "source": [
    "def custom_threshold(image, **kwargs):\n",
    "    threshold_value = kwargs.get('threshold_value', 100)\n",
    "    default_value = kwargs.get('default_value', 0)\n",
    "    return np.where(image > threshold_value, image, default_value)\n",
    "\n",
    "thresholded_slice = custom_threshold(image_data[12], threshold_value=200, default_value=10)\n",
    "print(np.mean(thresholded_slice))\n",
    "thresholded_slice = custom_threshold(image_data[12])\n",
    "print(np.mean(thresholded_slice))\n",
    "thresholded_slice = custom_threshold(image_data[12], threshold_value=200)\n",
    "print(np.mean(thresholded_slice))"
   ]
  },
  {
   "cell_type": "markdown",
   "id": "0829340c",
   "metadata": {},
   "source": [
    "## Generators and List Comprehension"
   ]
  },
  {
   "cell_type": "markdown",
   "id": "64267c2b",
   "metadata": {},
   "source": [
    "A generator is a special type of iterator that allows you to iterate over a large sequence of values lazily, meaning one value at a time. Generators are defined using functions that contain one or more `yield` statements.\n",
    "\n",
    "Imagine you want to iterate over the slices of our synthetic brain data. You can make a generator to yield one slice at a time:"
   ]
  },
  {
   "cell_type": "code",
   "execution_count": 56,
   "id": "16ead8ba",
   "metadata": {},
   "outputs": [],
   "source": [
    "def generate_slices(image_3d):\n",
    "    depth = image_3d.shape[0]\n",
    "    for i in range(depth):\n",
    "        yield image_3d[i, :, :]\n",
    "\n",
    "for image_slice in generate_slices(image_data):\n",
    "    # Process each slice here\n",
    "    custom_threshold(image_slice)"
   ]
  },
  {
   "cell_type": "markdown",
   "id": "f5183201",
   "metadata": {},
   "source": [
    "You can use the `next()` function to manually iterate through the values generated by a generator."
   ]
  },
  {
   "cell_type": "code",
   "execution_count": 64,
   "id": "0a860a9a",
   "metadata": {},
   "outputs": [
    {
     "name": "stdout",
     "output_type": "stream",
     "text": [
      "108.22802734375\n"
     ]
    }
   ],
   "source": [
    "slices = generate_slices(image_data)\n",
    "first_slice = next(slices)\n",
    "first_thresholded_slice = custom_threshold(first_slice)\n",
    "print(np.mean(first_thresholded_slice))"
   ]
  },
  {
   "cell_type": "markdown",
   "id": "bb4c4ce2",
   "metadata": {},
   "source": [
    "Generator expressions are a more concise way to create generators:"
   ]
  },
  {
   "cell_type": "code",
   "execution_count": 65,
   "id": "ce565de0",
   "metadata": {},
   "outputs": [
    {
     "name": "stdout",
     "output_type": "stream",
     "text": [
      "108.22802734375\n"
     ]
    }
   ],
   "source": [
    "thresholded_slices = (custom_threshold(image_slice) for image_slice in image_data)\n",
    "first_thresholded_slice = next(thresholded_slices)\n",
    "print(np.mean(first_thresholded_slice))"
   ]
  },
  {
   "cell_type": "markdown",
   "id": "25f4d813",
   "metadata": {},
   "source": [
    "A similar concept to generator expressions is list comprehension. A list comprehension is a one-liner that creates a new list by applying an expression to each item in an existing iterable. The basic syntax of a list comprehension is similar to generator expressions, but using square brackets:\n"
   ]
  },
  {
   "cell_type": "code",
   "execution_count": 66,
   "id": "406c2524",
   "metadata": {},
   "outputs": [
    {
     "name": "stdout",
     "output_type": "stream",
     "text": [
      "108.22802734375\n"
     ]
    }
   ],
   "source": [
    "thresholded_slices = [custom_threshold(image_slice) for image_slice in image_data]\n",
    "first_thresholded_slice = thresholded_slices[0]\n",
    "print(np.mean(first_thresholded_slice))"
   ]
  },
  {
   "cell_type": "markdown",
   "id": "1a31e1b4",
   "metadata": {},
   "source": [
    "## Basic Exception Handling"
   ]
  },
  {
   "cell_type": "markdown",
   "id": "e733de48",
   "metadata": {},
   "source": [
    "In Python, exception handling is done using the `try`, `except`, `else`, and `finally` blocks. As an example, we will try to read a file path that does not exist.\n",
    "\n",
    "The `try` block contains the code that might cause an exception, and the `except` block contains the code that will execute if an exception occurs:\n",
    "\n",
    "The `try` block lets you test a block of code for errors. The code inside the try block is executed, and if any exception occurs, the code inside the try block stops running, and control is passed to the except block. The `except` block lets you handle the error. Here is an example:"
   ]
  },
  {
   "cell_type": "code",
   "execution_count": 77,
   "id": "a41fbc39",
   "metadata": {},
   "outputs": [
    {
     "name": "stdout",
     "output_type": "stream",
     "text": [
      "File not found\n"
     ]
    }
   ],
   "source": [
    "try:\n",
    "    img = nib.load(\"non_existent_file.nii\")\n",
    "except:\n",
    "        print(\"File not found\")"
   ]
  },
  {
   "cell_type": "markdown",
   "id": "84ad1575",
   "metadata": {},
   "source": [
    "It is better form to specify the exception in the `except` block. By specifying the exception type, you can handle different exceptions in different ways. It also won't mask errors that you'd rather know about:"
   ]
  },
  {
   "cell_type": "code",
   "execution_count": 80,
   "id": "666f184d",
   "metadata": {},
   "outputs": [
    {
     "name": "stdout",
     "output_type": "stream",
     "text": [
      "File not found.\n"
     ]
    }
   ],
   "source": [
    "try:\n",
    "    image_data = np.load(\"/Does/Not/Exist\")\n",
    "except FileNotFoundError:\n",
    "    print(\"File not found.\")\n",
    "except nib.filebasedimages.ImageFileError:\n",
    "    print(\"Invalid image file.\")"
   ]
  },
  {
   "cell_type": "markdown",
   "id": "03032fec",
   "metadata": {},
   "source": [
    "The `else` block will execute if no exceptions are raised in the `try` block. The `finally` block will always execute, whether an exception was raised or not. These blocks are optional."
   ]
  },
  {
   "cell_type": "code",
   "execution_count": 81,
   "id": "0c5cd5b0",
   "metadata": {},
   "outputs": [
    {
     "name": "stdout",
     "output_type": "stream",
     "text": [
      "File not found.\n",
      "End of attempt to load image.\n"
     ]
    }
   ],
   "source": [
    "try:\n",
    "    image_data = np.load(\"/Does/Not/Exist\")\n",
    "except FileNotFoundError:\n",
    "    print(\"File not found.\")\n",
    "except nib.filebasedimages.ImageFileError:\n",
    "    print(\"Invalid image file.\")\n",
    "else:\n",
    "    print(\"Image loaded successfully.\")\n",
    "finally:\n",
    "    print(\"End of attempt to load image.\")"
   ]
  },
  {
   "cell_type": "markdown",
   "id": "96e3dcde",
   "metadata": {},
   "source": [
    "## Decorators\n",
    "\n",
    "A decorator in Python is a higher-order function that takes a function and extends the behavior of that function without explicitly modifying its code. Decorators are often used to encapsulate common functionality that can be applied to multiple functions or methods. Here's a simple example:"
   ]
  },
  {
   "cell_type": "code",
   "execution_count": 82,
   "id": "c83edd21",
   "metadata": {},
   "outputs": [
    {
     "name": "stdout",
     "output_type": "stream",
     "text": [
      "Something is happening before the function is called.\n",
      "Hello!\n",
      "Something is happening after the function is called.\n"
     ]
    }
   ],
   "source": [
    "def my_decorator(func):\n",
    "    def wrapper():\n",
    "        print(\"Something is happening before the function is called.\")\n",
    "        func()\n",
    "        print(\"Something is happening after the function is called.\")\n",
    "    return wrapper\n",
    "\n",
    "@my_decorator\n",
    "def say_hello():\n",
    "    print(\"Hello!\")\n",
    "\n",
    "say_hello()"
   ]
  },
  {
   "cell_type": "markdown",
   "id": "c45496ec",
   "metadata": {},
   "source": [
    "The `@my_decorator` syntax is syntactic sugar for `say_hello = my_decorator(say_hello)`.\n",
    "\n",
    "Decorators can also take arguments, allowing them to be customized."
   ]
  },
  {
   "cell_type": "code",
   "execution_count": 86,
   "id": "3650ac6b",
   "metadata": {},
   "outputs": [
    {
     "name": "stdout",
     "output_type": "stream",
     "text": [
      "process_image_loop took 0.11661696434020996 seconds to execute.\n",
      "process_image_vector took 0.020823001861572266 seconds to execute.\n"
     ]
    }
   ],
   "source": [
    "import time\n",
    "\n",
    "def timer_decorator(func):\n",
    "    def wrapper(*args, **kwargs):\n",
    "        start_time = time.time()\n",
    "        result = func(*args, **kwargs)\n",
    "        end_time = time.time()\n",
    "        print(f\"{func.__name__} took {end_time - start_time} seconds to execute.\")\n",
    "        return result\n",
    "    return wrapper\n",
    "\n",
    "@timer_decorator\n",
    "def process_image_vector(image_data):\n",
    "    np.vectorize(threshold_func)(image_data)\n",
    "\n",
    "@timer_decorator\n",
    "def process_image_loop(image_data):\n",
    "    thresholded_image = np.zeros_like(image_data)\n",
    "    for ijk in np.ndindex(image_data.shape):\n",
    "        thresholded_image[ijk] = threshold_func(image_data[ijk])\n",
    "\n",
    "process_image_loop(image_data)\n",
    "process_image_vector(image_data)"
   ]
  },
  {
   "cell_type": "markdown",
   "id": "20fb50ea",
   "metadata": {},
   "source": [
    "Finally, the decorator itself can also have parameters:"
   ]
  },
  {
   "cell_type": "code",
   "execution_count": 89,
   "id": "c6acf7e0",
   "metadata": {},
   "outputs": [
    {
     "name": "stdout",
     "output_type": "stream",
     "text": [
      "[DEBUG] Calling process_image_loop\n",
      "wrapper took 0.1098637580871582 seconds to execute.\n",
      "[DEBUG] Calling process_image_vector\n",
      "wrapper took 0.020756006240844727 seconds to execute.\n"
     ]
    }
   ],
   "source": [
    "def logger_decorator(level=\"INFO\"):\n",
    "    def decorator(func):\n",
    "        def wrapper(*args, **kwargs):\n",
    "            print(f\"[{level}] Calling {func.__name__}\")\n",
    "            return func(*args, **kwargs)\n",
    "        return wrapper\n",
    "    return decorator\n",
    "\n",
    "@timer_decorator\n",
    "@logger_decorator(level=\"DEBUG\")\n",
    "def process_image_vector(image_data):\n",
    "    np.vectorize(threshold_func)(image_data)\n",
    "\n",
    "@timer_decorator\n",
    "@logger_decorator(level=\"DEBUG\")\n",
    "def process_image_loop(image_data):\n",
    "    thresholded_image = np.zeros_like(image_data)\n",
    "    for ijk in np.ndindex(image_data.shape):\n",
    "        thresholded_image[ijk] = threshold_func(image_data[ijk])\n",
    "\n",
    "process_image_loop(image_data)\n",
    "process_image_vector(image_data)"
   ]
  },
  {
   "cell_type": "markdown",
   "id": "58adf7df",
   "metadata": {},
   "source": [
    "## Duck Typing\n",
    "\"Duck typing\" comes from the saying \"If it looks like a duck, swims like a duck, and quacks like a duck, then it probably is a duck.\" In programming, it means that the type of an object is determined by what it can do (methods and properties), not what it is (class hierarchy).\n",
    "\n",
    "In a statically typed language, you often have to explicitly declare the type of a variable. In contrast, Python's dynamic typing relies on the properties and methods that an object has, rather than its explicit class or type.\n",
    "\n",
    "Suppose you're working with vectors, and you want to write a function that adds two vectors. With duck typing, you can write a function that adds any objects as long as they behave like vectors:"
   ]
  },
  {
   "cell_type": "code",
   "execution_count": 90,
   "id": "9b70d481",
   "metadata": {},
   "outputs": [],
   "source": [
    "def add_vectors(v1, v2):\n",
    "    return [x + y for x, y in zip(v1, v2)]  # the `zip` function aggregates elements from each of the iterables\n",
    "\n",
    "class Vector:\n",
    "    def __init__(self, x, y, z):\n",
    "        self.x = x\n",
    "        self.y = y\n",
    "        self.z = z\n",
    "    \n",
    "    def __iter__(self):\n",
    "        return iter([self.x, self.y, self.z])\n",
    "\n",
    "v1 = [1, 2, 3]\n",
    "v2 = Vector(4, 5, 6)\n",
    "result = add_vectors(v1, v2)  # Works, even though v1 and v2 are different types\n"
   ]
  },
  {
   "cell_type": "markdown",
   "id": "794b74f4",
   "metadata": {},
   "source": [
    "#### Advantages of Duck Typing\n",
    " - Flexibility: Functions can operate on multiple types that have the same behavior.\n",
    " - Code Reusability: Write more generic and reusable code.\n",
    " - Conciseness: No need to write explicit type checks.\n",
    "\n",
    "#### Disadvantages of Duck Typing\n",
    " - Errors at Runtime: Errors related to incorrect types are only caught at runtime, not during compilation.\n",
    " - Less Readability: Without explicit type annotations, understanding the expected behavior of objects may be harder, especially in large codebases.\n",
    "\n",
    "Python introduced \"type hints\" as a way to combine the benefits of duck typing with optional static type checking. You can annotate the expected types, which can be checked with tools like `mypy`, but these annotations don't affect the runtime behavior."
   ]
  },
  {
   "cell_type": "code",
   "execution_count": 91,
   "id": "3900564b",
   "metadata": {},
   "outputs": [],
   "source": [
    "from typing import List\n",
    "\n",
    "def add_vectors(v1: List[float], v2: List[float]) -> List[float]:\n",
    "    return [x + y for x, y in zip(v1, v2)]"
   ]
  },
  {
   "cell_type": "markdown",
   "id": "cbb79d1b",
   "metadata": {},
   "source": [
    "## Docstrings\n",
    "\n",
    "Docstrings are an essential part of writing maintainable and understandable code!!!!\n",
    "\n",
    "A docstring is a string literal that occurs as the first statement in a module, function, class, or method definition. They provide a way to document your functions, classes, and modules, describing what they do and how they should be used. Here is a simple example:"
   ]
  },
  {
   "cell_type": "code",
   "execution_count": null,
   "id": "caf3bc09",
   "metadata": {},
   "outputs": [],
   "source": [
    "def add_vectors(v1, v2):\n",
    "    \"\"\"Adds two vectors element-wise and returns the result.\"\"\"\n",
    "    return [x + y for x, y in zip(v1, v2)]"
   ]
  },
  {
   "cell_type": "markdown",
   "id": "ecf4ee28",
   "metadata": {},
   "source": [
    "For more complex functions or methods, you can use a multi-line docstring that explains in more detail. The PEP 257 guidelines provide a standard way to write these docstrings."
   ]
  },
  {
   "cell_type": "code",
   "execution_count": 93,
   "id": "c80a25d5",
   "metadata": {},
   "outputs": [],
   "source": [
    "def sum_image(image_path):\n",
    "    \"\"\"\n",
    "    Sum an image from the given path over all dimensions.\n",
    "\n",
    "    Parameters:\n",
    "        image_path (str): The path to the image file.\n",
    "\n",
    "    Returns:\n",
    "        float: Sum of the image over all of its dimensions.\n",
    "    \"\"\"\n",
    "    img = nib.load(image_path)\n",
    "    return np.sum(img.get_fdata()).astype(float)"
   ]
  },
  {
   "cell_type": "markdown",
   "id": "da86bcf9",
   "metadata": {},
   "source": [
    "## Inspection\n",
    "\n",
    "Inspection in Python refers to the ability to examine various details about a code object at runtime. This is possible through various functions provided by the inspect module, which is part of Python's standard library.\n",
    "\n",
    "The ability to inspect code objects at runtime is an incredibly powerful tool, especially for debugging, profiling, or writing more dynamic code. Here are some useful functions:\n",
    "\n",
    "#### Examining Source Code\n",
    " - inspect.getsource(object): Returns the source code for a class, method, function, or module.\n",
    " - inspect.getfile(object): Returns the name of the file in which an object was defined.\n",
    "\n",
    "#### Getting Information about Functions and Methods\n",
    " - inspect.signature(callable): Returns a Signature object that contains information about the function/method signature, including parameters and annotations.\n",
    " - inspect.getargspec(function): Returns an ArgSpec object detailing the arguments of a function (note that this function is considered deprecated as of Python 3.8).\n",
    "\n",
    "#### Working with Stack Frames and Tracebacks\n",
    " - inspect.stack(): Returns information about the current stack, such as the function name, line number, and more.\n",
    " - inspect.trace(): Similar to stack(), but returns only the stack information for the caller and other code inside the same thread.\n",
    "\n",
    "And here's an example:"
   ]
  },
  {
   "cell_type": "code",
   "execution_count": 94,
   "id": "780fa06b",
   "metadata": {},
   "outputs": [
    {
     "name": "stdout",
     "output_type": "stream",
     "text": [
      "Name: example_function\n",
      "File: /var/folders/rg/wqvgdwpd2jb1b0vpszd5z2w40000gn/T/ipykernel_74992/3266766537.py\n",
      "Source Code:\n",
      "def example_function(param1, param2):\n",
      "    \"\"\"An example function.\"\"\"\n",
      "    return param1 + param2\n",
      "\n",
      "Signature: (param1, param2)\n"
     ]
    }
   ],
   "source": [
    "import inspect\n",
    "\n",
    "def analyze_function(function):\n",
    "    \"\"\"This code will print details about the example_function\"\"\"\n",
    "    print(\"Name:\", function.__name__)\n",
    "    print(\"File:\", inspect.getfile(function))\n",
    "    print(\"Source Code:\")\n",
    "    print(inspect.getsource(function))\n",
    "    print(\"Signature:\", inspect.signature(function))\n",
    "\n",
    "def example_function(param1, param2):\n",
    "    \"\"\"An example function.\"\"\"\n",
    "    return param1 + param2\n",
    "\n",
    "analyze_function(example_function)"
   ]
  },
  {
   "cell_type": "markdown",
   "id": "3e9a9ede",
   "metadata": {},
   "source": [
    "We can inspect any function we previously defined:"
   ]
  },
  {
   "cell_type": "code",
   "execution_count": 98,
   "id": "e93e20eb",
   "metadata": {},
   "outputs": [
    {
     "name": "stdout",
     "output_type": "stream",
     "text": [
      "Name: sum_image\n",
      "File: /var/folders/rg/wqvgdwpd2jb1b0vpszd5z2w40000gn/T/ipykernel_74992/2655166295.py\n",
      "Source Code:\n",
      "def sum_image(image_path):\n",
      "    \"\"\"\n",
      "    Sum an image from the given path over all dimensions.\n",
      "\n",
      "    Parameters:\n",
      "        image_path (str): The path to the image file.\n",
      "\n",
      "    Returns:\n",
      "        float: Sum of the image over all of its dimensions.\n",
      "    \"\"\"\n",
      "    img = nib.load(image_path)\n",
      "    return np.sum(img.get_fdata()).astype(float)\n",
      "\n",
      "Signature: (image_path)\n",
      "\n",
      "Name: add_vectors\n",
      "File: /var/folders/rg/wqvgdwpd2jb1b0vpszd5z2w40000gn/T/ipykernel_74992/3135730222.py\n",
      "Source Code:\n",
      "def add_vectors(v1: List[float], v2: List[float]) -> List[float]:\n",
      "    return [x + y for x, y in zip(v1, v2)]\n",
      "\n",
      "Signature: (v1: List[float], v2: List[float]) -> List[float]\n"
     ]
    }
   ],
   "source": [
    "analyze_function(sum_image)\n",
    "print(\"\")\n",
    "analyze_function(add_vectors)"
   ]
  },
  {
   "cell_type": "markdown",
   "id": "d4e424fe",
   "metadata": {},
   "source": [
    "Note that if you inspect a function that has already been wrapped by decorators, you will be inspecting the wrapping:"
   ]
  },
  {
   "cell_type": "code",
   "execution_count": 99,
   "id": "a9c01ea0",
   "metadata": {},
   "outputs": [
    {
     "name": "stdout",
     "output_type": "stream",
     "text": [
      "Name: wrapper\n",
      "File: /var/folders/rg/wqvgdwpd2jb1b0vpszd5z2w40000gn/T/ipykernel_74992/3662201407.py\n",
      "Source Code:\n",
      "    def wrapper(*args, **kwargs):\n",
      "        start_time = time.time()\n",
      "        result = func(*args, **kwargs)\n",
      "        end_time = time.time()\n",
      "        print(f\"{func.__name__} took {end_time - start_time} seconds to execute.\")\n",
      "        return result\n",
      "\n",
      "Signature: (*args, **kwargs)\n"
     ]
    }
   ],
   "source": [
    "analyze_function(process_image_vector)"
   ]
  },
  {
   "cell_type": "markdown",
   "id": "7ef0f152",
   "metadata": {},
   "source": [
    "You can even inspect the decorators themselves!"
   ]
  },
  {
   "cell_type": "code",
   "execution_count": 100,
   "id": "1d17f7c1",
   "metadata": {},
   "outputs": [
    {
     "name": "stdout",
     "output_type": "stream",
     "text": [
      "Name: logger_decorator\n",
      "File: /var/folders/rg/wqvgdwpd2jb1b0vpszd5z2w40000gn/T/ipykernel_74992/2352471217.py\n",
      "Source Code:\n",
      "def logger_decorator(level=\"INFO\"):\n",
      "    def decorator(func):\n",
      "        def wrapper(*args, **kwargs):\n",
      "            print(f\"[{level}] Calling {func.__name__}\")\n",
      "            return func(*args, **kwargs)\n",
      "        return wrapper\n",
      "    return decorator\n",
      "\n",
      "Signature: (level='INFO')\n"
     ]
    }
   ],
   "source": [
    "analyze_function(logger_decorator)"
   ]
  },
  {
   "cell_type": "markdown",
   "id": "e9745c33",
   "metadata": {},
   "source": [
    "\n",
    "*This tutorial was put together with the help of GPT-4.*"
   ]
  }
 ],
 "metadata": {
  "kernelspec": {
   "display_name": "Python 3 (ipykernel)",
   "language": "python",
   "name": "python3"
  },
  "language_info": {
   "codemirror_mode": {
    "name": "ipython",
    "version": 3
   },
   "file_extension": ".py",
   "mimetype": "text/x-python",
   "name": "python",
   "nbconvert_exporter": "python",
   "pygments_lexer": "ipython3",
   "version": "3.9.10"
  }
 },
 "nbformat": 4,
 "nbformat_minor": 5
}
