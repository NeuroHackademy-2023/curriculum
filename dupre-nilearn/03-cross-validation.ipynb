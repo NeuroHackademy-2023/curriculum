{
 "cells": [
  {
   "cell_type": "markdown",
   "id": "59806b24",
   "metadata": {},
   "source": [
    "# The importance of cross-validation"
   ]
  },
  {
   "cell_type": "code",
   "execution_count": null,
   "id": "2f131eea",
   "metadata": {
    "tags": [
     "hide-cell"
    ]
   },
   "outputs": [],
   "source": [
    "import warnings\n",
    "warnings.filterwarnings(\"ignore\")"
   ]
  },
  {
   "cell_type": "markdown",
   "id": "6b47ad3e",
   "metadata": {},
   "source": [
    "To date, we have focussed on \"feature engineering\" quite broadly.\n",
    "When applying machine learning to neuroimaging data, however, equally important are (1) the model that we train to generate predictions and (2) how we assess the generalizability of our learned model.\n",
    "In this context, appropriate cross-validation methods are critical for drawing meaningful inferences.\n",
    "However, many neuroscience researchers are not familiar with how to choose an appropriate cross-validation method for their data.\n",
    "\n",
    "```{figure} ../images/poldrack-2020-fig3.jpg\n",
    "---\n",
    "height: 250px\n",
    "name: cv-usage\n",
    "---\n",
    "From {cite}`Poldrack_2020`, depicting results from a review of 100 Studies (2017–2019) claiming prediction on fMRI data.\n",
    "_Panel A_ shows the prevalence of cross-validation methods in this sample.\n",
    "_Panel B_ shows a histogram of associated sample sizes.\n",
    "```\n",
    "\n",
    "We briefly overview what cross-validation aims to achieve, as well as several different strategies for cross-validation that are in use with neuroimaging data.\n",
    "We then provide examples of appropriate and inappropriate cross-validation within the `development_fmri` dataset. \n",
    "\n",
    "## Why cross-validate ?\n",
    "\n",
    "First, let's formalize the problem that cross-validation aims to solve, using notation from {cite}`Little_2017`. \n",
    "\n",
    "For $N$ observations, we can choose a variable $y \\in \\mathbb{R}^n$ that we are trying to predict from data $X \\in \\mathbb{R}^{n \\times p}$ in the presence of confounds $Z \\in \\mathbb{R}^{n \\times k}$⁠.\n",
    "For example, we may have neuroimaging data for 155 participants, from which we are trying to predict their age group as either a child or an adult.\n",
    "There are additional confounding measures in this prediction, both measured and unmeasured.\n",
    "For example, motion is a likely confounding variable, as children often move more in the scanner than adults.\n",
    "\n",
    "In this notation, we can then consider $y$ as a function of X and Z:\n",
    "\n",
    "$$\n",
    "  y = Xw + Zu + \\epsilon\n",
    "$$\n",
    "\n",
    "where $\\epsilon$ is observation noise, and we have assumed a strictly linear relationship between the variables.\n",
    "\n",
    "In such model, $\\epsilon$ may be independent and identically distributed (i.i.d.) even though the relationship between $y$ and $X$ is not i.i.d; for example, if it changes with age group membership.\n",
    "\n",
    "The machine learning problem is to estimate a function $\\hat{f}_{\\{ train \\}}$ that predicts best $y$ from $X$.\n",
    "In other words, we want to minimize an error $\\mathcal{E}(y,\\hat{f}(X))$⁠.\n",
    "\n",
    "The challenge is that we are interested in this error on new, unknown, data.\n",
    "Thus, we would like to know the expectaction of the error for $(y, X)$ drawn from their unknown distribution:\n",
    "\n",
    "$$\n",
    "  \\mathbb{E}_{(y,X)} [\\mathcal{E}(y,\\hat{f}(X))].\n",
    "$$\n",
    "\n",
    "From this we note two important points.\n",
    "  1. Evaluation procedures _must_ test predictions of the model on held-out data that is independent from the data used to train the model.\n",
    "  2. Cross-validation procedures that repeating the train-test split many times to vary the training set also allow use to ask a related question:\n",
    "    given _future_ data to train a machine learning method on a clinical problem, what is the error that I can expect on new data?\n",
    "\n",
    "\n",
    "## Forms of cross-validation\n",
    "\n",
    "Given the importance of cross-validation in machine learning, many different schemes exist.\n",
    "The [scikit-learn documentation has a section](https://scikit-learn.org/stable/modules/cross_validation.html) just on this topic, which is worth reviewing in full.\n",
    "Here, we briefly highlight how cross-validation impacts our estimates in our example dataset.\n",
    "\n",
    "## Testing cross-validation schemes in our example dataset.\n",
    "\n",
    "We'll keep working with the same `development_dataset`, though this time we'll fetch all 155 subjects.\n",
    "Again, we'll derive functional connectivity matrices for each participant, though this time we'll only consider the \"correlation\" measure."
   ]
  },
  {
   "cell_type": "code",
   "execution_count": null,
   "id": "a3b746ec",
   "metadata": {
    "tags": [
     "hide-output"
    ]
   },
   "outputs": [],
   "source": [
    "import numpy as np\n",
    "import matplotlib.pyplot as plt\n",
    "from nilearn import (datasets, maskers, plotting)\n",
    "from nilearn.connectome import ConnectivityMeasure\n",
    "from sklearn.metrics import accuracy_score\n",
    "from sklearn.model_selection import StratifiedShuffleSplit\n",
    "from sklearn.svm import LinearSVC\n",
    "\n",
    "development_dataset = datasets.fetch_development_fmri()\n",
    "msdl_atlas = datasets.fetch_atlas_msdl()\n",
    "\n",
    "masker = maskers.NiftiMapsMasker(\n",
    "    msdl_atlas.maps, resampling_target=\"data\",\n",
    "    t_r=2, detrend=True,\n",
    "    low_pass=0.1, high_pass=0.01).fit()\n",
    "correlation_measure = ConnectivityMeasure(kind='correlation')\n",
    "\n",
    "pooled_subjects = []\n",
    "groups = []  # child or adult\n",
    "\n",
    "for func_file, confound_file, phenotypic in zip(\n",
    "        development_dataset.func,\n",
    "        development_dataset.confounds,\n",
    "        development_dataset.phenotypic):\n",
    "\n",
    "    time_series = masker.transform(func_file, confounds=confound_file)\n",
    "    pooled_subjects.append(time_series)\n",
    "    groups.append(phenotypic['Child_Adult'])\n",
    "\n",
    "_, classes = np.unique(groups, return_inverse=True)\n",
    "pooled_subjects = np.asarray(pooled_subjects)"
   ]
  },
  {
   "cell_type": "markdown",
   "id": "947fefb2",
   "metadata": {},
   "source": [
    "In [our classification example](class-example), we used `StratifiedShuffleSplit` for cross-validation.\n",
    "This method preserves the percentage of samples for each class across train and test splits; that is, the percentages of child and adult participants in our classification example.\n",
    "What if we don't account for age groups when generating our cross-validation folds ?"
   ]
  },
  {
   "cell_type": "code",
   "execution_count": null,
   "id": "a2f3ffd1",
   "metadata": {},
   "outputs": [],
   "source": [
    "# First, re-generate our cross-validation scores for StratifiedShuffleSplit\n",
    "\n",
    "strat_scores = []\n",
    "\n",
    "cv = StratifiedShuffleSplit(n_splits=15, random_state=0, test_size=5)\n",
    "for train, test in cv.split(pooled_subjects, groups):\n",
    "    connectivity = ConnectivityMeasure(kind=\"correlation\", vectorize=True)\n",
    "    connectomes = connectivity.fit_transform(pooled_subjects[train])\n",
    "    classifier = LinearSVC().fit(connectomes, classes[train])\n",
    "    predictions = classifier.predict(\n",
    "        connectivity.transform(pooled_subjects[test]))\n",
    "    strat_scores.append(accuracy_score(classes[test], predictions))\n",
    "print(np.mean(strat_scores))"
   ]
  },
  {
   "cell_type": "code",
   "execution_count": null,
   "id": "89e26f0c",
   "metadata": {},
   "outputs": [],
   "source": [
    "# Then, compare with cross-validation scores for ShuffleSplit\n",
    "\n",
    "from sklearn.model_selection import ShuffleSplit\n",
    "shuffle_scores = []\n",
    "\n",
    "cv = ShuffleSplit(n_splits=15, random_state=0, test_size=5)\n",
    "for train, test in cv.split(pooled_subjects):\n",
    "    connectivity = ConnectivityMeasure(kind=\"correlation\", vectorize=True)\n",
    "    connectomes = connectivity.fit_transform(pooled_subjects[train])\n",
    "    classifier = LinearSVC().fit(connectomes, classes[train])\n",
    "    predictions = classifier.predict(\n",
    "        connectivity.transform(pooled_subjects[test]))\n",
    "    shuffle_scores.append(accuracy_score(classes[test], predictions))\n",
    "print(np.mean(shuffle_scores))"
   ]
  },
  {
   "cell_type": "markdown",
   "id": "7d4fe4f8",
   "metadata": {},
   "source": [
    "## Leave-one-out can give overly optimistic estimates\n",
    "\n",
    "In {cite}`Varoquaux_2017`, Varoquaux and colleagues evaluated the impact of different cross-validation schemes on derived accuracy values.\n",
    "We reproduce their Figure 6 below.\n",
    "\n",
    "```{figure} ../images/varoquaux-2016-fig6.png\n",
    "---\n",
    "height: 400px\n",
    "name: cv-strategies\n",
    "---\n",
    "From {cite}`Varoquaux_2017` shows the difference in accuracy measured by cross-validation and on the held-out\n",
    "validation set, in intra and inter-subject settings, for different cross-validation strategies:\n",
    "(1) leave one sample out, (2) leave one block of samples out (where the block is the natural unit of the experiment: subject or session), and random splits leaving out 20% of the blocks as test data, with (3) 3, (4) 10, or (5) 50 random splits. \n",
    "For inter-subject settings, leave one sample out corresponds to leaving a session out.\n",
    "The box gives the quartiles, while the whiskers give the 5 and 95 percentiles.\n",
    "```\n",
    "\n",
    "We see that cross-validation schemes that \"leak\" information from the train to test set can give overly optimistic predictions.\n",
    "For example, if we leave-one-session-out for predictions within a participant, we see that our estimated prediction accuracy from cross-validation is much higher than our prediction accuracy on a held-out validation set.\n",
    "This is because different sessions from the same participant are highly-correlated;\n",
    "that is, participants are likely to show similar patterns of neural responses across sessions.\n",
    "\n",
    "\n",
    "## Small sample sizes give a wide distribution of errors\n",
    "\n",
    "Another common issue in cross-validation, particularly leave-one-out cross-validation, is the small size of the resulting test set.\n",
    "\n",
    "```{figure} ../images/varoquaux-2017-fig1.png\n",
    "---\n",
    "height: 400px\n",
    "name: test-size\n",
    "---\n",
    "From {cite}`Varoquaux_2018`, this plot shows the distribution of errors between the prediction accuracy as assessed via cross-validation (average across folds) and as measured on a large independent test set for different types of neuroimaging data.\n",
    "Accuracy is reported for two reasonable choices of cross-validation strategy: leave-one-out (leave-one-run-out or leave-one-subject-out in data with multiple runs or subjects), or 50-times repeated splitting of 20% of the data.\n",
    "The bar and whiskers indicate the median and the 5th and 95th percentile. \n",
    "```\n",
    "\n",
    "The results show that these confidence bounds extends at least 10% both ways;\n",
    "that is, there is a 5% chance that it is 10% above the true generalization accuracy and a 5% chance this it is 10% below.\n",
    "This wide confidence bound is a result of an interaction between (1) the large sampling noise in neuroimaging data and (2) the relatively small sample sizes that we provide to the classifier."
   ]
  },
  {
   "cell_type": "code",
   "execution_count": null,
   "id": "462c0b1b",
   "metadata": {},
   "outputs": [],
   "source": [
    "# Compare with cross-validation scores for leave-one-subject-out\n",
    "\n",
    "from sklearn.model_selection import LeaveOneOut\n",
    "loo_scores = []\n",
    "\n",
    "cv = LeaveOneOut()\n",
    "for train, test in cv.split(pooled_subjects):\n",
    "    connectivity = ConnectivityMeasure(kind=\"correlation\", vectorize=True)\n",
    "    connectomes = connectivity.fit_transform(pooled_subjects[train])\n",
    "    classifier = LinearSVC().fit(connectomes, classes[train])\n",
    "    predictions = classifier.predict(\n",
    "        connectivity.transform(pooled_subjects[test]))\n",
    "    loo_scores.append(accuracy_score(classes[test], predictions))\n",
    "print(loo_scores)"
   ]
  },
  {
   "cell_type": "markdown",
   "id": "28fa4e22",
   "metadata": {},
   "source": [
    "```{bibliography} references.bib\n",
    ":style: unsrt\n",
    ":filter: docname in docnames\n",
    "```"
   ]
  }
 ],
 "metadata": {
  "kernelspec": {
   "display_name": "Python 3",
   "language": "python",
   "name": "python3"
  },
  "repository": {
   "url": "https://github.com/emdupre/nha-ml-nimg"
  }
 },
 "nbformat": 4,
 "nbformat_minor": 5
}
