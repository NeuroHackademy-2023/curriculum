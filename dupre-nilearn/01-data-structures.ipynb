{
 "cells": [
  {
   "cell_type": "markdown",
   "id": "eeab7ed4",
   "metadata": {},
   "source": [
    "# An introduction to [`nilearn`](http://nilearn.github.io)"
   ]
  },
  {
   "cell_type": "code",
   "execution_count": null,
   "id": "ba0a85bd",
   "metadata": {
    "tags": [
     "hide-cell"
    ]
   },
   "outputs": [],
   "source": [
    "import warnings\n",
    "warnings.filterwarnings(\"ignore\")"
   ]
  },
  {
   "cell_type": "markdown",
   "id": "bf773831",
   "metadata": {},
   "source": [
    "In this tutorial,\n",
    "we'll see how the Python library `nilearn` allows us to easily perform machine learning analyses with neuroimaging data,\n",
    "specifically MRI and fMRI.\n",
    "\n",
    "```{note}\n",
    "You may notice that the name `nilearn` is reminiscent of [`scikit-learn`](https://scikit-learn.org),\n",
    "a popular Python library for machine learning.\n",
    "This is no accident!\n",
    "Nilearn and scikit-learn were created by the same team,\n",
    "and nilearn is designed to bring machine **LEARN**ing to the NeuroImaging (**NI**) domain.\n",
    "```\n",
    "\n",
    "## Neuroimaging data\n",
    "\n",
    "While common machine learning pipelines assume tabular data, neuroimaging data does not have this structure.\n",
    "Instead, can be considered a 4D tensor (3 spatial dimensions + 1 temporal dimension) that has [both spatial and temporal dependencies](https://www.nature.com/articles/s41593-023-01299-3) between successive data points.\n",
    "That is, knowing _where_ and _when_ something was measured tells you information about the surrounding data points.\n",
    "\n",
    "We also know that neuroimaging data contains a lot of noise that's not blood-oxygen-level dependent (BOLD), such as head motion.\n",
    "Since we don't think that these other noise sources are related to neuronal firing,\n",
    "we often need to consider how we can make sure that our analyses are not driven by these noise sources.\n",
    "\n",
    "These are all considerations that most machine learning software libraries are not designed to deal with!\n",
    "Nilearn therefore plays a crucial role in bringing machine learning concepts to the neuroimaging domain.\n",
    "\n",
    "To get a sense of the problem, the quickest method is to just look at some data.\n",
    "You may have your own data locally that you'd like to work with.\n",
    "Nilearn also provides access to several neuroimaging data sets and atlases (we'll talk about these a bit later).\n",
    "\n",
    "These data sets (and atlases) are only accessible because research groups chose to make their collected data publicly available.\n",
    "We owe them a huge thank you for this!\n",
    "The data set we'll use today was originally collected by [Rebecca Saxe](https://mcgovern.mit.edu/profile/rebecca-saxe/)'s group at MIT and hosted on [OpenNeuro](https://openneuro.org/datasets/ds000228/versions/1.1.0).\n",
    "\n",
    "The nilearn team preprocessed the data set with [fMRIPrep](https://fmriprep.readthedocs.io) and downsampled it to a lower resolution,\n",
    "so it'd be easier to work with.\n",
    "We can learn a lot about this data set directly [from the Nilearn documentation](https://nilearn.github.io/stable/modules/generated/nilearn.datasets.fetch_development_fmri.html).\n",
    "For example, we can see that this data set contains over 150 children and adults watching a short Pixar film.\n",
    "Let's download the first 30 participants."
   ]
  },
  {
   "cell_type": "code",
   "execution_count": null,
   "id": "73e1145e",
   "metadata": {
    "tags": [
     "hide-output"
    ]
   },
   "outputs": [],
   "source": [
    "from nilearn import datasets\n",
    "\n",
    "development_dataset = datasets.fetch_development_fmri(n_subjects=30)"
   ]
  },
  {
   "cell_type": "markdown",
   "id": "8dccaf2e",
   "metadata": {},
   "source": [
    "Now, this `development_dataset` object has several attributes which provide access to the relevant information.\n",
    "For example, `development_dataset.phenotypic` provides access to information about the participants, such as whether they were children or adults.\n",
    "We can use `development_dataset.func` to access the functional MRI (fMRI) data.\n",
    "\n",
    "Let's use the [nibabel library](https://nipy.org/nibabel/) to learn a little bit about this data:"
   ]
  },
  {
   "cell_type": "code",
   "execution_count": null,
   "id": "485f078b",
   "metadata": {},
   "outputs": [],
   "source": [
    "import nibabel as nib\n",
    "\n",
    "img = nib.load(development_dataset.func[0])\n",
    "img.shape"
   ]
  },
  {
   "cell_type": "markdown",
   "id": "156b2576",
   "metadata": {},
   "source": [
    "This means that there are 168 volumes, each with a 3D structure of (50, 59, 50).\n",
    "\n",
    "## Getting into the data: subsetting and viewing\n",
    "\n",
    "Nilearn also provides many methods for plotting this kind of data.\n",
    "For example, we can use [`nilearn.plotting.view_img`](https://nilearn.github.io/modules/generated/nilearn.plotting.view_img.html) to launch at interactive viewer.\n",
    "Because each fMRI run is a 4D time series (three spatial dimensions plus time),\n",
    "we'll also need to subset the data when we plot it, so that we can look at a single 3D image.\n",
    "Nilearn provides (at least) two ways to do this: with [`nilearn.image.index_img`](https://nilearn.github.io/modules/generated/nilearn.image.index_img.html),\n",
    "which allows us to index a particular frame--or several frames--of a time series,\n",
    "and [`nilearn.image.mean_img`](https://nilearn.github.io/modules/generated/nilearn.image.mean_img.html),\n",
    "which allows us to take the mean 3D image over time.\n",
    "\n",
    "Putting these together, we can interatively view the mean image of the first participant using:"
   ]
  },
  {
   "cell_type": "code",
   "execution_count": null,
   "id": "6eeed023",
   "metadata": {},
   "outputs": [],
   "source": [
    "import matplotlib.pyplot as plt\n",
    "from nilearn import image\n",
    "from nilearn import plotting\n",
    "\n",
    "mean_image = image.mean_img(development_dataset.func[0])\n",
    "plotting.view_img(mean_image, threshold=None)"
   ]
  },
  {
   "cell_type": "markdown",
   "id": "def9cd59",
   "metadata": {},
   "source": [
    "## Extracting signal from fMRI volumes\n",
    "\n",
    "As you can see, this data is decidedly not tabular!\n",
    "What we'd like is to extract and transform meaningful features from this data,\n",
    "and store it in a format that we can easily work with.\n",
    "Importantly, we _could_ work with the full time series directly.\n",
    "But we often want to reduce the dimensionality of our data in a structured way.\n",
    "That is, we may only want to consider signal within certain learned or pre-defined regions of interest (ROIs),\n",
    "and when taking into account known sources of noise.\n",
    "To do this, we'll use nilearn's Masker objects.\n",
    "What are the masker objects ?\n",
    "First, let's think about what masking fMRI data is doing:\n",
    "\n",
    "```{figure} ../images/masking.jpg\n",
    "---\n",
    "height: 350px\n",
    "name: masking\n",
    "---\n",
    "Masking fMRI data.\n",
    "```\n",
    "\n",
    "Essentially, we can imagine overlaying a 3D grid on an image.\n",
    "Then, our mask tells us which cubes or “voxels” (like 3D pixels) to sample from.\n",
    "Since our Nifti images are 4D files, we can’t overlay a single grid –\n",
    "instead, we use a series of 3D grids (one for each volume in the 4D file),\n",
    "so we can get a measurement for each voxel at each timepoint.\n",
    "\n",
    "Masker objects allow us to apply these masks!\n",
    "To start, we need to define a mask (or masks) that we'd like to apply.\n",
    "This could correspond to one or many regions of interest.\n",
    "Nilearn provides methods to define your own functional parcellation (using clustering algorithms such as _k-means_),\n",
    "and it also provides access to other atlases that have previously been defined by researchers.\n",
    "\n",
    "## Choosing regions of interest\n",
    "\n",
    "In this tutorial,\n",
    "we'll use the MSDL (multi-subject dictionary learning; {cite}`Varoquaux_2011`) atlas,\n",
    "which defines a set of _probabilistic_ ROIs across the brain."
   ]
  },
  {
   "cell_type": "code",
   "execution_count": null,
   "id": "1884d91e",
   "metadata": {},
   "outputs": [],
   "source": [
    "import numpy as np\n",
    "\n",
    "msdl_atlas = datasets.fetch_atlas_msdl()\n",
    "\n",
    "msdl_coords = msdl_atlas.region_coords\n",
    "n_regions = len(msdl_coords)\n",
    "\n",
    "print(f'MSDL has {n_regions} ROIs, part of the following networks :\\n{np.unique(msdl_atlas.networks)}.')"
   ]
  },
  {
   "cell_type": "markdown",
   "id": "59c1e2fb",
   "metadata": {},
   "source": [
    "Nilearn ships with several atlases commonly used in the field,\n",
    "including the Schaefer atlas and the Harvard-Oxford atlas.\n",
    "\n",
    "It also provides us with easy ways to view these atlases directly.\n",
    "Because MSDL is a probabilistic atlas, we can view it using:"
   ]
  },
  {
   "cell_type": "code",
   "execution_count": null,
   "id": "24aa01dd",
   "metadata": {},
   "outputs": [],
   "source": [
    "plotting.plot_prob_atlas(msdl_atlas.maps)"
   ]
  },
  {
   "cell_type": "markdown",
   "id": "27bfc484",
   "metadata": {},
   "source": [
    "## A quick side-note on the NiftiMasker zoo\n",
    "\n",
    "We'd like to supply these ROIs to a Masker object.\n",
    "All Masker objects share the same basic structure and functionality,\n",
    "but each is designed to work with a different kind of ROI.\n",
    "\n",
    "The canonical [`nilearn.maskers.NiftiMasker`](https://nilearn.github.io/modules/generated/nilearn.maskers.NiftiMasker.html) works well if we want to apply a single mask to the data,\n",
    "like a single region of interest.\n",
    "\n",
    "But what if we actually have several ROIs that we'd like to apply to the data all at once?\n",
    "If these ROIs are non-overlapping,\n",
    "as in \"hard\" or deterministic parcellations,\n",
    "then we can use [`nilearn.maskers.NiftiLabelsMasker`](https://nilearn.github.io/modules/generated/nilearn.maskers.NiftiLabelsMasker.html).\n",
    "Because we're working with \"soft\" or probabilistic ROIs,\n",
    "we can instead supply these ROIs to [`nilearn.maskers.NiftiMapsMasker`](https://nilearn.github.io/modules/generated/nilearn.maskers.NiftiMapsMasker.html).\n",
    "\n",
    "For a full list of the available Masker objects,\n",
    "see [the Nilearn documentation](https://nilearn.github.io/modules/reference.html#module-nilearn.maskers).\n",
    "\n",
    "## Applying a Masker object\n",
    "\n",
    "We can supply our MSDL atlas-defined ROIs to the `NiftiMapsMasker` object,\n",
    "along with resampling, filtering, and detrending parameters."
   ]
  },
  {
   "cell_type": "code",
   "execution_count": null,
   "id": "0e137011",
   "metadata": {},
   "outputs": [],
   "source": [
    "from nilearn import maskers\n",
    "\n",
    "masker = maskers.NiftiMapsMasker(\n",
    "    msdl_atlas.maps, resampling_target=\"data\",\n",
    "    t_r=2, detrend=True,\n",
    "    low_pass=0.1, high_pass=0.01).fit()"
   ]
  },
  {
   "cell_type": "markdown",
   "id": "62c82adb",
   "metadata": {},
   "source": [
    "One thing you might notice from the above code is that immediately after defining the masker object,\n",
    "we call the `.fit` method on it.\n",
    "This method may look familiar if you've previously worked with scikit-learn estimators!\n",
    "\n",
    "You'll note that we're not supplying any data to this `.fit` method;\n",
    "that's because we're fitting the Masker to the provided ROIs, rather than to our data.\n",
    "\n",
    "## Dimensions, dimensions\n",
    "\n",
    "We can use this fitted masker to transform our data."
   ]
  },
  {
   "cell_type": "code",
   "execution_count": null,
   "id": "1a7b49ac",
   "metadata": {},
   "outputs": [],
   "source": [
    "roi_time_series = masker.transform(development_dataset.func[0])\n",
    "roi_time_series.shape"
   ]
  },
  {
   "cell_type": "markdown",
   "id": "77e39848",
   "metadata": {},
   "source": [
    "If you'll remember, when we first looked at the data its original dimensions were (50, 59, 50, 168).\n",
    "Now, it has a shape of (168, 39).\n",
    "What happened?!\n",
    "\n",
    "Rather than providing information on every voxel within our original 3D grid,\n",
    "we're now only considering those voxels that fall in our 39 regions of interest provided by the MSDL atlas and aggregating across voxels within those ROIS.\n",
    "This reduces each 3D volume from a dimensionality of (50, 59, 50) to just 39,\n",
    "for our 39 provided ROIs.\n",
    "\n",
    "You'll also see that the \"dimensions flipped;\"\n",
    "that is, that we've transposed the matrix such that time is now the first rather than second dimension.\n",
    "This follows the scikit-learn convention that rows in a data matrix are _samples_,\n",
    "and columns in a data matrix are _features_.\n",
    "\n",
    "```{figure} ../images/samples-features.png\n",
    "---\n",
    "height: 250px\n",
    "name: samples-features\n",
    "---\n",
    "The scikit-learn conventions for feature and target matrices.\n",
    "From Jake VanderPlas's _Python Data Science Handbook_.\n",
    "```\n",
    "\n",
    "One of the nice things about working with nilearn is that it will impose this convention for you,\n",
    "so you don't accidentally flip your dimensions when using a scikit-learn model!\n",
    "\n",
    "## Creating and viewing a connectome\n",
    "\n",
    "The simplest and most commonly used kind of functional connectivity is pairwise correlation between ROIs.\n",
    "We can estimate it using [`nilearn.connectome.ConnectivityMeasure`](https://nilearn.github.io/modules/generated/nilearn.connectome.ConnectivityMeasure.html)."
   ]
  },
  {
   "cell_type": "code",
   "execution_count": null,
   "id": "d05bdea8",
   "metadata": {},
   "outputs": [],
   "source": [
    "from nilearn.connectome import ConnectivityMeasure\n",
    "\n",
    "correlation_measure = ConnectivityMeasure(kind='correlation')\n",
    "correlation_matrix = correlation_measure.fit_transform([roi_time_series])[0]"
   ]
  },
  {
   "cell_type": "markdown",
   "id": "151889d0",
   "metadata": {},
   "source": [
    "We can then plot this functional connectivity matrix:"
   ]
  },
  {
   "cell_type": "code",
   "execution_count": null,
   "id": "80a4c283",
   "metadata": {},
   "outputs": [],
   "source": [
    "np.fill_diagonal(correlation_matrix, 0)\n",
    "plotting.plot_matrix(correlation_matrix, labels=msdl_atlas.labels,\n",
    "                     vmax=0.8, vmin=-0.8, colorbar=True)"
   ]
  },
  {
   "cell_type": "markdown",
   "id": "a2a0b378",
   "metadata": {},
   "source": [
    "Or view it as an embedded connectome:"
   ]
  },
  {
   "cell_type": "code",
   "execution_count": null,
   "id": "2f42e094",
   "metadata": {},
   "outputs": [],
   "source": [
    "plotting.view_connectome(correlation_matrix, edge_threshold=0.2,\n",
    "                         node_coords=msdl_atlas.region_coords)"
   ]
  },
  {
   "cell_type": "markdown",
   "id": "0d18ac11",
   "metadata": {},
   "source": [
    "## Accounting for noise sources\n",
    "\n",
    "As we've already seen,\n",
    "maskers also allow us to perform other useful operations beyond just masking our data.\n",
    "One important processing step is correcting for measured signals of no interest (e.g., head motion).\n",
    "Our `development_dataset` also includes several of these signals of no interest that were generated during fMRIPrep pre-processing.\n",
    "We can access these with the `confounds` attribute,\n",
    "using `development_dataset.confounds`.\n",
    "\n",
    "Let's quickly check what these look like for our first participant:"
   ]
  },
  {
   "cell_type": "code",
   "execution_count": null,
   "id": "b612de16",
   "metadata": {},
   "outputs": [],
   "source": [
    "import pandas as pd\n",
    "\n",
    "pd.read_table(development_dataset.confounds[0]).head()"
   ]
  },
  {
   "cell_type": "markdown",
   "id": "c4d54507",
   "metadata": {},
   "source": [
    "We can see that there are several different kinds of noise sources included!\n",
    "This is actually a subset of all possible fMRIPrep generated confounds that the Nilearn developers have pre-selected.\n",
    "We could access the full list by passing the argument `reduce_confounds=False` to our original call downloading the `development_dataset`.\n",
    "For most analyses, this list of confounds is reasonable, so we'll use these Nilearn provided defaults.\n",
    "For your own analyses, make sure to check which confounds you're using!\n",
    "\n",
    "Importantly, we can pass these confounds directly to our masker object:"
   ]
  },
  {
   "cell_type": "code",
   "execution_count": null,
   "id": "63596c71",
   "metadata": {},
   "outputs": [],
   "source": [
    "corrected_roi_time_series = masker.transform(\n",
    "    development_dataset.func[0], confounds=development_dataset.confounds[0])\n",
    "corrected_correlation_matrix = correlation_measure.fit_transform(\n",
    "    [corrected_roi_time_series])[0]\n",
    "np.fill_diagonal(corrected_correlation_matrix, 0)\n",
    "plotting.plot_matrix(corrected_correlation_matrix, labels=msdl_atlas.labels,\n",
    "                     vmax=0.8, vmin=-0.8, colorbar=True)"
   ]
  },
  {
   "cell_type": "markdown",
   "id": "399cc67d",
   "metadata": {},
   "source": [
    "As before, we can also view this functional connectivity matrix as a connectome:"
   ]
  },
  {
   "cell_type": "code",
   "execution_count": null,
   "id": "86f7771a",
   "metadata": {},
   "outputs": [],
   "source": [
    "plotting.view_connectome(corrected_correlation_matrix, edge_threshold=0.2,\n",
    "                         node_coords=msdl_atlas.region_coords)"
   ]
  },
  {
   "cell_type": "markdown",
   "id": "cf800b13",
   "metadata": {},
   "source": [
    "In both the matrix and connectome forms,\n",
    "we can see a big difference when including the confounds!\n",
    "This is an important reminder to make sure that your data are cleaned of any possible sources of noise _before_ running a machine learning analysis.\n",
    "Otherwise, you might be classifying participants on e.g. amount of head motion rather than a feature of interest!\n",
    "\n",
    "```{bibliography} references.bib\n",
    ":style: unsrt\n",
    ":filter: docname in docnames\n",
    "```"
   ]
  }
 ],
 "metadata": {
  "kernelspec": {
   "display_name": "Python 3",
   "language": "python",
   "name": "python3"
  },
  "repository": {
   "url": "https://github.com/emdupre/nha-ml-nimg"
  }
 },
 "nbformat": 4,
 "nbformat_minor": 5
}
