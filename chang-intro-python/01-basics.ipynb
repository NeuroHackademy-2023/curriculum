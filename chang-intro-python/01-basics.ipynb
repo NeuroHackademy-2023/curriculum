{
 "cells": [
  {
   "cell_type": "markdown",
   "id": "577f0843",
   "metadata": {},
   "source": [
    "## Variables and basic types\n",
    "\n",
    "It's common to introduce programming by first talking about variables, and we won't\n",
    "break with this convention. A variable, as you probably already know, is a store\n",
    "of data that can take on different values (hence the name *variable*), and is\n",
    "typically associated with a fixed name.\n",
    "\n",
    "### Declaring variables\n",
    "\n",
    "In Python, we declare a variable by writing its name and then assigning it a\n",
    "value with the equal (`=`) sign:"
   ]
  },
  {
   "cell_type": "code",
   "execution_count": 1,
   "id": "7dd2925c",
   "metadata": {},
   "outputs": [],
   "source": [
    "my_favorite_variable = 3"
   ]
  },
  {
   "cell_type": "markdown",
   "id": "b703d46a",
   "metadata": {},
   "source": [
    "Notice that when we initialize a variable, we don't declare its *type* anywhere.\n",
    "If you're familiar with *statically typed* languages like C++ or Java, you're\n",
    "probably used to having to specify what type of data a variable holds when you\n",
    "create it. For example, you might write `int my_favorite_number = 3` to indicate\n",
    "that the variable is an integer. In Python, we don't need to do this. Python is\n",
    "*dynamically typed*, meaning that the type of each variable will be determined\n",
    "on the fly, once we start executing our program. It also means we can change the\n",
    "type of the variable on the fly, without anything bad happening. For example, by\n",
    "over-writing it with a character string value, instead of the integer value that\n",
    "was once stored in this variable:"
   ]
  },
  {
   "cell_type": "code",
   "execution_count": 2,
   "id": "88a10aab",
   "metadata": {},
   "outputs": [],
   "source": [
    "my_favorite_variable = \"zzzzzzz\""
   ]
  },
  {
   "cell_type": "markdown",
   "id": "3ff556b0",
   "metadata": {},
   "source": [
    "### Printing variables\n",
    "\n",
    "We can examine the contents of a variable at any time using the built-in\n",
    "`print()` function:"
   ]
  },
  {
   "cell_type": "code",
   "execution_count": 3,
   "id": "6e3a882f",
   "metadata": {},
   "outputs": [
    {
     "name": "stdout",
     "output_type": "stream",
     "text": [
      "zzzzzzz\n"
     ]
    }
   ],
   "source": [
    "print(my_favorite_variable)"
   ]
  },
  {
   "cell_type": "markdown",
   "id": "5dd549bb",
   "metadata": {},
   "source": [
    "If we're working in an interactive environment like a Jupyter notebook, we may\n",
    "not even need to call `print()`, as we'll automatically get the output of the\n",
    "last line evaluated by the Python interpreter:"
   ]
  },
  {
   "cell_type": "code",
   "execution_count": 4,
   "id": "532da422",
   "metadata": {},
   "outputs": [
    {
     "data": {
      "text/plain": [
       "'zzzzzzz'"
      ]
     },
     "execution_count": 4,
     "metadata": {},
     "output_type": "execute_result"
    }
   ],
   "source": [
    "# this line won't be printed, because it isn't the last line in the notebook cell to be evaluated\n",
    "\"this line won't be printed\"\n",
    "\n",
    "# but this one will\n",
    "my_favorite_variable"
   ]
  },
  {
   "cell_type": "markdown",
   "id": "8a31449c",
   "metadata": {},
   "source": [
    "As you can see in this example, the hash sign (`#`) is used for comments. That\n",
    "means that any text that is after a `#` is ignored by the Python interpreter and\n",
    "not evaluated.\n",
    "\n",
    "### Built-in types"
   ]
  },
  {
   "cell_type": "markdown",
   "id": "2346ab42",
   "metadata": {},
   "source": [
    "All general-purpose programming languages provide the programmer with different *types* of variables—things like strings, integers, Booleans, and so on. These are the most basic building blocks a program is made up of. Python is no different and provides us with several [built-in types](https://docs.python.org/3/library/stdtypes.html). Let's take a quick look at some of these.\n",
    "\n",
    "#### Integers\n",
    "\n",
    "An integer is a numerical data type that can only take on finite whole numbers\n",
    "as its value. For example:"
   ]
  },
  {
   "cell_type": "code",
   "execution_count": 5,
   "id": "3052550e",
   "metadata": {},
   "outputs": [],
   "source": [
    "number_of_subjects = 20\n",
    "number_of_timepoints = 1000\n",
    "number_of_scans = 10"
   ]
  },
  {
   "cell_type": "markdown",
   "id": "4ebb7afb",
   "metadata": {},
   "source": [
    "Any time we see a number written somewhere in Python code, and it's composed\n",
    "only of digits (no decimals, quotes, etc.), we know we're dealing with an\n",
    "integer.\n",
    "\n",
    "In Python, integers support all of the standard arithmetic operators you're\n",
    "familiar with--addition, subtraction, multiplication, etc. For example, we can\n",
    "multiply the two variables we just defined:"
   ]
  },
  {
   "cell_type": "code",
   "execution_count": 6,
   "id": "d8f646ec",
   "metadata": {},
   "outputs": [
    {
     "data": {
      "text/plain": [
       "20000"
      ]
     },
     "execution_count": 6,
     "metadata": {},
     "output_type": "execute_result"
    }
   ],
   "source": [
    "number_of_subjects * number_of_timepoints"
   ]
  },
  {
   "cell_type": "markdown",
   "id": "2ba1f506",
   "metadata": {},
   "source": [
    "Or divide one integer by another:"
   ]
  },
  {
   "cell_type": "code",
   "execution_count": 7,
   "id": "9bfdf798",
   "metadata": {},
   "outputs": [
    {
     "data": {
      "text/plain": [
       "100.0"
      ]
     },
     "execution_count": 7,
     "metadata": {},
     "output_type": "execute_result"
    }
   ],
   "source": [
    "number_of_timepoints / number_of_scans"
   ]
  },
  {
   "cell_type": "markdown",
   "id": "e7cfe6ec",
   "metadata": {},
   "source": [
    "Notice that the result of the above division is *not* itself an integer! The\n",
    "decimal point in the result gives away that the result is of a different type -- a\n",
    "*float*."
   ]
  },
  {
   "cell_type": "markdown",
   "id": "3bfc4a4c",
   "metadata": {},
   "source": [
    "#### Floats\n",
    "\n",
    "A float (short for *floating point number*) is a numerical data type used to represent\n",
    "real numbers. As we just saw, floats are identified in Python by the presence of\n",
    "a decimal."
   ]
  },
  {
   "cell_type": "code",
   "execution_count": 8,
   "id": "6152de45",
   "metadata": {},
   "outputs": [],
   "source": [
    "roughly_pi = 3.14\n",
    "mean_participant_age = 24.201843727"
   ]
  },
  {
   "cell_type": "markdown",
   "id": "d07461d2",
   "metadata": {},
   "source": [
    "All of the standard arithmetic operators work on floats just like they do on\n",
    "ints:"
   ]
  },
  {
   "cell_type": "code",
   "execution_count": 9,
   "id": "bc8406e6",
   "metadata": {},
   "outputs": [
    {
     "name": "stdout",
     "output_type": "stream",
     "text": [
      "6.28\n"
     ]
    }
   ],
   "source": [
    "print(roughly_pi * 2)"
   ]
  },
  {
   "cell_type": "markdown",
   "id": "b5eecc50",
   "metadata": {},
   "source": [
    "We can also freely combine ints and floats in most operations:"
   ]
  },
  {
   "cell_type": "code",
   "execution_count": 10,
   "id": "3c3776fd",
   "metadata": {},
   "outputs": [
    {
     "name": "stdout",
     "output_type": "stream",
     "text": [
      "11.0\n"
     ]
    }
   ],
   "source": [
    "print(0.001 * 10000 + 1)"
   ]
  },
  {
   "cell_type": "markdown",
   "id": "671de8f4",
   "metadata": {},
   "source": [
    "Observe that the output is of type `float`, even though the value is a whole\n",
    "number, and hence could in principle have been stored as an `int` without any\n",
    "loss of information. This is a general rule in Python: arithmetic operations\n",
    "involving a mix of `int` and `float` operands will almost always return a\n",
    "`float`. Some operations will return a `float` even if all operands are `int`s,\n",
    "as we saw above in the case of division.\n",
    "\n",
    "#### Exercise\n",
    "\n",
    "The Python built-in `type()` function reports to you the type of a variable that is passed to it. Use the `type` function to verify that `number_of_subjects * number_of_timepoints` is a Python integer, while `number_of_timepoints / number_of_scans` is not. Why do you think that Python changes the result of a division into a variable of type float?\n",
    "\n",
    "#### Strings\n",
    "\n",
    "A string is a sequence of characters. In Python, we define strings by enclosing\n",
    "zero or more characters inside a pair of quotes (either single or double quotes\n",
    "work equally well, so you can use whichever you prefer; just make sure the\n",
    "opening and closing quotes match!)."
   ]
  },
  {
   "cell_type": "code",
   "execution_count": 11,
   "id": "3d9e0e94",
   "metadata": {},
   "outputs": [],
   "source": [
    "country = \"Madagascar\"\n",
    "ex_planet = 'Pluto'"
   ]
  },
  {
   "cell_type": "markdown",
   "id": "08e08aec",
   "metadata": {},
   "source": [
    "Python has very rich built-in functionality for working with strings. Let's look\n",
    "at some of the things we can do.\n",
    "\n",
    "We can calculate the length of a string:"
   ]
  },
  {
   "cell_type": "code",
   "execution_count": 12,
   "id": "16c16be8",
   "metadata": {},
   "outputs": [
    {
     "data": {
      "text/plain": [
       "10"
      ]
     },
     "execution_count": 12,
     "metadata": {},
     "output_type": "execute_result"
    }
   ],
   "source": [
    "len(country)"
   ]
  },
  {
   "cell_type": "markdown",
   "id": "3736e837",
   "metadata": {},
   "source": [
    "Or convert it to uppercase (try also `.lower()` and `.capitalize()`):"
   ]
  },
  {
   "cell_type": "code",
   "execution_count": 13,
   "id": "b425c578",
   "metadata": {},
   "outputs": [
    {
     "data": {
      "text/plain": [
       "'MADAGASCAR'"
      ]
     },
     "execution_count": 13,
     "metadata": {},
     "output_type": "execute_result"
    }
   ],
   "source": [
    "country.upper()"
   ]
  },
  {
   "cell_type": "markdown",
   "id": "6f4f67cf",
   "metadata": {},
   "source": [
    "We can count the number of occurrences of a substring (in this case, a single letter `a`):"
   ]
  },
  {
   "cell_type": "code",
   "execution_count": 14,
   "id": "6f5ccdb8",
   "metadata": {},
   "outputs": [
    {
     "data": {
      "text/plain": [
       "4"
      ]
     },
     "execution_count": 14,
     "metadata": {},
     "output_type": "execute_result"
    }
   ],
   "source": [
    "country.count(\"a\")"
   ]
  },
  {
   "cell_type": "markdown",
   "id": "cb5ed3bc",
   "metadata": {},
   "source": [
    "Or replace a matching substring with another substring:"
   ]
  },
  {
   "cell_type": "code",
   "execution_count": 15,
   "id": "bfc5c675",
   "metadata": {},
   "outputs": [
    {
     "data": {
      "text/plain": [
       "'Madagastruck'"
      ]
     },
     "execution_count": 15,
     "metadata": {},
     "output_type": "execute_result"
    }
   ],
   "source": [
    "country.replace(\"car\", \"truck\")"
   ]
  },
  {
   "cell_type": "markdown",
   "id": "6635cfa7",
   "metadata": {},
   "source": [
    "One thing that you might notice in the above examples is that they seem to use\n",
    "two different syntaxes. In the first example, it looks like `len()` is a\n",
    "*function* that takes a string as its parameter (or *argument*). By contrast,\n",
    "the last 3 examples use a different \"dot\" notation, where the function comes\n",
    "after the string (as in `country.upper()`). If you find this puzzling, don't\n",
    "worry! We'll talk about the distinction in much more detail below.\n",
    "\n",
    "#### Exercise\n",
    "\n",
    "Write code to count how many times the combination \"li\" appears in the string \"supercalifragilisticexpialidocious\". Assign this value into a new variable named `number_of_li` and print its value.\n",
    "\n",
    "#### Booleans\n",
    "\n",
    "Booleans operate pretty much the same in Python as in other languages; the main\n",
    "thing to recognize is that they can only take on the values `True` or `False`.\n",
    "Not `true` or `false`, not `\"true\"` or `\"false\"`. The only values a boolean can\n",
    "take on in Python are `True` and `False`, written exactly that way. For example:"
   ]
  },
  {
   "cell_type": "code",
   "execution_count": 16,
   "id": "c259c8b3",
   "metadata": {},
   "outputs": [],
   "source": [
    "enjoying_book = True"
   ]
  },
  {
   "cell_type": "markdown",
   "id": "0d3f833a",
   "metadata": {},
   "source": [
    "One of the ways that boolean values are typically generated in Python programs\n",
    "is through logical or comparison operations. For example, we can ask whether the\n",
    "length of a given string is greater than a particular integer:"
   ]
  },
  {
   "cell_type": "code",
   "execution_count": 17,
   "id": "ab580105",
   "metadata": {},
   "outputs": [
    {
     "name": "stdout",
     "output_type": "stream",
     "text": [
      "True\n"
     ]
    }
   ],
   "source": [
    "is_longer_than_2 = len(\"apple\") > 2\n",
    "print(is_longer_than_2)"
   ]
  },
  {
   "cell_type": "markdown",
   "id": "9c380be2",
   "metadata": {},
   "source": [
    "Or whether the product of the first two numbers below equals the third..."
   ]
  },
  {
   "cell_type": "code",
   "execution_count": 18,
   "id": "812118e2",
   "metadata": {},
   "outputs": [
    {
     "name": "stdout",
     "output_type": "stream",
     "text": [
      "False\n"
     ]
    }
   ],
   "source": [
    "is_the_product = 719 * 1.0002 == 2000\n",
    "print(is_the_product)"
   ]
  },
  {
   "cell_type": "markdown",
   "id": "cd510f75",
   "metadata": {},
   "source": [
    "Or, we might want to know whether the conjunction of several sub-expressions is `True` or `False`:"
   ]
  },
  {
   "cell_type": "code",
   "execution_count": 19,
   "id": "7a503e4b",
   "metadata": {},
   "outputs": [
    {
     "data": {
      "text/plain": [
       "True"
      ]
     },
     "execution_count": 19,
     "metadata": {},
     "output_type": "execute_result"
    }
   ],
   "source": [
    "(\"car\" in country) and (len(\"apple\") > 2) and (15 / 2 > 7)"
   ]
  },
  {
   "cell_type": "markdown",
   "id": "58ba6953",
   "metadata": {},
   "source": [
    "This last example, simple as it is, illustrates a nice feature of Python: its\n",
    "syntax is more readable than that of most other programming languages. In the\n",
    "above example, we ask if the substring `\"car\"` is contained in the string\n",
    "`country` using the English language word `in`. Similarly, Python's logical\n",
    "conjunction operator is the English word `and`. This means that we can often\n",
    "quickly figure out -- or at least, vaguely intuit -- what a piece of Python code\n",
    "does.\n",
    "\n",
    "#### Exercise\n",
    "\n",
    "Some integer values are equivalent to the Python Boolean values. Use the\n",
    "equality (`==`) operator to find integers that are equivalent to `True` and that\n",
    "are equivalent to `False`.\n",
    "\n",
    "\n",
    "#### None\n",
    "\n",
    "In addition to these usual suspects, Python also has a type called `None`.\n",
    "`None` is special and indicates that no value has been assigned to a variable.\n",
    "It's roughly equivalent to the `null` value found in many other languages."
   ]
  },
  {
   "cell_type": "code",
   "execution_count": 20,
   "id": "d856d759",
   "metadata": {},
   "outputs": [],
   "source": [
    "name = None"
   ]
  },
  {
   "cell_type": "markdown",
   "id": "7e3336f1",
   "metadata": {},
   "source": [
    "Note: `None` and `False` are *not* the same thing!"
   ]
  },
  {
   "cell_type": "code",
   "execution_count": 21,
   "id": "1d58045c",
   "metadata": {},
   "outputs": [
    {
     "data": {
      "text/plain": [
       "False"
      ]
     },
     "execution_count": 21,
     "metadata": {},
     "output_type": "execute_result"
    }
   ],
   "source": [
    "name == False"
   ]
  },
  {
   "cell_type": "markdown",
   "id": "5e9015c7",
   "metadata": {},
   "source": [
    "Also, assigning the value `None` to a variable is not the same as not defining\n",
    "the variable in the first place. Instead, a variable that is set to `None` is\n",
    "something that we can point to in our program without raising an error but\n",
    "doesn't carry any particular value. These are subtle but important points, and\n",
    "in later chapters, we'll use code where the difference becomes important.\n",
    "\n",
    "## Collections\n",
    "\n",
    "Most code we're going to want to write in Python will require more than just\n",
    "integers, floats, strings, and booleans. We're going to need more complex data\n",
    "structures, or *collections*, that can hold other objects (like strings,\n",
    "integers, etc.) and enable us to easily manipulate them in various ways. Python\n",
    "provides built-in support for many common data structures, and others can be\n",
    "found in modules that come installed together with the language itself -- the\n",
    "so-called \"standard library\" (e.g., in the\n",
    "[collections](https://docs.python.org/3/library/collections.html) module).\n",
    "\n",
    "### Lists\n",
    "\n",
    "Lists are the most common collection we'll work with in Python. A list is a\n",
    "*heterogeneous* collection of objects. By heterogeneous, we mean that a list can\n",
    "contain elements of different types. It doesn't have to contain only strings or\n",
    "only integers; it can contain a mix of the two, as well as all kinds of other\n",
    "types.\n",
    "\n",
    "#### List initialization\n",
    "\n",
    "To create a new list, we enclose one or more values between square brackets (`[`\n",
    "and `]`). Elements are separated by commas. Here is how we initialize a list\n",
    "containing 4 elements of different types (an integer, a float, and two strings)."
   ]
  },
  {
   "cell_type": "code",
   "execution_count": 22,
   "id": "05246540",
   "metadata": {},
   "outputs": [],
   "source": [
    "random_stuff = [11, \"apple\", 7.14, \"banana\"]"
   ]
  },
  {
   "cell_type": "markdown",
   "id": "40371fa5",
   "metadata": {},
   "source": [
    "#### List indexing\n",
    "\n",
    "Lists are *ordered* collections, by which we mean that a list retains a\n",
    "memory of the position each of its elements was inserted in. The order of\n",
    "elements won't change unless we explicitly change it. This allows us to access\n",
    "individual elements in the list directly, by specifying their position in the\n",
    "collection, or *index*.\n",
    "\n",
    "To access the $i^{th}$ element in a list, we enclose the index $i$ in square\n",
    "brackets. Note that Python uses 0-based indexing (i.e., the first element in the\n",
    "sequence has index 0), and not 1 as in some other data-centric languages\n",
    "(Julia, R, etc.). For example, it means that the following operation returns\n",
    "the second item in the list and not the first."
   ]
  },
  {
   "cell_type": "code",
   "execution_count": 23,
   "id": "5a25548c",
   "metadata": {},
   "outputs": [
    {
     "data": {
      "text/plain": [
       "'apple'"
      ]
     },
     "execution_count": 23,
     "metadata": {},
     "output_type": "execute_result"
    }
   ],
   "source": [
    "random_stuff[1]"
   ]
  },
  {
   "cell_type": "markdown",
   "id": "e1cb5ad4",
   "metadata": {},
   "source": [
    "Many bitter wars have been fought on the internet over whether 0-based or\n",
    "1-based indexing is better. We're not here to take a philosophical stand on this\n",
    "issue; the fact of the matter is that Python indexing is 0-based, and that's not\n",
    "going to change. So whether you like it or not, you'll need to make your peace\n",
    "with the idea that indexing starts from 0 while you're reading this book.\n",
    "\n",
    "#### Exercise\n",
    "\n",
    "Indexing with negative numbers: in addition to indexing from the beginning of the list, we can index from the end of the list using negative numbers (e.g., `random_stuff[-1]`). Experiment indexing into the list `random_stuff` with negative numbers. What is the negative number index for the last item in the list? What is the negative number index for the first item in the list? Can you write code that would use a negative number to index the first item in the list, without advance knowledge of its length?\n",
    "\n",
    "#### List slicing\n",
    "\n",
    "Indexing is nice, but what if we want to pull more than one element at a time\n",
    "out of our list? Can we easily retrieve only part of a list? The answer is yes!\n",
    "We can *slice* a list, and get back another list that contains multiple\n",
    "contiguous elements of the original list, using the colon (`:`) operator."
   ]
  },
  {
   "cell_type": "code",
   "execution_count": 24,
   "id": "c4e8ec49",
   "metadata": {},
   "outputs": [
    {
     "data": {
      "text/plain": [
       "['apple', 7.14]"
      ]
     },
     "execution_count": 24,
     "metadata": {},
     "output_type": "execute_result"
    }
   ],
   "source": [
    "random_stuff[1:3]"
   ]
  },
  {
   "cell_type": "markdown",
   "id": "3b9211d2",
   "metadata": {},
   "source": [
    "In the list-slicing syntax, the number before the colon indicates the start\n",
    "position, and the number after the colon indicates the end position. Note that\n",
    "the start is inclusive and the end is exclusive. That is, in the above example,\n",
    "we get back the 2nd and 3rd elements in the list, but *not* the 4th. If it\n",
    "helps, you can read the `1:3` syntax as saying *I want all the elements in the\n",
    "list starting at index `1` and stopping just before index `3`*."
   ]
  },
  {
   "cell_type": "markdown",
   "id": "f610629e",
   "metadata": {},
   "source": [
    "#### Assigning values to list elements\n",
    "\n",
    "Lists are *mutable* objects, meaning that they can be modified after they've\n",
    "been created. In particular, we very often want to replace a particular list\n",
    "value with a different value. To overwrite an element at a given index, we\n",
    "assign a value to it, using the same indexing syntax we saw above:"
   ]
  },
  {
   "cell_type": "code",
   "execution_count": 25,
   "id": "806da80e",
   "metadata": {},
   "outputs": [
    {
     "name": "stdout",
     "output_type": "stream",
     "text": [
      "Value of first element before re-assignment: 11\n",
      "Value of first element after re-assignment: eleventy\n"
     ]
    }
   ],
   "source": [
    "print(\"Value of first element before re-assignment:\", random_stuff[0])\n",
    "\n",
    "random_stuff[0] = \"eleventy\"\n",
    "\n",
    "print(\"Value of first element after re-assignment:\", random_stuff[0])"
   ]
  },
  {
   "cell_type": "markdown",
   "id": "6146f82c",
   "metadata": {},
   "source": [
    "#### Appending to a list\n",
    "\n",
    "It's also very common to keep appending variables to an ever-growing list. We\n",
    "can add a single element to a list via the `.append()` function (notice again\n",
    "that we are calling a function using the 'dot' notation, we promise that we'll\n",
    "come back to that later!)."
   ]
  },
  {
   "cell_type": "code",
   "execution_count": 26,
   "id": "591ed6f4",
   "metadata": {},
   "outputs": [
    {
     "name": "stdout",
     "output_type": "stream",
     "text": [
      "['eleventy', 'apple', 7.14, 'banana', 88]\n"
     ]
    }
   ],
   "source": [
    "random_stuff.append(88)\n",
    "print(random_stuff)"
   ]
  },
  {
   "cell_type": "markdown",
   "id": "83c3782c",
   "metadata": {},
   "source": [
    "#### Exercise\n",
    "\n",
    "There are several ways to combine lists, including the `append` function you saw above, as well as the `extend` method. You can also add lists together using the addition (`+`) operator.\n",
    "\n",
    "Given the following two lists:\n",
    "\n",
    "`list1 = [1, 2, 3]`\n",
    "\n",
    "`list2 = [4, 5, 6]`\n",
    "\n",
    "How would you create a new list called `list3` that has the items: `[6, 5, 1, 2, 3]`, with as few operations as possible and only using indexing operations and functions associated with the list (hint: you can look up these functions in the Python [online documentation for lists](https://docs.python.org/3/tutorial/datastructures.html#more-on-lists).\n",
    "\n",
    "### Dictionaries (dict)\n",
    "\n",
    "Dictionaries are another extremely common data structure in Python. A dictionary\n",
    "(or `dict`) is a mapping from keys to values; we can think of it as a set of\n",
    "key/value pairs, where the keys have to be unique (but the values don't). Many\n",
    "other languages have structures analogous to Python's dictionaries, though\n",
    "they're usually called something like *associative arrays*, *hash tables*, or\n",
    "*maps*.\n",
    "\n",
    "#### Dictionary initialization\n",
    "\n",
    "We initialize a dictionary by specifying comma-delimited key/value pairs inside\n",
    "curly braces. Keys and values are separated by a colon. It looks like this:"
   ]
  },
  {
   "cell_type": "code",
   "execution_count": 27,
   "id": "7c2769b3",
   "metadata": {},
   "outputs": [],
   "source": [
    "fruit_prices = {\n",
    "    \"apple\": 0.65,\n",
    "    \"mango\": 1.5,\n",
    "    \"strawberry\": \"$3/lb\",\n",
    "    \"durian\": \"unavailable\",\n",
    "    5: \"just to make a point\"\n",
    "}"
   ]
  },
  {
   "cell_type": "markdown",
   "id": "f3dd0ae6",
   "metadata": {},
   "source": [
    "Notice that both the keys and the values can be heterogeneously typed (observe\n",
    "the last pair, where the key is an integer).\n",
    "\n",
    "#### Accessing values in a dictionary\n",
    "\n",
    "In contrast to lists, you can't access values stored in a dictionary directly by\n",
    "their serial position. Instead, values in a dictionary are accessed by their\n",
    "key. The syntax is identical to that used for list indexing. We specify the key\n",
    "whose corresponding value we'd like to retrieve in between square brackets:"
   ]
  },
  {
   "cell_type": "code",
   "execution_count": 28,
   "id": "a8c42730",
   "metadata": {},
   "outputs": [
    {
     "data": {
      "text/plain": [
       "1.5"
      ]
     },
     "execution_count": 28,
     "metadata": {},
     "output_type": "execute_result"
    }
   ],
   "source": [
    "fruit_prices['mango']"
   ]
  },
  {
   "cell_type": "markdown",
   "id": "47392a06",
   "metadata": {},
   "source": [
    "And again, the following example would fail, raising a `KeyError` telling us\n",
    "there's no such key in the dictionary:"
   ]
  },
  {
   "cell_type": "code",
   "execution_count": 29,
   "id": "102038b8",
   "metadata": {},
   "outputs": [
    {
     "ename": "KeyError",
     "evalue": "0",
     "output_type": "error",
     "traceback": [
      "\u001b[0;31m---------------------------------------------------------------------------\u001b[0m",
      "\u001b[0;31mKeyError\u001b[0m                                  Traceback (most recent call last)",
      "Cell \u001b[0;32mIn[29], line 1\u001b[0m\n\u001b[0;32m----> 1\u001b[0m \u001b[43mfruit_prices\u001b[49m\u001b[43m[\u001b[49m\u001b[38;5;241;43m0\u001b[39;49m\u001b[43m]\u001b[49m\n",
      "\u001b[0;31mKeyError\u001b[0m: 0"
     ]
    }
   ],
   "source": [
    "fruit_prices[0]"
   ]
  },
  {
   "cell_type": "markdown",
   "id": "f1732cb4",
   "metadata": {},
   "source": [
    "However, the reason the above key failed is *not* that integers are invalid\n",
    "keys. To prove that, consider the following:"
   ]
  },
  {
   "cell_type": "code",
   "execution_count": 30,
   "id": "cddf6b77",
   "metadata": {},
   "outputs": [
    {
     "data": {
      "text/plain": [
       "'just to make a point'"
      ]
     },
     "execution_count": 30,
     "metadata": {},
     "output_type": "execute_result"
    }
   ],
   "source": [
    "fruit_prices[5]"
   ]
  },
  {
   "cell_type": "markdown",
   "id": "c6b5314c",
   "metadata": {},
   "source": [
    "Superficially, it might look like we're requesting the 6th element in the\n",
    "dictionary and getting back a valid value. But that is not what is actually\n",
    "happening here. If it's not clear to you why `fruit_prices[0]` fails while\n",
    "`fruit_prices[5]` succeeds, go back and look at the code we used to create the\n",
    "`fruit_prices` dictionary. Carefully inspect the keys and make sure you\n",
    "understand what's going on.\n",
    "\n",
    "#### Updating a dictionary\n",
    "\n",
    "Updating a dictionary uses the same `[]`-based syntax as accessing values,\n",
    "except we now make an explicit assignment. For example, we can add a new entry\n",
    "for the `ananas` key:"
   ]
  },
  {
   "cell_type": "code",
   "execution_count": 31,
   "id": "50b25481",
   "metadata": {},
   "outputs": [],
   "source": [
    "fruit_prices[\"ananas\"] = 0.5"
   ]
  },
  {
   "cell_type": "markdown",
   "id": "3959b574",
   "metadata": {},
   "source": [
    "Or over-write the value for the `mango` key:"
   ]
  },
  {
   "cell_type": "code",
   "execution_count": 32,
   "id": "4075772e",
   "metadata": {},
   "outputs": [],
   "source": [
    "fruit_prices[\"mango\"] = 2.25"
   ]
  },
  {
   "cell_type": "markdown",
   "id": "662d508e",
   "metadata": {},
   "source": [
    "And then look at the dict again:"
   ]
  },
  {
   "cell_type": "code",
   "execution_count": 33,
   "id": "ce4836ba",
   "metadata": {},
   "outputs": [
    {
     "name": "stdout",
     "output_type": "stream",
     "text": [
      "{'apple': 0.65, 'mango': 2.25, 'strawberry': '$3/lb', 'durian': 'unavailable', 5: 'just to make a point', 'ananas': 0.5}\n"
     ]
    }
   ],
   "source": [
    "print(fruit_prices)"
   ]
  },
  {
   "cell_type": "markdown",
   "id": "085a1298",
   "metadata": {},
   "source": [
    "#### Exercise\n",
    "\n",
    "Add another fruit to the dictionary. This fruit should have several different\n",
    "values associated with it, organized as a list. How can you access the second\n",
    "item in this list in one single call?\n",
    "\n",
    "\n",
    "### Tuples\n",
    "\n",
    "The last widely-used Python collection we'll discuss here (though there are many\n",
    "other more esoteric ones) is the *tuple*. Tuples are very similar to lists in\n",
    "Python. The main difference between lists and tuples is that lists are\n",
    "*mutable*, meaning, they can change after initialization. Tuples are\n",
    "*immutable*; once a tuple has been created, it can no longer be modified.\n",
    "\n",
    "We initialize a tuple in much the same way as a list, except we use parentheses\n",
    "(round brackets) instead of square brackets:"
   ]
  },
  {
   "cell_type": "code",
   "execution_count": 34,
   "id": "58b0cbb1",
   "metadata": {},
   "outputs": [],
   "source": [
    "my_tuple = (\"a\", 12, 4.4)"
   ]
  },
  {
   "cell_type": "markdown",
   "id": "9b19bb2b",
   "metadata": {},
   "source": [
    "Just to drive home the immutability of tuples, let's try replacing a value and\n",
    "see what happens:"
   ]
  },
  {
   "cell_type": "code",
   "execution_count": 35,
   "id": "d2d098a3",
   "metadata": {},
   "outputs": [
    {
     "ename": "TypeError",
     "evalue": "'tuple' object does not support item assignment",
     "output_type": "error",
     "traceback": [
      "\u001b[0;31m---------------------------------------------------------------------------\u001b[0m",
      "\u001b[0;31mTypeError\u001b[0m                                 Traceback (most recent call last)",
      "Cell \u001b[0;32mIn[35], line 1\u001b[0m\n\u001b[0;32m----> 1\u001b[0m \u001b[43mmy_tuple\u001b[49m\u001b[43m[\u001b[49m\u001b[38;5;241;43m1\u001b[39;49m\u001b[43m]\u001b[49m \u001b[38;5;241m=\u001b[39m \u001b[38;5;241m999\u001b[39m\n",
      "\u001b[0;31mTypeError\u001b[0m: 'tuple' object does not support item assignment"
     ]
    }
   ],
   "source": [
    "my_tuple[1] = 999"
   ]
  },
  {
   "cell_type": "markdown",
   "id": "cf5ca66d",
   "metadata": {},
   "source": [
    "Our attempt to modify the tuple raises an error. Fortunately, we can easily\n",
    "convert any tuple to a list, after which we can modify it to our heart's\n",
    "content."
   ]
  },
  {
   "cell_type": "code",
   "execution_count": 36,
   "id": "7b8f69f2",
   "metadata": {},
   "outputs": [
    {
     "name": "stdout",
     "output_type": "stream",
     "text": [
      "['a', 999, 4.4]\n"
     ]
    }
   ],
   "source": [
    "converted_from_tuple = list(my_tuple)\n",
    "converted_from_tuple[1] = 999\n",
    "print(converted_from_tuple)"
   ]
  },
  {
   "cell_type": "markdown",
   "id": "c417c8a2",
   "metadata": {},
   "source": [
    "In practice, you can use a list almost anywhere you can use a tuple, though\n",
    "there are some important exceptions. One that you can already appreciate is that\n",
    "a tuple can be used as a key to a dictionary, but a list can't:"
   ]
  },
  {
   "cell_type": "code",
   "execution_count": 37,
   "id": "1ae7eb69",
   "metadata": {},
   "outputs": [],
   "source": [
    "dict_with_sequence_keys = {my_tuple : \"Access this value using a tuple!\"}"
   ]
  },
  {
   "cell_type": "code",
   "execution_count": 38,
   "id": "b3a3a789",
   "metadata": {},
   "outputs": [
    {
     "ename": "TypeError",
     "evalue": "unhashable type: 'list'",
     "output_type": "error",
     "traceback": [
      "\u001b[0;31m---------------------------------------------------------------------------\u001b[0m",
      "\u001b[0;31mTypeError\u001b[0m                                 Traceback (most recent call last)",
      "Cell \u001b[0;32mIn[38], line 1\u001b[0m\n\u001b[0;32m----> 1\u001b[0m \u001b[43mdict_with_sequence_keys\u001b[49m\u001b[43m[\u001b[49m\u001b[43mconverted_from_tuple\u001b[49m\u001b[43m]\u001b[49m \u001b[38;5;241m=\u001b[39m \u001b[38;5;124m\"\u001b[39m\u001b[38;5;124mThis will not work\u001b[39m\u001b[38;5;124m\"\u001b[39m\n",
      "\u001b[0;31mTypeError\u001b[0m: unhashable type: 'list'"
     ]
    }
   ],
   "source": [
    "dict_with_sequence_keys[converted_from_tuple] = \"This will not work\""
   ]
  },
  {
   "cell_type": "markdown",
   "id": "89d521b1",
   "metadata": {},
   "source": [
    "Admittedly, the error that this produces is a bit cryptic, but it relates\n",
    "directly to the fact that a mutable object is considered a bit unreliable\n",
    "because elements within it can change without notice.\n",
    "\n",
    "## Everything in Python is an object\n",
    "\n",
    "Our discussion so far might give off the impression that some data types in\n",
    "Python are basic or special in some way. It's natural to think, for example,\n",
    "that strings, integers, and booleans are \"primitive\" data types —- i.e., that\n",
    "they're built into the core of the language, behave in special ways, and can't\n",
    "be duplicated, or modified. And this is true in many other programming\n",
    "languages. For example, in Java, there are exactly 8 primitive data types. If\n",
    "you get bored of them, you're out of luck. You can't just create new ones -—\n",
    "say, a new type of string that behaves just like the primitive strings, but adds\n",
    "some additional functionality you think would be kind of cool to have.\n",
    "\n",
    "Python is different: it doesn't *really* have any primitive data types. Python\n",
    "is a deeply *object-oriented* programming language, and in Python, *everything\n",
    "is an object*. Strings are objects, integers are objects, booleans are objects.\n",
    "So are lists. So are dictionaries. *Everything* is an object in Python. We'll\n",
    "spend more time talking about what objects are, and the deeper implications of\n",
    "everything being an object, at the end of this chapter. For now, let's focus on\n",
    "some of the practical implications for the way we write code.\n",
    "\n",
    "### The dot notation\n",
    "\n",
    "Let's start with the dot (`.`) notation we use to indicate that we're accessing\n",
    "data or functionality inside an object. You've probably already noticed that\n",
    "there are two kinds of constructions we've been using in our code to do things\n",
    "with variables. There's the functional syntax, where we pass an object as an\n",
    "argument to a function:"
   ]
  },
  {
   "cell_type": "code",
   "execution_count": 39,
   "id": "e57aba8d",
   "metadata": {},
   "outputs": [
    {
     "data": {
      "text/plain": [
       "4"
      ]
     },
     "execution_count": 39,
     "metadata": {},
     "output_type": "execute_result"
    }
   ],
   "source": [
    "len([2, 4, 1, 9])"
   ]
  },
  {
   "cell_type": "markdown",
   "id": "16e20a55",
   "metadata": {},
   "source": [
    "And then there's the object-oriented syntax that uses the dot notation, which we\n",
    "saw when looking at some of the functionality implemented in strings:"
   ]
  },
  {
   "cell_type": "code",
   "execution_count": 40,
   "id": "c5ff8b00",
   "metadata": {},
   "outputs": [
    {
     "data": {
      "text/plain": [
       "'apples are delicious'"
      ]
     },
     "execution_count": 40,
     "metadata": {},
     "output_type": "execute_result"
    }
   ],
   "source": [
    "phrase = \"aPpLeS ArE delICIous\"\n",
    "\n",
    "phrase.lower()"
   ]
  },
  {
   "cell_type": "markdown",
   "id": "d2680674",
   "metadata": {},
   "source": [
    "If you have some experience in another object-oriented programming language, the dot syntax will be old hat to you. But if you've mostly worked in data-centric languages (e.g., R or Matlab), you might find it puzzling at first.\n",
    "\n",
    "What's happening in the above example is that we're calling a function attached to this object (this is called a \"method\" of the object) `lower()` *on* the `phrase` string itself. You can think of the dot operator `.` as expressing a relationship of belonging, or roughly translating as \"look inside of\". So, when we write `phrase.lower()`, we're essentially saying, \"call the `lower()` method that's contained inside of `phrase`\". (We're being a bit sloppy here for the sake of simplicity, but that's the gist of it.)\n",
    "\n",
    "Note that `lower()` works on strings, but, unlike functions like `len()` and `round()`, it isn't a built-in function in Python. We can't just call `lower()` directly:"
   ]
  },
  {
   "cell_type": "code",
   "execution_count": 41,
   "id": "e7fd4e92",
   "metadata": {},
   "outputs": [
    {
     "ename": "NameError",
     "evalue": "name 'lower' is not defined",
     "output_type": "error",
     "traceback": [
      "\u001b[0;31m---------------------------------------------------------------------------\u001b[0m",
      "\u001b[0;31mNameError\u001b[0m                                 Traceback (most recent call last)",
      "Cell \u001b[0;32mIn[41], line 1\u001b[0m\n\u001b[0;32m----> 1\u001b[0m \u001b[43mlower\u001b[49m(\u001b[38;5;124m\"\u001b[39m\u001b[38;5;124mTrY to LoWer ThIs!\u001b[39m\u001b[38;5;124m\"\u001b[39m)\n",
      "\u001b[0;31mNameError\u001b[0m: name 'lower' is not defined"
     ]
    }
   ],
   "source": [
    "lower(\"TrY to LoWer ThIs!\")"
   ]
  },
  {
   "cell_type": "markdown",
   "id": "4e5036ef",
   "metadata": {},
   "source": [
    "Instead, it needs to be called via an instance that contains this function, as we did above with `phrase`."
   ]
  },
  {
   "cell_type": "markdown",
   "id": "4e88f163",
   "metadata": {},
   "source": [
    "Neither is `lower()` a method that's available on *all* objects. For example, this won't work:"
   ]
  },
  {
   "cell_type": "code",
   "execution_count": 42,
   "id": "a4bd9f8c",
   "metadata": {},
   "outputs": [
    {
     "ename": "AttributeError",
     "evalue": "'int' object has no attribute 'lower'",
     "output_type": "error",
     "traceback": [
      "\u001b[0;31m---------------------------------------------------------------------------\u001b[0m",
      "\u001b[0;31mAttributeError\u001b[0m                            Traceback (most recent call last)",
      "Cell \u001b[0;32mIn[42], line 3\u001b[0m\n\u001b[1;32m      1\u001b[0m num \u001b[38;5;241m=\u001b[39m \u001b[38;5;241m6\u001b[39m\n\u001b[0;32m----> 3\u001b[0m \u001b[43mnum\u001b[49m\u001b[38;5;241;43m.\u001b[39;49m\u001b[43mlower\u001b[49m()\n",
      "\u001b[0;31mAttributeError\u001b[0m: 'int' object has no attribute 'lower'"
     ]
    }
   ],
   "source": [
    "num = 6\n",
    "\n",
    "num.lower()"
   ]
  },
  {
   "cell_type": "markdown",
   "id": "ccd0d78a",
   "metadata": {},
   "source": [
    "Integers, as it happens, don't have a method called `lower()`. And neither do most other types. But strings do. And what the `lower()` method does, when called from a string, is return a lower-cased version of the string to which it is attached. But that functionality is a feature of the string type itself, and *not* of the Python language in general.\n",
    "\n",
    "Later, we'll see how we go about defining new types (or classes), and specifying what methods they have. For the moment, the main point to take away is that almost all functionality in Python is going to be accessed via objects. The dot notation is ubiquitous in Python, so you'll need to get used to it quickly if you're used to a purely functional syntax."
   ]
  },
  {
   "cell_type": "markdown",
   "id": "5dcc76e1",
   "metadata": {},
   "source": [
    "#### Inspecting objects\n",
    "\n",
    "One implication of everything being an object in Python is that we can always find out exactly what data an object contains, and what methods it implements, by inspecting it in various ways.\n",
    "\n",
    "We won't look very far under the hood of objects in this chapter, but it's worth knowing about a couple of ways of interrogating objects that can make your life easier.\n",
    "\n",
    "First, you can always see the type of an object with the built-in `type()` function, which you also saw before:"
   ]
  },
  {
   "cell_type": "code",
   "execution_count": 43,
   "id": "f41b336b",
   "metadata": {},
   "outputs": [
    {
     "data": {
      "text/plain": [
       "str"
      ]
     },
     "execution_count": 43,
     "metadata": {},
     "output_type": "execute_result"
    }
   ],
   "source": [
    "msg = \"Hello World!\"\n",
    "\n",
    "type(msg)"
   ]
  },
  {
   "cell_type": "markdown",
   "id": "a8775313",
   "metadata": {},
   "source": [
    "Second, the built-in `dir()` function will show you all of the methods implemented on an object, as well as *static attributes*, which are variables stored within the object. Be warned that this will often be a long list and that some of the attribute names you see (mainly those that start and end with two underscores) will look a little wonky. We'll talk about those briefly later."
   ]
  },
  {
   "cell_type": "code",
   "execution_count": 44,
   "id": "165a5650",
   "metadata": {},
   "outputs": [
    {
     "data": {
      "text/plain": [
       "['__add__',\n",
       " '__class__',\n",
       " '__contains__',\n",
       " '__delattr__',\n",
       " '__dir__',\n",
       " '__doc__',\n",
       " '__eq__',\n",
       " '__format__',\n",
       " '__ge__',\n",
       " '__getattribute__',\n",
       " '__getitem__',\n",
       " '__getnewargs__',\n",
       " '__gt__',\n",
       " '__hash__',\n",
       " '__init__',\n",
       " '__init_subclass__',\n",
       " '__iter__',\n",
       " '__le__',\n",
       " '__len__',\n",
       " '__lt__',\n",
       " '__mod__',\n",
       " '__mul__',\n",
       " '__ne__',\n",
       " '__new__',\n",
       " '__reduce__',\n",
       " '__reduce_ex__',\n",
       " '__repr__',\n",
       " '__rmod__',\n",
       " '__rmul__',\n",
       " '__setattr__',\n",
       " '__sizeof__',\n",
       " '__str__',\n",
       " '__subclasshook__',\n",
       " 'capitalize',\n",
       " 'casefold',\n",
       " 'center',\n",
       " 'count',\n",
       " 'encode',\n",
       " 'endswith',\n",
       " 'expandtabs',\n",
       " 'find',\n",
       " 'format',\n",
       " 'format_map',\n",
       " 'index',\n",
       " 'isalnum',\n",
       " 'isalpha',\n",
       " 'isascii',\n",
       " 'isdecimal',\n",
       " 'isdigit',\n",
       " 'isidentifier',\n",
       " 'islower',\n",
       " 'isnumeric',\n",
       " 'isprintable',\n",
       " 'isspace',\n",
       " 'istitle',\n",
       " 'isupper',\n",
       " 'join',\n",
       " 'ljust',\n",
       " 'lower',\n",
       " 'lstrip',\n",
       " 'maketrans',\n",
       " 'partition',\n",
       " 'replace',\n",
       " 'rfind',\n",
       " 'rindex',\n",
       " 'rjust',\n",
       " 'rpartition',\n",
       " 'rsplit',\n",
       " 'rstrip',\n",
       " 'split',\n",
       " 'splitlines',\n",
       " 'startswith',\n",
       " 'strip',\n",
       " 'swapcase',\n",
       " 'title',\n",
       " 'translate',\n",
       " 'upper',\n",
       " 'zfill']"
      ]
     },
     "execution_count": 44,
     "metadata": {},
     "output_type": "execute_result"
    }
   ],
   "source": [
    "dir(msg)"
   ]
  },
  {
   "cell_type": "markdown",
   "id": "2b9e0b20",
   "metadata": {},
   "source": [
    "That's a pretty long list! Any name in that list is available to you as an *attribute* of the object (e.g., `my_var.values()`, `my_var.__class__`, etc.), meaning that you can access it and call it (if it is a function) using the dot notation. Notice that the list contains all of the string methods we experimented with earlier (including `lower`), as well as many others.\n",
    "\n",
    "#### Exercise\n",
    "\n",
    "Find the methods associated with \"`int`\" objects. Are they different from the methods associated with \"`float`\" objects?\n",
    "\n",
    "## Control flow\n",
    "\n",
    "Like nearly every other programming language, Python has several core language\n",
    "constructs that allow us to control the flow of our code -- the order in which\n",
    "functions get called and expressions are evaluated. The two most common ones are\n",
    "conditionals (if-then statements) and for-loops.\n",
    "\n",
    "### Conditionals\n",
    "\n",
    "Conditional (or if-then) statements allow our code to branch -— meaning, we can\n",
    "execute different chunks of code depending on which of two or more conditions is\n",
    "met. For example:"
   ]
  },
  {
   "cell_type": "code",
   "execution_count": 45,
   "id": "20745881",
   "metadata": {},
   "outputs": [
    {
     "name": "stdout",
     "output_type": "stream",
     "text": [
      "Mangoes are super cheap; get a bunch of them!\n"
     ]
    }
   ],
   "source": [
    "mango = 0.2\n",
    "\n",
    "if mango < 0.5:\n",
    "    print(\"Mangoes are super cheap; get a bunch of them!\")\n",
    "elif mango < 1.0:\n",
    "    print(\"Get one mango from the store.\")\n",
    "else:\n",
    "    print(\"Meh. I don't really even like mangoes.\")"
   ]
  },
  {
   "cell_type": "markdown",
   "id": "0da57bbb",
   "metadata": {},
   "source": [
    "The printed statement will vary depending on the value assigned to the `mango`\n",
    "variable. Try changing that value and see what happens when you re-run the code.\n",
    "\n",
    "Notice that there are three statements in the above code: `if`, `elif` (which in\n",
    "Python stands for \"else if\"), and `else`. Only the first of these (i.e., `if`)\n",
    "is strictly necessary; the `elif` and `else` statements are optional.\n",
    "\n",
    "#### Exercise\n",
    "\n",
    "There can be arbitrarily many `elif` statements. Try adding another one to the code above that executes only in the case that mangos are more expensive than 2.0 and less expensive than 5.0.\n",
    "\n",
    "### Loops\n",
    "\n",
    "For-loops allow us to iterate (or loop) over the elements of a collection (e.g.,\n",
    "a list) and perform the same operation(s) on each one. As with most things\n",
    "Python, the syntax is quite straightforward and readable:"
   ]
  },
  {
   "cell_type": "code",
   "execution_count": 46,
   "id": "85c00c7d",
   "metadata": {},
   "outputs": [
    {
     "name": "stdout",
     "output_type": "stream",
     "text": [
      "eleventy\n",
      "apple\n",
      "7.14\n",
      "banana\n",
      "88\n"
     ]
    }
   ],
   "source": [
    "for elem in random_stuff:\n",
    "    print(elem)"
   ]
  },
  {
   "cell_type": "markdown",
   "id": "077ca999",
   "metadata": {},
   "source": [
    "Here we loop over the elements in the `random_stuff` list. In each iteration\n",
    "(i.e., for each element), we assign the value to the temporary variable `elem`,\n",
    "which only exists within the scope of the `for` statement (i.e., `elem` won't\n",
    "exist once the for-loop is done executing). We can then do whatever we like with\n",
    "`elem`. In this case, we just print its value.\n",
    "\n",
    "#### Looping over a range\n",
    "\n",
    "While we can often loop directly over the elements in an array (as in the above\n",
    "example), it's also very common to loop over a range of integer indices, which\n",
    "we can then use to access data stored in some sequential form in one or more\n",
    "collections. To facilitate this type of thing, we can use Python's built-in\n",
    "`range()` function, which produces a sequence of integers starting from `0` and\n",
    "stopping before the passed value:"
   ]
  },
  {
   "cell_type": "code",
   "execution_count": 47,
   "id": "a15d0f56",
   "metadata": {},
   "outputs": [
    {
     "name": "stdout",
     "output_type": "stream",
     "text": [
      "Element 0: eleventy\n",
      "Element 1: apple\n",
      "Element 2: 7.14\n",
      "Element 3: banana\n",
      "Element 4: 88\n"
     ]
    }
   ],
   "source": [
    "num_elems = len(random_stuff)\n",
    "\n",
    "for i in range(num_elems):\n",
    "    val = random_stuff[i]\n",
    "    print(f\"Element {i}: {val}\")"
   ]
  },
  {
   "cell_type": "markdown",
   "id": "77122ddf",
   "metadata": {},
   "source": [
    "#### Exercise\n",
    "\n",
    "The content that was printed in each iteration of the loop in the last example is formatted using a so-called \"f-string\". This is a way to compose strings that change based on information from the code surrounding them. An f-string is a string that has the letter \"f\" before it, as in this example, and it can contain segments enclosed by curly braces (`{` and `}`) that contain Python statements. In this case, the Python statements in each curly bracket are variable names, and the values of the variables at that point in the code are inserted into the string, but you could also insert small calculations that produce a result that then gets inserted into the string at that location. As an exercise, rewrite the code above so that in each iteration through the loop the value of `i` and the value of `i` squared are both printed. Hint: powers of Python numbers are calculated using the `**` operator.\n",
    "\n",
    "### Nested control flow\n",
    "\n",
    "We can also nest conditionals and for-loops inside one another (as well as inside other compound statements). For example, we can loop over the elements of `random_stuff`, as above, but keeping only the elements that meet some condition—e.g., only those elements that are strings:"
   ]
  },
  {
   "cell_type": "code",
   "execution_count": 48,
   "id": "85d29e54",
   "metadata": {},
   "outputs": [
    {
     "name": "stdout",
     "output_type": "stream",
     "text": [
      "Only the string values: ['eleventy', 'apple', 'banana']\n"
     ]
    }
   ],
   "source": [
    "# create an empty list to hold the filtered values\n",
    "strings_only = []\n",
    "\n",
    "# loop over the random_stuff list\n",
    "for elem in random_stuff:\n",
    "    # if the current element is a string...\n",
    "    if isinstance(elem, str):\n",
    "        # ...then append the value to strings_only\n",
    "        strings_only.append(elem)\n",
    "\n",
    "print(\"Only the string values:\", strings_only)"
   ]
  },
  {
   "cell_type": "markdown",
   "id": "95a041b6",
   "metadata": {},
   "source": [
    "### Comprehensions\n",
    "\n",
    "In Python, for-loops can also be written in a more compact way known as a *list\n",
    "comprehension* (there are also dictionary comprehensions, but we'll leave that\n",
    "to you to look up as an exercise). List comprehensions are just a bit of\n",
    "*syntactic sugar* -— meaning, they're just a different way of writing the same code\n",
    "but don't change the meaning in any way. Here's the list comprehension version\n",
    "of the for-loop we wrote above:"
   ]
  },
  {
   "cell_type": "code",
   "execution_count": 49,
   "id": "ae7cb949",
   "metadata": {},
   "outputs": [
    {
     "name": "stdout",
     "output_type": "stream",
     "text": [
      "eleventy\n",
      "apple\n",
      "7.14\n",
      "banana\n",
      "88\n"
     ]
    }
   ],
   "source": [
    "p = [print(elem) for elem in random_stuff]"
   ]
  },
  {
   "cell_type": "markdown",
   "id": "ad1b3014",
   "metadata": {},
   "source": [
    "We can also embed conditional statements inside list comprehensions. Here's a\n",
    "much more compact way of writing the string-filtering snippet we wrote above:"
   ]
  },
  {
   "cell_type": "code",
   "execution_count": 50,
   "id": "61733442",
   "metadata": {},
   "outputs": [
    {
     "name": "stdout",
     "output_type": "stream",
     "text": [
      "Only the string values: ['eleventy', 'apple', 'banana']\n"
     ]
    }
   ],
   "source": [
    "strings_only = [elem for elem in random_stuff if isinstance(elem, str)]\n",
    "\n",
    "print(\"Only the string values:\", strings_only)"
   ]
  },
  {
   "cell_type": "markdown",
   "id": "643f5c0a",
   "metadata": {},
   "source": [
    "List comprehensions can save you quite a bit of typing once you get used to\n",
    "reading them, and you may eventually even find them clearer to read. It's also\n",
    "possible to nest list comprehensions (equivalent to for-loops within for-loops),\n",
    "though that power should be used sparingly, as nested list comprehensions can be\n",
    "difficult to understand."
   ]
  },
  {
   "cell_type": "markdown",
   "id": "aeef156f",
   "metadata": {},
   "source": [
    "#### Exercise\n",
    "\n",
    "Using a comprehension, create a list, where each element is a tuple. The first element in each tuple should be the index of the element in `random_stuff` and the second element of the tuple should be its square.\n",
    "\n",
    "### Whitespace is syntactically significant\n",
    "\n",
    "One thing you might have noticed when reading the conditional statements and\n",
    "for-loops above is that we always seem to indent our code inside these\n",
    "statements. This isn't a matter of choice; Python is a bit of an odd duck among\n",
    "programming languages, in that it imposes strong rules about how whitespace can\n",
    "be used (i.e., whitespace is *syntactically significant*). This can take a bit\n",
    "of getting used to, but once you do, it has important benefits: there's less\n",
    "variability in coding style across different Python programmers, and reading\n",
    "other people's code is often much easier than it is in languages without\n",
    "syntactically significant whitespace.\n",
    "\n",
    "The main rule you need to be aware of is that whenever you enter a *compound statement* (which includes for-loops and conditionals, but also function and class definitions, as we'll see below), you have to increase the indentation of your code. When you exit the compound statement, you then decrease the indentation by the same amount.\n",
    "\n",
    "The exact amount you indent each time is technically up to you. But it's strongly recommended that you use the same convention everyone else does (described in the Python style guide, known as [PEP8](https://peps.python.org/pep-0008/)), which is to always indent or dedent by 4 spaces. Here's what this looks like in a block with multiple nested conditionals:"
   ]
  },
  {
   "cell_type": "code",
   "execution_count": 51,
   "id": "23145dc3",
   "metadata": {},
   "outputs": [
    {
     "name": "stdout",
     "output_type": "stream",
     "text": [
      "Great number.\n"
     ]
    }
   ],
   "source": [
    "num = 800\n",
    "\n",
    "if num > 500:\n",
    "    if num < 900:\n",
    "        if num > 700:\n",
    "            print(\"Great number.\")\n",
    "        else:\n",
    "            print(\"Terrible number.\")"
   ]
  },
  {
   "cell_type": "markdown",
   "id": "a8e3ca72",
   "metadata": {},
   "source": [
    "#### Exercise\n",
    "Modify the above snippet so that you (a) consistently use a different amount of indentation (for example, 3 spaces), and (b) break Python by using invalid indentation."
   ]
  },
  {
   "cell_type": "markdown",
   "id": "1a6ff887",
   "metadata": {},
   "source": [
    "## Functions\n",
    "\n",
    "Python would be of limited use to us if we could only run our code linearly from\n",
    "top to bottom. Fortunately, as in almost every other modern programming\n",
    "language, Python has *functions*: blocks of code that only run when explicitly\n",
    "called. Some of these are built into the language itself (or contained in the\n",
    "standard library's many modules we can import from, as we saw above):"
   ]
  },
  {
   "cell_type": "code",
   "execution_count": 52,
   "id": "fdc123a8",
   "metadata": {},
   "outputs": [
    {
     "data": {
      "text/plain": [
       "3.14"
      ]
     },
     "execution_count": 52,
     "metadata": {},
     "output_type": "execute_result"
    }
   ],
   "source": [
    "approx_pi = 3.141592\n",
    "\n",
    "round(approx_pi, 2)"
   ]
  },
  {
   "cell_type": "markdown",
   "id": "1eafec14",
   "metadata": {},
   "source": [
    "Here we use the `round()` function to round a float to the desired precision (2\n",
    "decimal places). The `round()` function happens to be one of the few dozen\n",
    "\"built-ins\" included in the root Python namespace out of the box, but we can\n",
    "easily define our own functions, which we can then call just like the built-in\n",
    "ones. Functions are defined like this:"
   ]
  },
  {
   "cell_type": "code",
   "execution_count": 53,
   "id": "81ebf1f2",
   "metadata": {},
   "outputs": [],
   "source": [
    "def print_useless_message():\n",
    "    print(\"This is a fairly useless message.\")"
   ]
  },
  {
   "cell_type": "markdown",
   "id": "07f813d0",
   "metadata": {},
   "source": [
    "Here, we're defining a new function called `print_useless_message`, which, as you might expect, can print a fairly useless message. Notice that nothing happens when we run the above block of code. That's because all we've done is *define* the function; we haven't yet *called* or *invoked* it. We can do that like this:"
   ]
  },
  {
   "cell_type": "code",
   "execution_count": 54,
   "id": "55d12e38",
   "metadata": {},
   "outputs": [
    {
     "name": "stdout",
     "output_type": "stream",
     "text": [
      "This is a fairly useless message.\n"
     ]
    }
   ],
   "source": [
    "print_useless_message()"
   ]
  },
  {
   "cell_type": "markdown",
   "id": "f7499b39",
   "metadata": {},
   "source": [
    "### Function arguments and return values\n",
    "\n",
    "Functions can accept *arguments* (or parameters) that alter their behavior. When\n",
    "we called `round()` above, we passed two arguments: the float we wanted to\n",
    "round, and the number of decimal places we wanted to round it to. The first\n",
    "argument is mandatory in the case of `round()`; if we try calling `round()`\n",
    "without any arguments (feel free to give it a shot), we'll get an error. This\n",
    "should make intuitive sense to you because it would be pretty strange to try to\n",
    "round no value at all.\n",
    "\n",
    "Functions can also explicitly *return* values to the user. To do this, we have to explicitly end our function with a `return` statement, followed by the variable(s) we want to return. If a function doesn't explicitly end with a `return` statement, then the special value `None` we encountered earlier will be returned.\n",
    "\n",
    "Let's illustrate the use of arguments by writing a small function that takes a\n",
    "single float as input, adds Gaussian noise (generated by the standard library's\n",
    "`random` module), and returns the result."
   ]
  },
  {
   "cell_type": "code",
   "execution_count": 55,
   "id": "2c9e8c07",
   "metadata": {},
   "outputs": [],
   "source": [
    "import random\n",
    "\n",
    "def add_noise(x, mu, sd):\n",
    "    \"\"\"Adds gaussian noise to the input.\n",
    "\n",
    "    Parameters\n",
    "    ----------\n",
    "    x : number\n",
    "        The number to add noise to.\n",
    "    mu : float\n",
    "        The mean of the gaussian noise distribution.\n",
    "    sd : float\n",
    "        The standard deviation of the noise distribution.\n",
    "\n",
    "    Returns\n",
    "    -------\n",
    "    float\n",
    "    \"\"\"\n",
    "    noise = random.normalvariate(mu, sd)\n",
    "    return (x + noise)"
   ]
  },
  {
   "cell_type": "markdown",
   "id": "1a105ecf",
   "metadata": {},
   "source": [
    "The `add_noise()` function has three required parameters: The first (`x`) is the\n",
    "number we want to add noise to. The second (`mu`) is the mean of the Gaussian\n",
    "distribution to sample from. The third (`sd) is the distribution's standard deviation.\n",
    "\n",
    "Notice that we've documented the function's behavior inside the function definition itself using what's called a *[docstring](https://www.python.org/dev/peps/pep-0257/)*. This a good habit to get into, as good documentation is essential if you expect other people to be able to use the code you write (including yourself in the future). In this case, the docstring indicates to the user what the expected type of each argument is, what the argument means, and what the function returns. In case you are wondering why it is organized in just this way, that is because we are following the conventions of docstrings established by the numpy project (and described in the [numpy docstring guide](https://numpydoc.readthedocs.io/en/latest/format.html)).\n",
    "\n",
    "Now that we've defined our noise-adding function, we can start calling it. Note that because we're sampling randomly from a distribution, we'll get a different output every time we re-run the function, even if the inputs are the same."
   ]
  },
  {
   "cell_type": "code",
   "execution_count": 56,
   "id": "d4ffa63e",
   "metadata": {},
   "outputs": [
    {
     "data": {
      "text/plain": [
       "2.550050038272467"
      ]
     },
     "execution_count": 56,
     "metadata": {},
     "output_type": "execute_result"
    }
   ],
   "source": [
    "add_noise(4, 1, 2)"
   ]
  },
  {
   "cell_type": "markdown",
   "id": "43445177",
   "metadata": {},
   "source": [
    "#### Exercise\n",
    "\n",
    "Based on the function definition provided above, define a new function that produces a sample of `n` numbers each of which is `x` with Gaussian noise of mean `mu` and standard deviation `std` added to it. The return value should be a list of length `n`, itself a parameter to the function.\n",
    "\n",
    "### Function arguments\n",
    "\n",
    "Python functions can have two kinds of arguments: *positional* arguments, and *keyword* (or *named*) arguments.\n",
    "\n",
    "#### Positional arguments\n",
    "\n",
    "Positional arguments, as their name suggests, are defined by position, and they\n",
    "*must* be passed when the function is called. The values passed inside the\n",
    "parentheses are mapped one-to-one onto the arguments, as we saw above for\n",
    "`add_noise()`. That is, inside the `add_noise()` function, the first value is\n",
    "referenced by `x`, the second by `mu`, and so on.\n",
    "\n",
    "If the caller fails to pass the right number of arguments (either too few or too\n",
    "many), an error will be generated:"
   ]
  },
  {
   "cell_type": "code",
   "execution_count": 57,
   "id": "31591c26",
   "metadata": {},
   "outputs": [
    {
     "ename": "TypeError",
     "evalue": "add_noise() missing 2 required positional arguments: 'mu' and 'sd'",
     "output_type": "error",
     "traceback": [
      "\u001b[0;31m---------------------------------------------------------------------------\u001b[0m",
      "\u001b[0;31mTypeError\u001b[0m                                 Traceback (most recent call last)",
      "Cell \u001b[0;32mIn[57], line 1\u001b[0m\n\u001b[0;32m----> 1\u001b[0m \u001b[43madd_noise\u001b[49m\u001b[43m(\u001b[49m\u001b[38;5;241;43m7\u001b[39;49m\u001b[43m)\u001b[49m\n",
      "\u001b[0;31mTypeError\u001b[0m: add_noise() missing 2 required positional arguments: 'mu' and 'sd'"
     ]
    }
   ],
   "source": [
    "add_noise(7)"
   ]
  },
  {
   "cell_type": "markdown",
   "id": "368d1ed3",
   "metadata": {},
   "source": [
    "In this case, the call to the function fails because the function has 3\n",
    "positional arguments, and we only pass one\n",
    "\n",
    "\n",
    "#### Keyword arguments\n",
    "\n",
    "Keyword arguments are arguments that are assigned a default value in the\n",
    "function *signature* (i.e., the top line of the function definition, that looks\n",
    "like `def my_function(...)`). Unlike positional arguments, keyword arguments are\n",
    "optional: if the caller doesn't pass a value for the keyword argument, the\n",
    "corresponding variable will still be available inside the function, but it will\n",
    "have whatever value is defined as the default in the signature.\n",
    "\n",
    "To see how this works, let's rewrite our `add_noise()` function so that the\n",
    "parameters of the gaussian distribution are now optional:"
   ]
  },
  {
   "cell_type": "code",
   "execution_count": 58,
   "id": "1d578b87",
   "metadata": {},
   "outputs": [],
   "source": [
    "def add_noise_with_defaults(x, mu=0, sd=1):\n",
    "    \"\"\"Adds gaussian noise to the input.\n",
    "\n",
    "    Parameters\n",
    "    ----------\n",
    "    x : number\n",
    "        The number to add noise to.\n",
    "    mu : float, optional\n",
    "        The mean of the gaussian noise distribution.\n",
    "        Default: 0\n",
    "    sd : float, optional\n",
    "        The standard deviation of the noise distribution.\n",
    "        Default: 1\n",
    "\n",
    "    Returns\n",
    "    -------\n",
    "    float\n",
    "    \"\"\"\n",
    "    noise = random.normalvariate(mu, sd)\n",
    "    return x + noise"
   ]
  },
  {
   "cell_type": "markdown",
   "id": "c1e5dbd3",
   "metadata": {},
   "source": [
    "This looks very similar, but we can now call the function without filling in\n",
    "`mu` or `sd`. If we don't pass in those values explicitly, the function will\n",
    "internally use the defaults (i.e., `0` in the case of `mu`, and `1` in the case\n",
    "of `sd`). Now, when we call this function with only one argument:"
   ]
  },
  {
   "cell_type": "code",
   "execution_count": 59,
   "id": "a50523e7",
   "metadata": {},
   "outputs": [
    {
     "data": {
      "text/plain": [
       "9.9391820966154"
      ]
     },
     "execution_count": 59,
     "metadata": {},
     "output_type": "execute_result"
    }
   ],
   "source": [
    "add_noise_with_defaults(10)"
   ]
  },
  {
   "cell_type": "markdown",
   "id": "c72c2b5f",
   "metadata": {},
   "source": [
    "Keyword arguments don't have to be filled in order, as long as we explicitly\n",
    "name them. For example, we can specify a value for `sd` but not for `mu`:"
   ]
  },
  {
   "cell_type": "code",
   "execution_count": 60,
   "id": "2eaf6a58",
   "metadata": {},
   "outputs": [
    {
     "data": {
      "text/plain": [
       "33.42359092478691"
      ]
     },
     "execution_count": 60,
     "metadata": {},
     "output_type": "execute_result"
    }
   ],
   "source": [
    "# we specify x and sd, but not mu\n",
    "add_noise_with_defaults(5, sd=100)"
   ]
  },
  {
   "cell_type": "markdown",
   "id": "91b337e9",
   "metadata": {},
   "source": [
    "Note that if we didn't specify the name of the argument (i.e., if we called\n",
    "`add_noise_with_defaults(5, 100)`, the function would still work, but the second\n",
    "value we pass would be interpreted as `mu` rather than `sd` because that's the\n",
    "order they were introduced in the function definition.\n",
    "\n",
    "It's also worth noting that we can always explicitly name *any* of our\n",
    "arguments, including positional ones. This is extremely handy in cases where\n",
    "we're calling functions whose argument names we remember, but where we don't\n",
    "necessarily remember the exact order of the arguments. For example, suppose we\n",
    "remember that `add_noise()` takes the three arguments `x`, `mu`, and `sd`, but\n",
    "we don't remember if `x` comes before or after the distribution parameters. We\n",
    "can guarantee that we get the result we expect by explicitly specifying all the\n",
    "argument names:"
   ]
  },
  {
   "cell_type": "code",
   "execution_count": 61,
   "id": "ca734ebd",
   "metadata": {},
   "outputs": [
    {
     "data": {
      "text/plain": [
       "99.82944695944356"
      ]
     },
     "execution_count": 61,
     "metadata": {},
     "output_type": "execute_result"
    }
   ],
   "source": [
    "add_noise(mu=1, sd=2, x=100)"
   ]
  },
  {
   "cell_type": "markdown",
   "id": "2ee6137d",
   "metadata": {},
   "source": [
    "To summarize, functions let us define a piece of code that can be called as\n",
    "needed and reused. We can define a default behavior and override it as\n",
    "necessary."
   ]
  },
  {
   "cell_type": "markdown",
   "id": "68b3e2b6-56b2-4403-b471-655e8fb7f831",
   "metadata": {},
   "source": [
    "*This tutorial was based on Chapter 5 of the [Neuroimaging and Data Science](https://neuroimaging-data-science.org/root.html) textbook.*"
   ]
  }
 ],
 "metadata": {
  "jupytext": {
   "formats": "ipynb,md:myst",
   "text_representation": {
    "extension": ".md",
    "format_name": "myst",
    "format_version": 0.13,
    "jupytext_version": "1.11.5"
   }
  },
  "kernelspec": {
   "display_name": "Python 3 (ipykernel)",
   "language": "python",
   "name": "python3"
  },
  "language_info": {
   "codemirror_mode": {
    "name": "ipython",
    "version": 3
   },
   "file_extension": ".py",
   "mimetype": "text/x-python",
   "name": "python",
   "nbconvert_exporter": "python",
   "pygments_lexer": "ipython3",
   "version": "3.8.16"
  },
  "source_map": [
   15,
   20,
   139,
   141,
   154,
   156,
   168,
   170,
   176,
   182,
   190,
   199,
   203,
   213,
   215,
   219,
   221,
   227,
   235,
   238,
   243,
   245,
   249,
   251,
   272,
   275,
   282,
   284,
   288,
   290,
   294,
   296,
   300,
   302,
   328,
   330,
   336,
   339,
   343,
   346,
   350,
   352,
   381,
   383,
   387,
   389,
   432,
   434,
   456,
   458,
   483,
   485,
   494,
   503,
   509,
   518,
   521,
   555,
   563,
   575,
   577,
   582,
   584,
   589,
   591,
   606,
   608,
   612,
   614,
   618,
   620,
   646,
   648,
   653,
   655,
   661,
   665,
   671,
   675,
   677,
   721,
   723,
   728,
   732,
   740,
   742,
   746,
   750,
   754,
   760,
   770,
   774,
   778,
   780,
   817,
   826,
   852,
   855,
   872,
   878,
   889,
   901,
   917,
   919,
   924,
   928,
   936,
   964,
   973,
   1014,
   1018,
   1033,
   1043,
   1047,
   1050,
   1056,
   1060,
   1084,
   1088,
   1096,
   1099,
   1103,
   1105,
   1123,
   1144,
   1165,
   1167,
   1199,
   1201,
   1219,
   1240,
   1247,
   1249,
   1254,
   1257,
   1273,
   1275,
   1307,
   1331,
   1337,
   1339,
   1422,
   1425,
   1450,
   1452,
   1459,
   1461,
   1487,
   1497,
   1540,
   1543,
   1549,
   1551,
   1558,
   1561,
   1593,
   1595,
   1599,
   1603,
   1613,
   1615,
   1621,
   1623,
   1629,
   1631,
   1657,
   1671,
   1677,
   1683,
   1687,
   1690
  ]
 },
 "nbformat": 4,
 "nbformat_minor": 5
}
