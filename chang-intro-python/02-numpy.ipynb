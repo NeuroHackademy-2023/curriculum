{
 "cells": [
  {
   "cell_type": "markdown",
   "id": "936a1432",
   "metadata": {},
   "source": [
    "## Introducing `Numpy`\n",
    "\n",
    "Numpy is the backbone of the numerical and scientific computing stack in Python;\n",
    "many of the libraries we'll cover in this book (pandas, scikit-learn, etc.)\n",
    "depend on it internally. Numpy provides many data structures optimized for\n",
    "efficient representation and manipulation of different kinds of high-dimensional\n",
    "data, as well as an enormous range of numerical tools that help us work with\n",
    "those structures.\n",
    "\n",
    "### Importing numpy\n",
    "\n",
    "Recall that the default Python namespace contains only a small number of\n",
    "built-in functions. To use any other functionality, we need to explicitly import\n",
    "it into our namespace. Let's do that for Numpy. The library can be imported\n",
    "using the `import` key word. We use `import numpy as np` to create a short name\n",
    "for the library that we can refer to. Everything that is in `numpy` will now be\n",
    "accessible through the short name `np`. Importing the library specifically as\n",
    "`np` is not a requirement, but it is a very strongly-held convention and when\n",
    "you read code that others have written, you will find that this the form that is\n",
    "very often used."
   ]
  },
  {
   "cell_type": "code",
   "execution_count": null,
   "id": "f2a6ffbb",
   "metadata": {},
   "outputs": [],
   "source": [
    "import numpy as np"
   ]
  },
  {
   "cell_type": "markdown",
   "id": "cf865587",
   "metadata": {},
   "source": [
    "### Data is represented in arrays\n",
    "\n",
    "The core data structure in Numpy is the n-dimensional array (or `ndarray`). As\n",
    "the name suggests, an `ndarray` is an array with an arbitrary number of\n",
    "dimensions. Unlike Python lists, Numpy arrays are homogeneously typed -—\n",
    "meaning, every element in the array has to have the same data type. You can have\n",
    "an array of floats, or an array of integers, but you can't have an array that\n",
    "mixes floats and integers. This is exactly what we described above: a\n",
    "homogeneous dense table that holds items in it.\n",
    "\n",
    "### Creating `ndarray`s\n",
    "\n",
    "Like any other Python object, we need to initialize an `ndarray` before we can\n",
    "do anything with it. Numpy provides us with several ways to create new arrays.\n",
    "Let's explore a couple.\n",
    "\n",
    "#### Initializing an array from an existing list\n",
    "\n",
    "Let's start by constructing an array from existing data. Assume we have some\n",
    "values already stored in a native Python iterable object (typically, a list;\n",
    "\"iterable\" means that it is an object that we can iterate over with a for loop,\n",
    "see `forloop`). If we want to convert that object to an ndarray so that\n",
    "we can perform more efficient numerical operations on it, we can pass the object\n",
    "directly to the `np.narray()` function. In a relatively simple case, the input\n",
    "to the `np.array` function is a sequence of items, a list that holds some\n",
    "integers."
   ]
  },
  {
   "cell_type": "code",
   "execution_count": null,
   "id": "6baef848",
   "metadata": {},
   "outputs": [],
   "source": [
    "list_of_numbers = [1, 1, 2, 3, 5]\n",
    "arr1 = np.array(list_of_numbers)\n",
    "print(arr1)"
   ]
  },
  {
   "cell_type": "markdown",
   "id": "7fc06569",
   "metadata": {},
   "source": [
    "The result still looks a lot like a list of numbers, but let's look at some of\n",
    "the attributes that this variable has that are not available in lists."
   ]
  },
  {
   "cell_type": "code",
   "execution_count": null,
   "id": "76f56169",
   "metadata": {},
   "outputs": [],
   "source": [
    "print(\"The shape of the array is\", arr1.shape)\n",
    "print(\"The dtype of the array is\", arr1.dtype)"
   ]
  },
  {
   "cell_type": "markdown",
   "id": "9e63e47c",
   "metadata": {},
   "source": [
    "The shape of an array is its dimensionality. In this case, the array is\n",
    "one-dimensional (like the single channel of EEG data in the example above). All\n",
    "of the items in this array are integers, so we can use an integer representation\n",
    "as the dtype of the array."
   ]
  },
  {
   "cell_type": "markdown",
   "id": "d128a41f",
   "metadata": {},
   "source": [
    "Remember that the data we would like to represent in arrays can have multiple\n",
    "dimensions. Numpy is pretty good about figuring out what kind of array we want\n",
    "based on the input data; for example, if we pass in a list of lists, where each\n",
    "of the inner lists has the same number of elements, Numpy will infer that we\n",
    "want to construct a 2-dimensional array"
   ]
  },
  {
   "cell_type": "code",
   "execution_count": null,
   "id": "05e66c9c",
   "metadata": {},
   "outputs": [],
   "source": [
    "list_of_lists = [[1, 1, 2, 3, 5], [8, 13, 21, 34, 55]]\n",
    "arr2 = np.array(list_of_lists)\n",
    "\n",
    "print(arr2)\n",
    "print(\"The shape of this array is\", arr2.shape)\n",
    "print(\"The dtype of this array is\", arr2.dtype)"
   ]
  },
  {
   "cell_type": "markdown",
   "id": "9c2d566c",
   "metadata": {},
   "source": [
    "Now, the shape of the array is 2 items: the first is the number of lists in the\n",
    "array (2) and the second is the number of items in each list (5). You can also\n",
    "think of that as rows (2 rows) and columns (5 columns), because each item in the\n",
    "first row of the array has an item matching it in terms of its column in the\n",
    "second row. For example, the number `2` in the first row is equivalent to the\n",
    "number `21` in the second row in that they are both the third item in their\n",
    "particular rows. Or, in other words, they share the third column in the array."
   ]
  },
  {
   "cell_type": "markdown",
   "id": "9eaa7c10",
   "metadata": {},
   "source": [
    "The first time you see a printed representation of a Numpy array, as in the\n",
    "above output, it might look a little confusing. But the visual representation\n",
    "closely resembles what we'd see if we were to print the nested list in Python.\n",
    "In the 2-dimensional case above, the elements of the outer list are the values\n",
    "along the first dimension, and each inner list gives the values along the second\n",
    "dimension. This ends up giving us a nice tabular representation, where, at least\n",
    "for small arrays, we can just read off the values from the output. For example,\n",
    "the first row of the array contains the values [1, 1, 2, 3, 5]; the second\n",
    "column of the array contains the values [1, 13]; and so on.\n",
    "\n",
    "#### Exercise\n",
    "\n",
    "Extend the above principle into 3 dimensions: create a list of list of lists,\n",
    "initialize an array from the list, and print into the screen. Make sure you\n",
    "understand how the values displayed visually map onto the dimensions of the\n",
    "array.\n",
    "\n",
    "#### Initializing an empty array\n",
    "\n",
    "Alternatively, we can construct a new array from scratch and fill it with some\n",
    "predetermined value -- most commonly zero. We can do this easily in Numpy using\n",
    "the conveniently - named `np.zeros` function. In many practical applications, we\n",
    "can think of this as an \"empty\" array (though technically we could also create a\n",
    "truly empty array that has no assigned values using the `np.empty` function).\n",
    "\n",
    "The `zeros` function takes a mandatory shape tuple as its first argument; this\n",
    "specifies the dimensions of the desired array."
   ]
  },
  {
   "cell_type": "code",
   "execution_count": null,
   "id": "bfa52ad5",
   "metadata": {},
   "outputs": [],
   "source": [
    "arr_2d = np.zeros((5, 10))\n",
    "print(\"The shape of this array is\", arr_2d.shape)\n",
    "print(\"The dtype of this array is\", arr_2d.dtype)\n",
    "\n",
    "arr_3d = np.zeros((2, 4, 8))\n",
    "print(\"The shape of this array is\", arr_3d.shape)\n",
    "print(\"The dtype of this array is\", arr_3d.dtype)"
   ]
  },
  {
   "cell_type": "markdown",
   "id": "c3eb3d2d",
   "metadata": {},
   "source": [
    "#### Exercise\n",
    "\n",
    "Can you explain the outputs of the previous code cell? What does the first item in the `strides` represent in each case?\n",
    "\n",
    "### Neuroscience data is stored in arrays\n",
    "\n",
    "As we described above, many different kinds of neuroscience data are naturally\n",
    "stored in arrays. To demonstrate this, let's look at some neuroscience data that\n",
    "we've stored in an array. We've stored some data from an fMRI experiment in a\n",
    "Numpy array, you can load it using our the `load_data` utility function from the\n",
    "`nsdlib` software library that we have implemented:"
   ]
  },
  {
   "cell_type": "code",
   "execution_count": null,
   "id": "c780f00b",
   "metadata": {},
   "outputs": [],
   "source": [
    "from ndslib import load_data"
   ]
  },
  {
   "cell_type": "markdown",
   "id": "9ce7a3a6",
   "metadata": {},
   "source": [
    "This `load_data` function takes as arguments the name of the dataset that we\n",
    "would like to download and alternatively also the name of a file that we would\n",
    "like to save the data into (for reuse). The `npy` file format is a format that\n",
    "was developed specifically to store Numpy arrays and that's all that it knows\n",
    "how to store. When you load one of these files, you can assign into a variable\n",
    "the contents of the array that was stored in the file."
   ]
  },
  {
   "cell_type": "code",
   "execution_count": null,
   "id": "afa6df2b",
   "metadata": {},
   "outputs": [],
   "source": [
    "bold = load_data(\"bold_numpy\", fname=\"bold.npy\")\n",
    "\n",
    "print(\"The shape of the data is\", bold.shape)\n",
    "print(\"The dtype of the data is\", bold.dtype)"
   ]
  },
  {
   "cell_type": "markdown",
   "id": "6f824dc1",
   "metadata": {},
   "source": [
    "This data is a little bit more complicated than the arrays you have seen so far.\n",
    "It has 4 dimensions: the first two dimensions are the inplane dimensions of each\n",
    "slice: 64 by 64 voxels. The next dimension is the slice dimension: 25 slices.\n",
    "Finally, the last dimension is the time-points that were measured in the\n",
    "experiment. The dtype of this array is `float64`. These floating point numbers\n",
    "are what computers use to represent real numbers. "
   ]
  },
  {
   "cell_type": "markdown",
   "id": "d69c78a7",
   "metadata": {},
   "source": [
    "### Indexing is used to access elements of an array\n",
    "\n",
    "We've seen how we can create arrays and describe them; now let's talk about how\n",
    "we can get data in and out of arrays. We already know how to index Python lists,\n",
    "and array indexing in Python will look quite similar. But Numpy indexing adds\n",
    "considerably more flexibility and power, and developing array indexing facility\n",
    "is a critical step towards acquiring general proficiency with the package. Let's\n",
    "start simple: accessing individual items in a one-dimensional array looks a lot\n",
    "like indexing into a list (see `listindexing`). For example, the first\n",
    "item in the one-dimensional array we saw earlier, you would do the following:"
   ]
  },
  {
   "cell_type": "code",
   "execution_count": null,
   "id": "8bbe0eec",
   "metadata": {},
   "outputs": [],
   "source": [
    "arr1[0]"
   ]
  },
  {
   "cell_type": "markdown",
   "id": "c2f8271e",
   "metadata": {},
   "source": [
    "or if you want the second element, you would do something like this (don't forget that Python uses 0-based indexing!):"
   ]
  },
  {
   "cell_type": "code",
   "execution_count": null,
   "id": "ad86c7cc",
   "metadata": {},
   "outputs": [],
   "source": [
    "arr1[1]"
   ]
  },
  {
   "cell_type": "markdown",
   "id": "ac0f7db3",
   "metadata": {},
   "source": [
    "Numpy arrays also support two other important syntactic conventions that are\n",
    "also found in Python lists: indexing from the end of the array, and \"slicing\"\n",
    "the array to extract multiple contiguous values.\n",
    "\n",
    "To index from the end, we use the minus sign (-):"
   ]
  },
  {
   "cell_type": "code",
   "execution_count": null,
   "id": "b52a82b6",
   "metadata": {},
   "outputs": [],
   "source": [
    "arr1[-2]"
   ]
  },
  {
   "cell_type": "markdown",
   "id": "eaed0d88",
   "metadata": {},
   "source": [
    "This gives us the 2nd-from-last value in the array. To slice an array, we use\n",
    "the colon (:) operator, passing in the positions we want to start and end at:"
   ]
  },
  {
   "cell_type": "code",
   "execution_count": null,
   "id": "7c0a10e4",
   "metadata": {},
   "outputs": [],
   "source": [
    "arr1[2:5]"
   ]
  },
  {
   "cell_type": "markdown",
   "id": "3ff65742",
   "metadata": {},
   "source": [
    "As in lists, the start index is inclusive and the end index is exclusive (i.e.,\n",
    "in the above example, the resulting array includes the value at position 2, but\n",
    "excludes the one at position 6). We can also omit the start or end indexes, in\n",
    "which case, Numpy will return all positions up to, or starting from, the provided\n",
    "index. For example, to get the first 4 elements:"
   ]
  },
  {
   "cell_type": "code",
   "execution_count": null,
   "id": "0c2e8b1f",
   "metadata": {},
   "outputs": [],
   "source": [
    "arr1[:4]"
   ]
  },
  {
   "cell_type": "markdown",
   "id": "4ef132f3",
   "metadata": {},
   "source": [
    "### Indexing in multiple dimensions\n",
    "\n",
    "Once we start working with arrays with more than one dimension, indexing gets a\n",
    "little more complicated. Both because the syntax is a little different, and\n",
    "because there's a lot more we can do with multi-dimensional arrays.\n",
    "\n",
    "For example, if you try one of these operations with a two-dimensional array,\n",
    "something funny will happen:"
   ]
  },
  {
   "cell_type": "code",
   "execution_count": null,
   "id": "6a411786",
   "metadata": {},
   "outputs": [],
   "source": [
    "arr2[0]"
   ]
  },
  {
   "cell_type": "markdown",
   "id": "6d198da1",
   "metadata": {},
   "source": [
    "It looks like the first item of a two-dimensional array is the entire first row\n",
    "of that array. To access the first element in the first row, we need to use two\n",
    "indices, separated by a comma:"
   ]
  },
  {
   "cell_type": "code",
   "execution_count": null,
   "id": "ac50df9e",
   "metadata": {},
   "outputs": [],
   "source": [
    "arr2[0, 0]"
   ]
  },
  {
   "cell_type": "markdown",
   "id": "0845db39",
   "metadata": {},
   "source": [
    "One way to think about this is that the first index points to the row and the\n",
    "second index points to the column, so to get the very first item in the array,\n",
    "we need to explicitly ask for the first column in the first row. Consider what\n",
    "happens when you ask for third item in the second row:"
   ]
  },
  {
   "cell_type": "code",
   "execution_count": null,
   "id": "2f0a995c",
   "metadata": {},
   "outputs": [],
   "source": [
    "arr2[1, 2]"
   ]
  },
  {
   "cell_type": "markdown",
   "id": "fbcad999",
   "metadata": {},
   "source": [
    "How would you access data in the BOLD array? As an example, let's access the\n",
    "voxel in the very first time-point, in the very first slice, and in this slice\n",
    "in the first row and column:"
   ]
  },
  {
   "cell_type": "code",
   "execution_count": null,
   "id": "e308f9b0",
   "metadata": {},
   "outputs": [],
   "source": [
    "bold[0, 0, 0, 0]"
   ]
  },
  {
   "cell_type": "markdown",
   "id": "1ed7cad2",
   "metadata": {},
   "source": [
    "This element of the array is the very corner of the volume, so it is way outside\n",
    "of the part of the data that contains the brain. That is why it contains a value\n",
    "of 0. Instead, we can look at the voxel at the very center of the center slice:"
   ]
  },
  {
   "cell_type": "code",
   "execution_count": null,
   "id": "17b2386e",
   "metadata": {},
   "outputs": [],
   "source": [
    "bold[32, 32, 12, 0]"
   ]
  },
  {
   "cell_type": "markdown",
   "id": "c0f7ba55",
   "metadata": {},
   "source": [
    "This voxel has a value that corresponds to the intensity of the MR image in this\n",
    "voxel at the first time point. If we drop the last index, that would be like\n",
    "asking for the data in all of the time-points in that particular voxel:"
   ]
  },
  {
   "cell_type": "code",
   "execution_count": null,
   "id": "20d07f34",
   "metadata": {},
   "outputs": [],
   "source": [
    "bold[32, 32, 12]"
   ]
  },
  {
   "cell_type": "markdown",
   "id": "8194ebd4",
   "metadata": {},
   "source": [
    "This is now a time-series of data, corresponding to the intensity of the BOLD\n",
    "response in the voxel at the very center of the central slice, across all time\n",
    "points in the measurement."
   ]
  },
  {
   "cell_type": "markdown",
   "id": "99434159",
   "metadata": {},
   "source": [
    "### Slicing a dimension with \"`:`\"\n",
    "\n",
    "As you saw before, we can use slicing to choose a sub-array from within our\n",
    "array. For example, you can slice out the time-series in the central voxel, as\n",
    "we just did:"
   ]
  },
  {
   "cell_type": "code",
   "execution_count": null,
   "id": "c029020d",
   "metadata": {},
   "outputs": [],
   "source": [
    "bold[32, 32, 12, :]"
   ]
  },
  {
   "cell_type": "markdown",
   "id": "cbe07594",
   "metadata": {},
   "source": [
    "This is equivalent to dropping the last index. If we want to slice through all\n",
    "of the slices, taking the values of the central voxel in each slice, in the very\n",
    "first time-point, we would instead slice on the third (slice) dimension of the\n",
    "array:"
   ]
  },
  {
   "cell_type": "code",
   "execution_count": null,
   "id": "ac3b2c44",
   "metadata": {},
   "outputs": [],
   "source": [
    "bold[32, 32, :, 0]"
   ]
  },
  {
   "cell_type": "markdown",
   "id": "bf433cc6",
   "metadata": {},
   "source": [
    "These 25 values correspond to the values in the center of each slice in the\n",
    "first time point. We can also slice on multiple dimensions of the array. For\n",
    "example, if we would like to get the values of all the voxels in the central\n",
    "slice in the very first time-point, we can do:"
   ]
  },
  {
   "cell_type": "code",
   "execution_count": null,
   "id": "6f516ab8",
   "metadata": {},
   "outputs": [],
   "source": [
    "central_slice_t0 = bold[:, :, 12, 0]"
   ]
  },
  {
   "cell_type": "markdown",
   "id": "91d52843",
   "metadata": {},
   "source": [
    "This is a two-dimensional array, with the dimensions of the slice:"
   ]
  },
  {
   "cell_type": "code",
   "execution_count": null,
   "id": "99df03b8",
   "metadata": {},
   "outputs": [],
   "source": [
    "central_slice_t0.shape"
   ]
  },
  {
   "cell_type": "markdown",
   "id": "57ca2769",
   "metadata": {},
   "source": [
    "Which we can verify by printing out the values inside the array:"
   ]
  },
  {
   "cell_type": "code",
   "execution_count": null,
   "id": "b376be7c",
   "metadata": {},
   "outputs": [],
   "source": [
    "print(central_slice_t0)"
   ]
  },
  {
   "cell_type": "code",
   "execution_count": null,
   "id": "142f432a",
   "metadata": {},
   "outputs": [],
   "source": [
    "bold.shape"
   ]
  },
  {
   "cell_type": "markdown",
   "id": "afe6ac62",
   "metadata": {},
   "source": [
    "### Indexing with conditionals\n",
    "\n",
    "One more way of indexing is to to use logical operations, or conditionals. This\n",
    "allows us to choose values from an array, only if they fulfill certain\n",
    "conditions. For example, if we'd like to exclude measurements with a value of 0\n",
    "or less, we might perform a logical operation like the following:"
   ]
  },
  {
   "cell_type": "code",
   "execution_count": null,
   "id": "fd9da706",
   "metadata": {},
   "outputs": [],
   "source": [
    "larger_than_0 = bold>0"
   ]
  },
  {
   "cell_type": "markdown",
   "id": "affa50d5",
   "metadata": {},
   "source": [
    "This creates a new array that has the same shape as the original array, but\n",
    "contains Boolean (`True`/`False`) values. Wherever we had a number larger than 0\n",
    "in the original array, this new array will have the value `True` and wherever\n",
    "the numbers in the original array were 0 or smaller, this new array will have\n",
    "the value `False`. This is already helpful in some regards, but the next thing\n",
    "that we can do with this is that we can use this array to index into the\n",
    "original array. What this does is that it pulls out of the original array only\n",
    "the values for which `larger_than_0` is `True` and reorganizes these values as a\n",
    "long one-dimensional array:"
   ]
  },
  {
   "cell_type": "code",
   "execution_count": null,
   "id": "d08fa420",
   "metadata": {},
   "outputs": [],
   "source": [
    "bold[larger_than_0]"
   ]
  },
  {
   "cell_type": "markdown",
   "id": "ab3a1005",
   "metadata": {},
   "source": [
    "This can be useful, for example, if you would like to calculate statistics of\n",
    "the original array, but only above some threshold value. For example, if you\n",
    "would like to calculate the average of the array (using the `mean` method of the\n",
    "array) with and without values that are 0 or less:"
   ]
  },
  {
   "cell_type": "code",
   "execution_count": null,
   "id": "7abd7de4",
   "metadata": {},
   "outputs": [
    {
     "name": "stdout",
     "output_type": "stream",
     "text": [
      "148.077239538181\n"
     ]
    }
   ],
   "source": [
    "print(bold.mean())\n",
    "print(bold[larger_than_0].mean())"
   ]
  },
  {
   "cell_type": "markdown",
   "id": "631f2494",
   "metadata": {},
   "source": [
    "#### Exercise\n",
    "\n",
    "Arrays have a variety of methods attached to them to do calculations. Use the\n",
    "array method `std` to calculate the standard deviation of the `bold` array, and\n",
    "the standard deviation of just values of the array that are between 1 and 100.\n",
    "\n",
    "### Arithmetic with arrays\n",
    "\n",
    "In addition to storing data from a measurement, and providing access to the this\n",
    "data through indexing, arrays also support a variety of mathematical operations\n",
    "with arrays. For example, you can perform arithmetic operations between an array\n",
    "and a number. Consider for example what happens when we add a single number to\n",
    "an entire array:"
   ]
  },
  {
   "cell_type": "code",
   "execution_count": null,
   "id": "08313542",
   "metadata": {},
   "outputs": [],
   "source": [
    "bold[32, 32, 12] + 1000"
   ]
  },
  {
   "cell_type": "markdown",
   "id": "fdecf285",
   "metadata": {},
   "source": [
    "The result of this operation is that the number is added to every item in the\n",
    "array. Similarly:"
   ]
  },
  {
   "cell_type": "code",
   "execution_count": null,
   "id": "d28835b7",
   "metadata": {},
   "outputs": [],
   "source": [
    "bold[32, 32, 12] / 2"
   ]
  },
  {
   "cell_type": "markdown",
   "id": "97c8c3f2",
   "metadata": {},
   "source": [
    "In this case, the number is used to separately divide each one of the elements\n",
    "of the array.\n",
    "\n",
    "We can also do arithmetic between arrays. For example, we can add the values in\n",
    "this voxel to the items in the central voxel in the neighboring slice:"
   ]
  },
  {
   "cell_type": "code",
   "execution_count": null,
   "id": "e4bb6b48",
   "metadata": {},
   "outputs": [],
   "source": [
    "bold[32, 32, 12] + bold[32, 32, 11]"
   ]
  },
  {
   "cell_type": "markdown",
   "id": "17d66d3c",
   "metadata": {},
   "source": [
    "When we perform arithmetic operations between an array and a number (or\n",
    "array-scalar operations), the number is separately added to each element. Here,\n",
    "when we perform arithmetic operations between arrays (array-array operations),\n",
    "the operation is instead performed element-by-element. In both cases the result\n",
    "is an array that has the same number of items as the original array (or arrays)."
   ]
  },
  {
   "cell_type": "code",
   "execution_count": 1,
   "id": "7c815d81",
   "metadata": {},
   "outputs": [
    {
     "ename": "NameError",
     "evalue": "name 'bold' is not defined",
     "output_type": "error",
     "traceback": [
      "\u001b[0;31m---------------------------------------------------------------------------\u001b[0m",
      "\u001b[0;31mNameError\u001b[0m                                 Traceback (most recent call last)",
      "Cell \u001b[0;32mIn[1], line 1\u001b[0m\n\u001b[0;32m----> 1\u001b[0m tsnr \u001b[38;5;241m=\u001b[39m \u001b[43mbold\u001b[49m\u001b[38;5;241m.\u001b[39mmean(\u001b[38;5;241m-\u001b[39m\u001b[38;5;241m1\u001b[39m) \u001b[38;5;241m/\u001b[39m bold\u001b[38;5;241m.\u001b[39mstd(\u001b[38;5;241m-\u001b[39m\u001b[38;5;241m1\u001b[39m)\n\u001b[1;32m      3\u001b[0m \u001b[38;5;28mprint\u001b[39m(tsnr[tsnr\u001b[38;5;241m.\u001b[39mshape[\u001b[38;5;241m0\u001b[39m]\u001b[38;5;241m/\u001b[39m\u001b[38;5;241m/\u001b[39m\u001b[38;5;241m2\u001b[39m, tsnr\u001b[38;5;241m.\u001b[39mshape[\u001b[38;5;241m1\u001b[39m]\u001b[38;5;241m/\u001b[39m\u001b[38;5;241m/\u001b[39m\u001b[38;5;241m2\u001b[39m, tsnr\u001b[38;5;241m.\u001b[39mshape[\u001b[38;5;241m2\u001b[39m]\u001b[38;5;241m/\u001b[39m\u001b[38;5;241m/\u001b[39m\u001b[38;5;241m2\u001b[39m])\n",
      "\u001b[0;31mNameError\u001b[0m: name 'bold' is not defined"
     ]
    }
   ],
   "source": [
    "tsnr = bold.mean(-1) / bold.std(-1)\n",
    "\n",
    "print(tsnr[tsnr.shape[0]//2, tsnr.shape[1]//2, tsnr.shape[2]//2])"
   ]
  },
  {
   "cell_type": "markdown",
   "id": "cb1cd836",
   "metadata": {},
   "source": [
    "#### Exercises\n",
    "\n",
    "1. Creating an array: create an array that contains the sequence of numbers from 1 to 99 in steps of 2: [1, 3, 5, ..., 99]\n",
    "\n",
    "2. Creating an array of 1's: create an array of shape (3, 5) containing only the number 1\n",
    "\n",
    "3. Find all the items in an array containing numbers that have values that are larger than 0 and smaller or equal to 100\n",
    "\n",
    "4. Find all the items in an array that can be divided by 3 with no remainder (hint: the function `np.mod` executes the modulo operation on every item in the array).\n",
    "\n",
    "5. Generate an array with 100 randomly distributed numbers between 0 and 10 (hint: look at the `np.random` sub-module).\n",
    "\n",
    "\n",
    "### The Scipy library\n",
    "\n",
    "The Numpy array serves as the basis for numerical computing in Python. But it\n",
    "does only so much. Scientific computing involves a variety of different\n",
    "algorithms that do more interesting things with numbers. For example, we'd like\n",
    "to use fancy image processing and signal processing algorithms with our data. Or\n",
    "rely on various facts about statistical distributions. Over the last 100 years,\n",
    "scientists and engineers have developed many different algorithms for scientific\n",
    "computing. In the Python scientific computing ecosystem, many of the fundamental\n",
    "algorithms are collected together in one library, called ``Scipy``. It provides\n",
    "everything but the kitchen sink, in terms of basic algorithms for science.\n",
    "Because it's such a large collection of things, it is composed of several\n",
    "different sub-libraries that perform various scientific computing tasks, such as\n",
    "statistics, image processing, clustering, linear algebra, optimization, etc. We\n",
    "will revisit some of these in later chapters. For now, as an example, we will\n",
    "focus on the signal processing sub-library ``scipy.signal``. We import the\n",
    "sub-library and name it `sps`:"
   ]
  },
  {
   "cell_type": "code",
   "execution_count": null,
   "id": "60a6b501",
   "metadata": {},
   "outputs": [],
   "source": [
    "import scipy.signal as sps"
   ]
  },
  {
   "cell_type": "markdown",
   "id": "5df9af52",
   "metadata": {},
   "source": [
    "Remember that the BOLD dataset that we were looking at before had 180\n",
    "time-points. That means that the shape of this data was `(64, 64, 25, 180)`. One\n",
    "basic signal processing operation is to efficiently and accurately resample a\n",
    "time-series into a different sampling rate. For example, let's imagine that we'd\n",
    "like to resample the data to a slower sampling rate. The original data was\n",
    "collected with a sampling interval or repetition time (TR) of 2.0 seconds. If we\n",
    "would like to resample this to half the sampling rate (TR=4.0 seconds), we would\n",
    "halve the number of samples on the last dimension using the `sps.resample`\n",
    "function:"
   ]
  },
  {
   "cell_type": "code",
   "execution_count": null,
   "id": "13506d47",
   "metadata": {},
   "outputs": [],
   "source": [
    "resampled_bold = sps.resample(bold, 90, axis=3)\n",
    "print(resampled_bold.shape)"
   ]
  },
  {
   "cell_type": "markdown",
   "id": "8eca9a62",
   "metadata": {},
   "source": [
    "If, instead, we'd like to resample this to twice the sampling rate (TR=1.0), we\n",
    "would double the number of samples."
   ]
  },
  {
   "cell_type": "code",
   "execution_count": null,
   "id": "f9640fad",
   "metadata": {},
   "outputs": [],
   "source": [
    "resampled_bold = sps.resample(bold, 360, axis=3)\n",
    "print(resampled_bold.shape)"
   ]
  },
  {
   "cell_type": "markdown",
   "id": "1e8cde80",
   "metadata": {},
   "source": [
    "Although an entire book could be written about Scipy, we will not go into much more detail here. One reason is that Scipy is *under the hood* of many of the applications that you will see later in the book. For example, the \"high-level\" libraries that we will use for image-processing (`skimage`) and for machine-learning (`sklearn`) rely on implementations of fundamental computational methods in Scipy. But, unless you are building such tools from scractch, you may not need to use it directly. Nevertheless, it is a wonderful resource to know about, when you do want to build something new that is not already implemented in the existing libraries.\n",
    "\n",
    "#### Exercise\n",
    "\n",
    "Use the `scipy.interpolate` sub-library to interpolate the signal in one voxel (take the central voxel, `bold[32, 32, 12]`) to even higher resolution (TR=0.5 seconds, or 720 samples) using a cubic spline. Hint: Look at the documentation of the `scipy.interpolate.interp1d` function to choose the method of interpolation and for example usage."
   ]
  },
  {
   "cell_type": "markdown",
   "id": "131ef314-e76b-48c6-89ce-6832ad36ab31",
   "metadata": {},
   "source": [
    "*This tutorial was based on Chapter 8 of the [Neuroimaging and Data Science](https://neuroimaging-data-science.org/root.html) textbook.*"
   ]
  }
 ],
 "metadata": {
  "jupytext": {
   "formats": "ipynb,md:myst",
   "text_representation": {
    "extension": ".md",
    "format_name": "myst",
    "format_version": 0.13,
    "jupytext_version": "1.11.5"
   }
  },
  "kernelspec": {
   "display_name": "Python 3 (ipykernel)",
   "language": "python",
   "name": "python3"
  },
  "language_info": {
   "codemirror_mode": {
    "name": "ipython",
    "version": 3
   },
   "file_extension": ".py",
   "mimetype": "text/x-python",
   "name": "python",
   "nbconvert_exporter": "python",
   "pygments_lexer": "ipython3",
   "version": "3.8.16"
  },
  "source_map": [
   15,
   20,
   52,
   90,
   232,
   234,
   263,
   267,
   272,
   277,
   293,
   301,
   310,
   330,
   366,
   378,
   398,
   400,
   409,
   416,
   434,
   452,
   454,
   458,
   460,
   468,
   470,
   480,
   482,
   490,
   492,
   503,
   505,
   511,
   513,
   520,
   522,
   531,
   537,
   539,
   545,
   547,
   553,
   555,
   561,
   569,
   571,
   578,
   580,
   587,
   589,
   593,
   595,
   599,
   603,
   605,
   615,
   617,
   629,
   631,
   638,
   641,
   659,
   661,
   666,
   668,
   676,
   678,
   698,
   702,
   736,
   738,
   750,
   753,
   758,
   761
  ]
 },
 "nbformat": 4,
 "nbformat_minor": 5
}
