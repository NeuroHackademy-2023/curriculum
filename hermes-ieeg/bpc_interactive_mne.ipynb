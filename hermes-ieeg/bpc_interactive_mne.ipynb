{
 "cells": [
  {
   "cell_type": "markdown",
   "metadata": {},
   "source": [
    "# Basis profile curve identification to understand electrical stimulation effects in human brain networks\n",
    "\n",
    "The Basis Profile Curve identification method was developed in Matlab by Kai J. Miller and is described here:\n",
    "- Miller, K. J., Müller, K. R., & Hermes, D. (2021). Basis profile curve identification to understand electrical stimulation effects in human brain networks. *PLoS computational biology*, 17(9), e1008710. doi: https://doi.org/10.1371/journal.pcbi.1008710)\n",
    "\n",
    "> **Abstract (Miller et al. 2021)**\n",
    "<br /> Brain networks can be explored by delivering brief pulses of electrical current in one area while measuring voltage responses in other areas. We propose a convergent paradigm to study brain dynamics, focusing on a single brain site to observe the average effect of stimulating each of many other brain sites. Viewed in this manner, visually-apparent motifs in the temporal response shape emerge from adjacent stimulation sites. This work constructs and illustrates a data-driven approach to determine characteristic spatiotemporal structure in these response shapes, summarized by a set of unique “basis profile curves” (BPCs). Each BPC may be mapped back to underlying anatomy in a natural way, quantifying projection strength from each stimulation site using simple metrics. Our technique is demonstrated for an array of implanted brain surface electrodes in a human patient. This framework enables straightforward interpretation of single-pulse brain stimulation data, and can be applied generically to explore the diverse milieu of interactions that comprise the connectome.\n",
    "\n",
    "This project was supported by the National Institute Of Mental Health of the National Institutes of Health under Award Number R01MH122258. The content is solely the responsibility of the authors and does not necessarily represent the official views of the National Institutes of Health.\n",
    "\n",
    "This Jupyter Notebook was written by Alex Rockhill, Tal Pal Attia, Harvey Huang, Max vd Boom and Dora Hermes."
   ]
  },
  {
   "cell_type": "markdown",
   "metadata": {},
   "source": [
    "# Overview\n",
    "\n",
    "This notebook will walk you through the following five steps to compute and visualize Basis Profile Curves (BPCs) in an interactive manner:\n",
    "1. Python packages\n",
    "2. Load BIDS data and metadata using MNE, and look at stimulation driven inputs to 1 electrode\n",
    "3. Group these inputs into Basis Profile Curves (BPCs)\n",
    "4. Visualize the BPCs\n"
   ]
  },
  {
   "cell_type": "markdown",
   "metadata": {},
   "source": [
    "# 1. Python packages\n",
    "\n",
    "Dependencies:\n",
    " - [MNE](https://mne.tools/stable/index.html)\n",
    " - [MNE-BIDS](https://mne.tools/mne-bids/stable/index.html)\n",
    " - [openneuro-py](https://pypi.org/project/openneuro-py/)\n",
    " - numpy (version>=1.24.4)\n",
    " - pandas (version>=2.0.3)\n",
    " - scipy (version>=1.10.1)\n",
    " - sklearn \n",
    " - matplotlib\n",
    " - tqdm\n",
    " - ipykernel\n",
    " - nilearn\n"
   ]
  },
  {
   "cell_type": "code",
   "execution_count": null,
   "metadata": {},
   "outputs": [],
   "source": [
    "# import packages\n",
    "from pathlib import Path\n",
    "import numpy as np\n",
    "import openneuro\n",
    "import mne\n",
    "import mne_bids\n",
    "import pandas as pd\n",
    "import matplotlib.pyplot as plt\n",
    "import matplotlib.cm as cm\n",
    "from sklearn.decomposition import NMF\n",
    "from scipy import stats\n"
   ]
  },
  {
   "cell_type": "markdown",
   "metadata": {},
   "source": [
    "# 2. Loading and checking the BIDS data and metadata\n",
    "\n",
    "An example iEEG dataset is available on OpenNeuro ([link](https://openneuro.org/datasets/ds003708)). This dataset is formatted according to the Brain Imaging Data Structure ([BIDS](https://bids.neuroimaging.io/)) and contains one subject to work with in this tutorial. \n",
    "\n",
    "This dataset includes an electrocorticography (ECoG) dataset with single pulse stimulation, and accompanying metadata, such as electrode positions, channel information, stimulation events etc."
   ]
  },
  {
   "cell_type": "code",
   "execution_count": null,
   "metadata": {},
   "outputs": [],
   "source": [
    "# You may download the data using openneuro-py\n",
    "\n",
    "# dataset = 'ds003708'\n",
    "# root = Path('..') / '..' / dataset\n",
    "# openneuro.download(dataset=dataset, target_dir=root)"
   ]
  },
  {
   "cell_type": "code",
   "execution_count": null,
   "metadata": {},
   "outputs": [],
   "source": [
    "# If you already downloaded the data, you can just set the root path to the BIDS directory\n",
    "\n",
    "\"\"\"\n",
    "# The preprocessed Brainvision data are located in /derivatives/preprocessed/\n",
    "\"\"\"\n",
    "\n",
    "root = Path('/home/jovyan/shared/ds003708-download/derivatives/preprocessed/') # '/full/path/to/Basis_profile_curve/data'"
   ]
  },
  {
   "cell_type": "markdown",
   "metadata": {},
   "source": [
    "## 2.1 Load BIDS metadata\n",
    "\n",
    "We use pyBIDS to initialize a BIDSLayout: this will index the files and metadata under the specified root folder (should be 1 subject, 1 session, 1 run)."
   ]
  },
  {
   "cell_type": "code",
   "execution_count": null,
   "metadata": {},
   "outputs": [],
   "source": [
    "\"\"\"\n",
    "Specify the subject, session, task and run \n",
    "\"\"\"\n",
    "\n",
    "bids_sub = '01' # The subject label\n",
    "bids_ses = 'ieeg01' # The session label\n",
    "bids_task = 'ccep' # The task name\n",
    "bids_run = '01' # The run name"
   ]
  },
  {
   "cell_type": "code",
   "execution_count": null,
   "metadata": {},
   "outputs": [],
   "source": [
    "# Read the raw BIDS structure using mne_bids\n",
    "\n",
    "path = mne_bids.BIDSPath(\n",
    "    subject=bids_sub, session=bids_ses, task=bids_task, run=bids_run, root=root)\n",
    "raw = mne_bids.read_raw_bids(path)\n",
    "\n",
    "# lets look at some of the metadata\n",
    "display(raw)"
   ]
  },
  {
   "cell_type": "code",
   "execution_count": null,
   "metadata": {},
   "outputs": [],
   "source": [
    "# Render an MNI brain and plot electrode positions\n",
    "\n",
    "trans = mne.transforms.Transform(fro='head', to='mri', trans=np.eye(4))  # identity\n",
    "fig = mne.viz.plot_alignment(\n",
    "    raw.info, trans=trans, subject='fsaverage', surfaces='pial')\n",
    "mne.viz.set_3d_view(fig, azimuth=190)\n",
    "\n",
    "\"\"\"\n",
    "Rotate the image to focus on an area of interest \n",
    "\"\"\""
   ]
  },
  {
   "cell_type": "code",
   "execution_count": null,
   "metadata": {},
   "outputs": [],
   "source": [
    "# Make a snapshot of the current view \n",
    "\n",
    "xy, im = mne.viz.snapshot_brain_montage(fig, raw.info)"
   ]
  },
  {
   "cell_type": "code",
   "execution_count": null,
   "metadata": {},
   "outputs": [],
   "source": [
    "# Plot the snapshot with electrode labels added\n",
    "\n",
    "%matplotlib\n",
    "fig, ax = plt.subplots(figsize=(10, 10))\n",
    "ax.axis('off')\n",
    "ax.imshow(im)\n",
    "for name, pos in xy.items():\n",
    "    if pos[0] >= 0 and pos[1] >= 0:  # no NaN locations\n",
    "        ax.text(*pos, name, ha='center', va='center', fontsize=8)\n",
    "\n",
    "fig.show()\n"
   ]
  },
  {
   "cell_type": "markdown",
   "metadata": {},
   "source": [
    "## 2.2 Select electrode of interest and load data\n"
   ]
  },
  {
   "cell_type": "code",
   "execution_count": null,
   "metadata": {},
   "outputs": [],
   "source": [
    "\"\"\" \n",
    "Pick an electrode of interest and plot epoched data\n",
    "\"\"\"\n",
    "\n",
    "contact = 'LMS2'\n",
    "\n",
    "# Indicate how long epochs should be\n",
    "tmin, tmax = -1, 2\n",
    "# What is the baseline interval?\n",
    "bl_tmin, bl_tmax = -0.5, -0.05\n",
    "\n",
    "# Import events\n",
    "events, event_id = mne.events_from_annotations(raw)\n",
    "\n",
    "# Read events from the BIDS events.tsv file\n",
    "metadata = pd.read_csv(path.update(suffix='events'), sep='\\t')\n",
    "keep = metadata.trial_type == 'electrical_stimulation'\n",
    "if 'status' in metadata:\n",
    "    keep = np.logical_and(keep, metadata.status == 'good')\n",
    "metadata = metadata[keep]\n",
    "epochs = mne.Epochs(raw, events[keep],\n",
    "                    tmin=tmin, tmax=tmax,\n",
    "                    baseline=(bl_tmin, bl_tmax), picks=[contact],\n",
    "                    preload=True)\n",
    "# try ``baseline=None`` for no baseline correction to play around\n",
    "epochs.metadata = metadata  # contains stimulation location information\n",
    "\n",
    "# unpack each pair separated by a hyphen, only use trials where\n",
    "# stimulation was delivered to channels other than the channel of\n",
    "# interest\n",
    "epochs.metadata['site1'], epochs.metadata['site2'] = np.array([\n",
    "    sites.split('-') for sites in\n",
    "    epochs.metadata.electrical_stimulation_site]).T\n",
    "exclude = np.in1d(epochs.metadata.site1, contact) | \\\n",
    "    np.in1d(epochs.metadata.site2, contact)\n",
    "epochs = epochs[~exclude]\n",
    "\n",
    "epochs.plot_image(picks=[contact], cmap='viridis', vmin=-250, vmax=250)"
   ]
  },
  {
   "cell_type": "markdown",
   "metadata": {},
   "source": [
    "# 3. Calculate BPCs\n",
    "\n",
    "Identifying basis profile curves (BPCs) that group characteristic shapes in the convergent CCEPs. The input for the BPC calculation is the convergent matrix (V) with signals from 1 channel and all stimulation pairs.\n",
    "\n",
    "## 3.1 Select time-frame for BPC extraction"
   ]
  },
  {
   "cell_type": "code",
   "execution_count": null,
   "metadata": {},
   "outputs": [],
   "source": [
    "\"\"\" \n",
    "Select the epoch times to enter in the BPC analyses in seconds \n",
    "\"\"\"\n",
    "\n",
    "bpc_tmin, bpc_tmax = 0.015, 1"
   ]
  },
  {
   "cell_type": "markdown",
   "metadata": {},
   "source": [
    "## 3.2 Calculate the significance matrix\n",
    "\n",
    "To calculate the significance matrix, we project the unit-normalized stimulation trials into all other trials. We then calculate t-values across all subgroups of stimulation pairs."
   ]
  },
  {
   "cell_type": "code",
   "execution_count": null,
   "metadata": {},
   "outputs": [],
   "source": [
    "# stim_sites contains the stimulation sites for each epoch\n",
    "stim_sites = epochs.metadata.electrical_stimulation_site\n",
    "V = epochs.get_data(tmin=bpc_tmin, tmax=bpc_tmax)[:, 0]  # select only channel\n",
    "times = epochs.times[(epochs.times >= bpc_tmin) & (epochs.times <= bpc_tmax)]\n",
    "V0 = V / np.linalg.norm(V, axis=1)[:, None]  # L2 norm each trial\n",
    "P = V0 @ V.T  # calculate internal cross-trial projections\n",
    "\n",
    "# pairs contains the unique stimulation pairs (subgroups)\n",
    "# we calculate tmat, where each index contains a t-value \n",
    "# t-values indicate cross-subgroup interactions\n",
    "pairs = np.array(sorted(np.unique(stim_sites)))\n",
    "tmat = np.zeros((len(pairs), len(pairs)))\n",
    "for i, pair1 in enumerate(pairs):\n",
    "    for j, pair2 in enumerate(pairs):\n",
    "        b = P[np.ix_(stim_sites == pair1, stim_sites == pair2)]\n",
    "        if i == j:  # subset without diagonal\n",
    "            b = np.concatenate([b[np.tril_indices(b.shape[0], k=-1)],\n",
    "                                b[np.triu_indices(b.shape[0], k=1)]])\n",
    "        b = b.ravel()\n",
    "        tmat[i, j] = np.mean(b) * np.sqrt(len(b)) / np.std(b, ddof=1)\n",
    "\n",
    "fig, ax = plt.subplots(figsize=(10, 10))\n",
    "img = ax.imshow(tmat, vmin=0, vmax=10)\n",
    "ax.set_xticks(range(tmat.shape[0]))\n",
    "ax.set_xticklabels(pairs, rotation=90, fontsize=8)\n",
    "ax.set_xlabel('Stimulation Pair')\n",
    "ax.set_yticks(range(tmat.shape[0]))\n",
    "ax.set_yticklabels(pairs, fontsize=8)\n",
    "ax.set_ylabel('Stimulation Pair')\n",
    "ax.set_title(r'Significance Matrix $\\Xi$', fontsize=15)\n",
    "fig.colorbar(img, ax=ax)\n",
    "fig.subplots_adjust(bottom=0.2)\n",
    "fig.show()"
   ]
  },
  {
   "cell_type": "markdown",
   "metadata": {},
   "source": [
    "## 3.3 Iteratively decrease inner components of non-negative matrix factorization\n",
    "\n",
    "Using Non-Negative Matrix Factorization (NMF) on the significance matrix to cluster sites that produce similar measured responses."
   ]
  },
  {
   "cell_type": "code",
   "execution_count": null,
   "metadata": {},
   "outputs": [],
   "source": [
    "# Find two non-negative matrices (W, H) whose product approximates the factorize, \n",
    "# non-negative and rescaled matrix (t0). \n",
    "# At the end, the matrix H has size of number of clusters by stimulation pair sub-groups.\n",
    "\n",
    "t0 = tmat.copy()\n",
    "t0[t0 < 0] = 0\n",
    "t0[np.isnan(t0)] = 0\n",
    "t0 /= (np.max(t0))\n",
    "\n",
    "cluster_dim = 9\n",
    "n_reruns = 20\n",
    "tol = 1e-5\n",
    "random_state = 11\n",
    "for n_components in range(cluster_dim, 1, -1):\n",
    "    this_error = None\n",
    "    for k in range(n_reruns):\n",
    "        model = NMF(n_components=n_components, init='random', solver='mu',\n",
    "                    tol=tol, max_iter=10000, random_state=random_state).fit(t0)\n",
    "        if this_error is None or model.reconstruction_err_ < this_error:\n",
    "            this_error = model.reconstruction_err_\n",
    "            W = model.transform(t0)\n",
    "            H = model.components_\n",
    "    H /= np.linalg.norm(H, axis=1)[:, None]\n",
    "    nmf_penalty = np.triu(H @ H.T, k=1).sum()\n",
    "    print(f'Inner dimension: {n_components}, off diagonal score: {nmf_penalty}')\n",
    "    if nmf_penalty < 1:\n",
    "        break\n"
   ]
  },
  {
   "cell_type": "markdown",
   "metadata": {},
   "source": [
    "## 3.4 Identification of Basis Profile Curves \n",
    "\n",
    "BPCs are identified from the clustered groups (rows of H) using linear kernel PCA."
   ]
  },
  {
   "cell_type": "code",
   "execution_count": null,
   "metadata": {},
   "outputs": [],
   "source": [
    "# Output will show the subgroup numbers clustered in each BPC\n",
    "\n",
    "# find stimulation trials for every BPC using linear kernal PCA\n",
    "def kpca(X):\n",
    "    F, S, _ = np.linalg.svd(X.T)  # Compute the eigenvalues and right eigenvectors\n",
    "    ES = X @ F  # kernel trick\n",
    "    # divide through to obtain unit-normalized eigenvectors\n",
    "    E = ES / (np.ones((X.shape[0], 1)) @ S[None])\n",
    "    return E\n",
    "\n",
    "# find significant pairs per BPC; must be > threshold and greater than other BPCs\n",
    "bpc_pairs = np.zeros((len(pairs))) * np.nan  # index of bpc\n",
    "Bs = np.zeros((n_components, V.shape[1]))  # n_BPCs x n_times\n",
    "for bpc_idx in range(n_components):  # loop over BPCs\n",
    "    bpc_pair_idxs = np.where((H[bpc_idx] == np.max(H, axis=0)) &\n",
    "                             (H[bpc_idx] > 1 / (2 * np.sqrt(len(pairs)))))[0]\n",
    "    bpc_pairs[bpc_pair_idxs] = bpc_idx\n",
    "    bpc_trials = np.concatenate([np.where(stim_sites == pairs[idx])[0]\n",
    "                                 for idx in bpc_pair_idxs])\n",
    "    Bs[bpc_idx] = kpca(V[bpc_trials].T)[:, 0]  # basis vector is 1st PC\n",
    "    if np.mean(Bs[bpc_idx] @ V[bpc_trials].T) < 0:\n",
    "        Bs[bpc_idx] *= -1  # sign flip\n",
    "    print(bpc_idx, bpc_pair_idxs)\n",
    "excluded_pairs = pairs[np.isnan(bpc_pairs)]"
   ]
  },
  {
   "cell_type": "markdown",
   "metadata": {},
   "source": [
    "# 4. Visualize BPCs\n",
    "\n",
    "## 4.1 Plot Calculated BPCs\n",
    "\n",
    "Plot the BPC waveforms"
   ]
  },
  {
   "cell_type": "code",
   "execution_count": null,
   "metadata": {},
   "outputs": [],
   "source": [
    "# %%\n",
    "# plot BPCs\n",
    "colors = cm.tab10(np.linspace(0, 1, 10))\n",
    "\n",
    "fig, ax = plt.subplots(figsize=(5, 4))\n",
    "for i, bpc in enumerate(Bs):\n",
    "    ax.plot(times, bpc, color=colors[i], label=i)\n",
    "ax.set_xlabel('Time from stimulation (s)')\n",
    "ax.set_ylabel('Normalized weight of BPCs')\n",
    "ax.set_title('Calculated BPCs', fontsize=15)\n",
    "ax.legend()\n",
    "fig.tight_layout()\n",
    "fig.show()"
   ]
  },
  {
   "cell_type": "markdown",
   "metadata": {},
   "source": [
    "## 4.2 Spatial representation of the BPCs\n",
    "\n",
    "Render the BPC weights on the cortical surface"
   ]
  },
  {
   "cell_type": "code",
   "execution_count": null,
   "metadata": {},
   "outputs": [],
   "source": [
    "# %%\n",
    "# curve statistics for each stim pair\n",
    "alphas = np.zeros((len(stim_sites))) * np.nan\n",
    "epsilon2s = np.zeros((len(stim_sites))) * np.nan\n",
    "V2s = np.zeros((len(stim_sites))) * np.nan\n",
    "errxprojs = np.zeros((len(pairs))) * np.nan\n",
    "p_vals = np.zeros((len(pairs))) * np.nan\n",
    "plotweights = np.zeros((len(pairs))) * np.nan\n",
    "for bpc_idx in range(n_components):  # loop over BPCs\n",
    "    # alpha coefficient weights for basis curve into V\n",
    "    bpc_alphas = Bs[bpc_idx] @ V.T\n",
    "    # residual epsilon (error timeseries) for basis bb after alpha*B coefficient fit\n",
    "    bpc_epsilon2 = V - (Bs[bpc_idx][:, None] @ bpc_alphas[None]).T\n",
    "    errxproj = bpc_epsilon2  @ bpc_epsilon2.T  # calculate all projections of error\n",
    "    V_selfproj = V @ V.T  # power in each trial\n",
    "\n",
    "    # cycle through pair types represented by this basis curve\n",
    "    for pair_idx in np.where(bpc_pairs == bpc_idx)[0]:\n",
    "        trials = stim_sites == pairs[pair_idx]\n",
    "        # alpha coefficient weights for basis curve bb into V\n",
    "        alphas[trials] = bpc_alphas[trials]\n",
    "        # self-submatrix of error projections\n",
    "        a = errxproj[np.ix_(trials, trials)]\n",
    "        epsilon2s[trials] = np.diag(a)\n",
    "        # sum-squared individual trials\n",
    "        V2s[trials] = np.diag(V_selfproj[np.ix_(trials, trials)])\n",
    "\n",
    "        # gather all off-diagonal elements from self-submatrix\n",
    "        b = np.concatenate([a[np.tril_indices(a.shape[0], k=-1)],\n",
    "                            a[np.triu_indices(a.shape[0], k=1)]])\n",
    "\n",
    "        # systematic residual structure within a stim pair group for a given basis will be\n",
    "        # given by set of native normalized internal cross-projections\n",
    "        errxproj[pair_idx] = np.mean(b) * np.sqrt(len(b)) / np.std(b, ddof=1)\n",
    "\n",
    "        plotweights[pair_idx] = np.mean(alphas[trials] / np.sqrt(epsilon2s[trials]))\n",
    "        T_stat, p_val = stats.ttest_1samp((alphas[trials] / np.sqrt(epsilon2s[trials])), 0)\n",
    "        p_vals[pair_idx] = p_val"
   ]
  },
  {
   "cell_type": "code",
   "execution_count": null,
   "metadata": {},
   "outputs": [],
   "source": [
    "# %%\n",
    "# Render the BPC weights from each stimulation pair on the cortical surface.\n",
    "\n",
    "colors = cm.tab10(np.linspace(0, 1, 10))\n",
    "\n",
    "fig, ax = plt.subplots()\n",
    "ax.axis('off')\n",
    "ax.imshow(im)\n",
    "for i, name in enumerate(pairs):\n",
    "    if np.isnan(bpc_pairs[i]):\n",
    "        continue\n",
    "    ch0, ch1 = name.split('-')\n",
    "    pos = (xy[ch0] + xy[ch1]) / 2\n",
    "    if pos[0] < 0 or pos[0] > im.shape[0] or pos[1] < 0 or pos[1] > im.shape[1]:\n",
    "        continue\n",
    "    color = colors[int(bpc_pairs[i])]\n",
    "    size = plotweights[i] * 200\n",
    "    ax.scatter(*pos, color=color[:3], s=[size], alpha=0.75)\n",
    "fig.show()\n"
   ]
  },
  {
   "cell_type": "markdown",
   "metadata": {},
   "source": [
    "## 4.3 Optional parameters to change\n",
    "\n",
    "Once you have completed this, you can also select a different electrode in Section 2.2 to look at the various inputs into different regions.\n",
    "\n",
    "You could also go back to Section 3.1 and change the time interval over which the BPCs are calculated (e.g. 0.2 - 1 sec) and look at the effects on the outputs.\n",
    "\n",
    "Alternatively, we shared 74 patients with CCEP data in BIDS format on OpenNeuro to with [a study on developmental changes in transmission speed](https://www.nature.com/articles/s41593-023-01272-0). Check out these data: https://openneuro.org/datasets/ds004080/versions/1.2.4 "
   ]
  }
 ],
 "metadata": {
  "kernelspec": {
   "display_name": "Python 3 (ipykernel)",
   "language": "python",
   "name": "python3"
  },
  "language_info": {
   "codemirror_mode": {
    "name": "ipython",
    "version": 3
   },
   "file_extension": ".py",
   "mimetype": "text/x-python",
   "name": "python",
   "nbconvert_exporter": "python",
   "pygments_lexer": "ipython3",
   "version": "3.9.12"
  },
  "varInspector": {
   "cols": {
    "lenName": 16,
    "lenType": 16,
    "lenVar": 40
   },
   "kernels_config": {
    "python": {
     "delete_cmd_postfix": "",
     "delete_cmd_prefix": "del ",
     "library": "var_list.py",
     "varRefreshCmd": "print(var_dic_list())"
    },
    "r": {
     "delete_cmd_postfix": ") ",
     "delete_cmd_prefix": "rm(",
     "library": "var_list.r",
     "varRefreshCmd": "cat(var_dic_list()) "
    }
   },
   "types_to_exclude": [
    "module",
    "function",
    "builtin_function_or_method",
    "instance",
    "_Feature"
   ],
   "window_display": false
  }
 },
 "nbformat": 4,
 "nbformat_minor": 4
}
