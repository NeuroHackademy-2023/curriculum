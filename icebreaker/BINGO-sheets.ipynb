{
 "cells": [
  {
   "cell_type": "markdown",
   "metadata": {},
   "source": [
    "# NeuroHackademy 2023: BINGO Icebreaker"
   ]
  },
  {
   "cell_type": "markdown",
   "metadata": {},
   "source": [
    "To play BINGO, you need to generate a BINGO sheet. In order to do this, click in the cell below; this will cause a a prompt to appear in the cell. Once you see the prompt, hold Control and press Enter. This will evaluate the cell and produce a BINGO sheet for you to use! Once the BINGO sheet appears, you can hold Shift and right-click on it to save it or open it in a new tab."
   ]
  },
  {
   "cell_type": "code",
   "execution_count": null,
   "metadata": {},
   "outputs": [],
   "source": [
    "# Import the BINGO's draw function.\n",
    "from BINGO import draw\n",
    "\n",
    "# Draw a BINGO Sheet!\n",
    "draw();"
   ]
  },
  {
   "cell_type": "markdown",
   "metadata": {},
   "source": [
    "For online participants, Zoom rooms for the BINGO sheets can be found [here](https://github.com/neurohackademy-2023/zoom/blob/main/README.md)."
   ]
  }
 ],
 "metadata": {
  "kernelspec": {
   "display_name": "Noah's Python Environment",
   "language": "python",
   "name": "python-nben"
  },
  "language_info": {
   "codemirror_mode": {
    "name": "ipython",
    "version": 3
   },
   "file_extension": ".py",
   "mimetype": "text/x-python",
   "name": "python",
   "nbconvert_exporter": "python",
   "pygments_lexer": "ipython3",
   "version": "3.8.2"
  }
 },
 "nbformat": 4,
 "nbformat_minor": 4
}
