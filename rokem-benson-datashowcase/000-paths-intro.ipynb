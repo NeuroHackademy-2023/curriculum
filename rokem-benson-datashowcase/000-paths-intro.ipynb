{
 "cells": [
  {
   "cell_type": "markdown",
   "id": "4bdbc627-2229-4864-b752-a7efb353be88",
   "metadata": {},
   "source": [
    "# Introduction to Python Paths using `pathlib`\n",
    "\n",
    "In Python we can use the system `os` and `os.path` packages to interact with the filesystem. These utilities are useful, but another library that is typically easier to use is the `pathlib` library. The `pathlib` library treats paths as objects and has a number of handy shorthands.\n",
    "\n",
    "For example, using the `os.path` module, if we want to join two paths in a way that is safe across different operating systems, we would use the `os.path.join` function:\n",
    "\n",
    "```python\n",
    "import os\n",
    "\n",
    "base_path = '/home/jovyan'\n",
    "subdir = 'curriculum'\n",
    "path = os.path.join(base_path, subdir)\n",
    "# path is now equal to '/home/jovyan/curriculum'\n",
    "```\n",
    "\n",
    "Using `pathlib`, we can instead use the `/` operator. Although `/` is typically used for division, it is used with `Path` objects to join paths because the `'/'` character is usually used as a directory separator in POSIX operating systems like linux:\n",
    "\n",
    "```python\n",
    "from pathlib import Path\n",
    "\n",
    "base_path = Path('/home/jovyan')\n",
    "subdir = 'curriculum'\n",
    "path = base_path / subdir\n",
    "# path now represents the path '/home/jovyan/curriculum'\n",
    "```\n",
    "\n",
    "As an example, we will want to create a cache directory in which to store temporary and downloaded files from these various datasets. We will do that with `pathlib`:"
   ]
  },
  {
   "cell_type": "code",
   "execution_count": 1,
   "id": "ac48da8f-9f53-46a6-b109-9e4a294ea32f",
   "metadata": {
    "tags": []
   },
   "outputs": [],
   "source": [
    "from pathlib import Path\n",
    "\n",
    "# Make the path object:\n",
    "cache_path = Path('/tmp/cache')\n",
    "\n",
    "# Just because we have made a cache path object doesn't mean that the directory\n",
    "# we made exists; here we check if it exists and make the directory if not.\n",
    "if not cache_path.exists():\n",
    "    cache_path.mkdir()"
   ]
  },
  {
   "cell_type": "markdown",
   "id": "8b6816a6-95e7-453c-ab70-4a3a075512ba",
   "metadata": {},
   "source": [
    "This cell demonstrates how we can also write out a markdown README file for this directory using `Path` objects."
   ]
  },
  {
   "cell_type": "code",
   "execution_count": 2,
   "id": "eb4b9579-75ec-44db-9bf2-7d5f83a54be4",
   "metadata": {
    "tags": []
   },
   "outputs": [],
   "source": [
    "readme_filename = cache_path / 'README.md'\n",
    "with readme_filename.open('wt') as file:\n",
    "    print('# Local Dataset Cache Directory', file=file)\n",
    "    print('', file=file)\n",
    "    print('This directory contains cache data downloaded from the', file=file)\n",
    "    print('various datasets. The subdirectories in this directory', file=file)\n",
    "    print('should be safe to delete.', file=file)"
   ]
  },
  {
   "cell_type": "markdown",
   "id": "1b642715-75d8-4428-8108-a6cf5b48f548",
   "metadata": {},
   "source": [
    "Check that this file was written correctly:"
   ]
  },
  {
   "cell_type": "code",
   "execution_count": 3,
   "id": "357cc767-d004-4d0d-b884-02b523837a3a",
   "metadata": {
    "tags": []
   },
   "outputs": [
    {
     "name": "stdout",
     "output_type": "stream",
     "text": [
      "# Local Dataset Cache Directory\n",
      "\n",
      "This directory contains cache data downloaded from the\n",
      "various datasets. The subdirectories in this directory\n",
      "should be safe to delete.\n"
     ]
    }
   ],
   "source": [
    "! cat /tmp/cache/README.md"
   ]
  },
  {
   "cell_type": "markdown",
   "id": "2071c308-4ac0-4e84-acab-5e07fdafd5a0",
   "metadata": {},
   "source": [
    "A handy utility for looking at paths is an `ls` function that returns a list of files and directories within a given directory. `Path` objects support an `iterdir()` method that returns an interator of their contents. We can use this to write an `ls` function:"
   ]
  },
  {
   "cell_type": "code",
   "execution_count": 4,
   "id": "87fdfe59-a251-4e2c-ad17-3b75e734709e",
   "metadata": {
    "tags": []
   },
   "outputs": [],
   "source": [
    "def ls(path):\n",
    "    \"Lists the contents of the given path.\"\n",
    "    # If path is not a directory, raise an error:\n",
    "    if not path.is_dir():\n",
    "        raise ValueError(f\"Path '{path}' is not a directory\")\n",
    "    else:\n",
    "        return list(path.iterdir())"
   ]
  },
  {
   "cell_type": "code",
   "execution_count": 5,
   "id": "61375412-0d98-4028-bf83-3758e4a95f98",
   "metadata": {
    "tags": []
   },
   "outputs": [
    {
     "data": {
      "text/plain": [
       "[PosixPath('/tmp/cache/README.md')]"
      ]
     },
     "execution_count": 5,
     "metadata": {},
     "output_type": "execute_result"
    }
   ],
   "source": [
    "# There should only be one file in the cache directory (README.md).\n",
    "ls(cache_path)"
   ]
  },
  {
   "cell_type": "markdown",
   "id": "7b01ab26-1f07-4f75-acb8-12baba346c59",
   "metadata": {},
   "source": [
    "## Paths in the Cloud using `cloudpathlib`\n",
    "\n",
    "The library `cloudpathlib` is similar to `pathlib` in that it represents a path in the cloud and uses a similar interface. Essentially, you can treat a `CloudPath` as a `Path` in most situations and it will simply work. Behind the scenes, it downloads data into whatever cache directory you specify as you request it.\n",
    "\n",
    "A `CloudPath` object can represent an S3 path, an Azure blob path, or a Google storage path. We will be using S3 paths in these demos. For an `S3Path` we typically need to provide information about our authentication and our cache directory via an `S3Client` object. For S3 buckets that don't require authentication, such as the Natural Scenes Dataset bucket, we can simply tell it not to authenticate. Here is an example."
   ]
  },
  {
   "cell_type": "code",
   "execution_count": 6,
   "id": "f70fb318-ad41-4b8f-80d7-0958450158fa",
   "metadata": {
    "tags": []
   },
   "outputs": [],
   "source": [
    "from cloudpathlib import S3Path, S3Client\n",
    "\n",
    "# Create a client that uses our cache path and that does not try to\n",
    "# authenticate with S3.\n",
    "client = S3Client(\n",
    "    local_cache_dir=cache_path,\n",
    "    no_sign_request=True)\n",
    "\n",
    "# Now, create a cloudpath for the NSD's S3 bucket:\n",
    "nsd_base_path = S3Path(\n",
    "    \"s3://natural-scenes-dataset/\",\n",
    "    client=client)"
   ]
  },
  {
   "cell_type": "markdown",
   "id": "853f6559-5099-48fd-8591-e3e13fcdc1bf",
   "metadata": {},
   "source": [
    "Having created this path, we can now list it:"
   ]
  },
  {
   "cell_type": "code",
   "execution_count": 7,
   "id": "3b2f3dfe-c23c-4f4a-89c7-0a249626a43b",
   "metadata": {
    "tags": []
   },
   "outputs": [
    {
     "data": {
      "text/plain": [
       "[S3Path('s3://natural-scenes-dataset/nsddata'),\n",
       " S3Path('s3://natural-scenes-dataset/nsddata_betas'),\n",
       " S3Path('s3://natural-scenes-dataset/nsddata_diffusion'),\n",
       " S3Path('s3://natural-scenes-dataset/nsddata_other'),\n",
       " S3Path('s3://natural-scenes-dataset/nsddata_rawdata'),\n",
       " S3Path('s3://natural-scenes-dataset/nsddata_stimuli'),\n",
       " S3Path('s3://natural-scenes-dataset/nsddata_timeseries'),\n",
       " S3Path('s3://natural-scenes-dataset/index.html')]"
      ]
     },
     "execution_count": 7,
     "metadata": {},
     "output_type": "execute_result"
    }
   ],
   "source": [
    "ls(nsd_base_path)"
   ]
  }
 ],
 "metadata": {
  "kernelspec": {
   "display_name": "Python 3 (ipykernel)",
   "language": "python",
   "name": "python3"
  },
  "language_info": {
   "codemirror_mode": {
    "name": "ipython",
    "version": 3
   },
   "file_extension": ".py",
   "mimetype": "text/x-python",
   "name": "python",
   "nbconvert_exporter": "python",
   "pygments_lexer": "ipython3",
   "version": "3.10.11"
  }
 },
 "nbformat": 4,
 "nbformat_minor": 5
}
