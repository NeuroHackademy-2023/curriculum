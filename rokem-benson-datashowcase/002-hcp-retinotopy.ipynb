{
 "cells": [
  {
   "cell_type": "markdown",
   "id": "cb69b5c4-f390-4992-88b5-d6818aed8918",
   "metadata": {},
   "source": [
    "# The Human Connectome Project 7 Tesla Retinotopy Dataset"
   ]
  },
  {
   "cell_type": "markdown",
   "id": "3a0431b4-53f5-494d-ae54-82f7ef612a77",
   "metadata": {},
   "source": [
    "The HCP collected retinotopic mapping data for 181 subjects. This is a huge dataset of visual function by contemporary standards. The population receptive field (PRF) maps for these mapping experiments were solved and posted on the Open Science Framework (OSF): https://osf.io/bw9ec/ (publication here: https://doi.org/10.1167/18.13.23).\n",
    "\n",
    "The library `neuropythy` is a utility for surface-based analysis of MRI data, and it includes a number of utilities for interacting both with the HCP generally as well as with the retinotopy data specifically. We will walk through these in this notebook."
   ]
  },
  {
   "cell_type": "code",
   "execution_count": 2,
   "id": "4fcd7063-d42b-4993-bd5a-2d1602a45ded",
   "metadata": {
    "tags": []
   },
   "outputs": [],
   "source": [
    "# Import neuropythy:\n",
    "import neuropythy as ny\n",
    "# We will also want a utility function to load HCP credentials.\n",
    "from utils import load_aws_credentials\n",
    "\n",
    "# Tell neuropythy about our HCP credentials and where we are saving cache files.\n",
    "ny.config['hcp_credentials'] = load_aws_credentials('hcp')\n",
    "ny.config['data_cache_root'] = '/home/jovyan/cache'"
   ]
  },
  {
   "cell_type": "markdown",
   "id": "8e414b76-24b5-427d-92b4-8e89a547be19",
   "metadata": {},
   "source": [
    "Now that we have configured neuropythy, let's load a subject and look at their cortical surfaces."
   ]
  },
  {
   "cell_type": "code",
   "execution_count": null,
   "id": "3af9aed9-b601-481f-a257-3e6780ee6461",
   "metadata": {
    "tags": []
   },
   "outputs": [],
   "source": [
    "# Load a subject:\n",
    "sub = ny.hcp_subject(111312)\n",
    "\n",
    "# Plot both their right and left hemispheres together; this will download all\n",
    "# the files required for this plot (but not all of the files in the subject's\n",
    "# that aren't used for this plot).\n",
    "ny.cortex_plot((sub.lh, sub.rh), surface='white')"
   ]
  },
  {
   "cell_type": "markdown",
   "id": "2c2e986d-e736-4803-a1be-6d2be4036ecc",
   "metadata": {},
   "source": [
    "Neuropythy knows about most of the properties and data files included in the HCPpipelines as well as FreeSurfer. For example, if we want to color the label of V1 that is included in FreeSurfer red on the cortical surface we can do that with a simple mask:"
   ]
  },
  {
   "cell_type": "code",
   "execution_count": null,
   "id": "cf059db0-3117-4bdd-ac2f-bccef16476e6",
   "metadata": {
    "tags": []
   },
   "outputs": [],
   "source": [
    "ny.cortex_plot((sub.lh, sub.rh), surface='inflated', color='r', mask='V1_label')"
   ]
  },
  {
   "cell_type": "markdown",
   "id": "e7e5982a-5ae8-41af-9893-c287bf99ebda",
   "metadata": {},
   "source": [
    "## The Retinotopy Data\n",
    "\n",
    "The retinotopy data provided on the OSF can be downloaded manually, but it is generally easier for neuropythy to manage it for you. The first time you access any retinotopy data, it will be downloaded, and this can take a bit of time, but generally, this command should run in a couple of minutes or less.\n",
    "\n",
    "We will start by plotting the polar angle for each point on the cortical surface for which the variance of the BOLD signal explained by the PRF model is at least 10%."
   ]
  },
  {
   "cell_type": "code",
   "execution_count": null,
   "id": "6aaa8024-ae90-4682-996c-ede9e44b49bc",
   "metadata": {
    "tags": []
   },
   "outputs": [],
   "source": [
    "# The mask we use is anywhere on cortex where the variance explained of\n",
    "# the PRF model is between 10% and 100% (this tuple format is shorthand\n",
    "# for neuropythy); 'prf_variance_explained' is a property of the cortical\n",
    "# surface that neuropythy obtains from the retinotopy dataset.\n",
    "mask = ('prf_variance_explained', 0.1, 1)\n",
    "\n",
    "# We want to plot the polar angle; neuropythy knows about polar angle and\n",
    "# has a colormap already prepared for it.\n",
    "color = 'prf_polar_angle'\n",
    "\n",
    "# We want to plot the inflated surfaces.\n",
    "surf = 'inflated'\n",
    "\n",
    "# Make the plot:\n",
    "ny.cortex_plot((sub.lh, sub.rh), color=color, mask=mask, surface=surf)"
   ]
  },
  {
   "cell_type": "markdown",
   "id": "962878e2-7003-4402-a20d-84fe77b96fa6",
   "metadata": {},
   "source": [
    "The polar angle tells us the rotation around the visual field to which each point on cortex responds most strongly. The cell below creates a 2D legend of the polar angle. The circle plotted represents the visual field, so, for example, if a point on cortex is colored red, that means that that point responds most strongly to the lower visual field."
   ]
  },
  {
   "cell_type": "code",
   "execution_count": null,
   "id": "b4492b3c-9a05-4da3-a2f0-ea2e86cac6ce",
   "metadata": {},
   "outputs": [],
   "source": [
    "import numpy as np\n",
    "import matplotlib.pyplot as plt\n",
    "\n",
    "# We can plot a legend for the polar angle or eccentricity:\n",
    "\n",
    "# Make a 2D image of the visual field:\n",
    "vfield = ny.vision.visual_field_mesh()\n",
    "(vfield_x, vfield_y) = vfield.coordinates\n",
    "vfield_angle = np.arctan2(vfield_y, vfield_x)\n",
    "# neuropythy wants 0 to be the upper vertical meridian:\n",
    "vfield_angle = np.mod(90 - 180/np.pi*vfield_angle + 180, 360) - 180\n",
    "ax = ny.cortex_plot(vfield, color={'polar_angle': vfield_angle}, underlay=None)\n",
    "plt.gca().axis('equal')\n",
    "\n",
    "pass"
   ]
  }
 ],
 "metadata": {
  "kernelspec": {
   "display_name": "Python 3 (ipykernel)",
   "language": "python",
   "name": "python3"
  },
  "language_info": {
   "codemirror_mode": {
    "name": "ipython",
    "version": 3
   },
   "file_extension": ".py",
   "mimetype": "text/x-python",
   "name": "python",
   "nbconvert_exporter": "python",
   "pygments_lexer": "ipython3",
   "version": "3.10.11"
  }
 },
 "nbformat": 4,
 "nbformat_minor": 5
}
