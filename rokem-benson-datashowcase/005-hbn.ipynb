{
 "cells": [
  {
   "cell_type": "markdown",
   "metadata": {},
   "source": [
    "# The Healthy Brain Network dataset"
   ]
  },
  {
   "cell_type": "markdown",
   "metadata": {},
   "source": [
    "![](images/child-mind-institute-hbn-logo.jpg)\n",
    "\n",
    "\n",
    "A large landmark pediatric mental health study,\n",
    "- an ongoing initiative collecting MRI and clinical assessment data from 5,000 NYC area adolescents (ages 5-21), at four sites: RU, CBIC, CUNY, SI\n",
    "- Includes a broad range of psychiatric, behavioral, cognitive, and lifestyle information from both healthy controls and children with a range of disorders.\n",
    "- openly available on FCP-INDI\n",
    "    - For further details, see\n",
    "    Data descriptor: Alexander et al. An open resource for transdiagnostic research in pediatric mental health and learning disorders. Sci Data 4, 170181 (2017).\n",
    "    Scientific data portal http://fcon_1000.projects.nitrc.org/indi/cmi_healthy_brain_network/index.html\n",
    "\n",
    "This dataset provides a transdiagnostic resource for research into the development of mental health disorders and learning disabilities. \n",
    "\n",
    "- Age, sex, and handedness are publicly available\n",
    "- All other HBN phenotypic data are protected by a data usage agreement\n",
    "    - Clinician administered: K-SADS\n",
    "    - Diagnostic specific assessments for ASD, Speech/Language disorders, intellectual disability, OCD, and tic disorders\n",
    "    - Intelligence and learning: WIAT, WISC\n",
    "    - Language: CELF-5, GFTA, CTOPP-2, TOWRE-2, EVT, PPVT\n",
    "    - Self administered assessments: family structure, behavior, stress, trauma, and substance use\n",
    "    - Novel data: voice recordings, actigraphy, genetics, deciduous “baby” teeth\n",
    "\n",
    "\n",
    "One of the datatypes provided through HBN is diffusion MRI data. \n",
    "\n",
    "The [HBN POD2 project](https://www.nature.com/articles/s41597-022-01695-7) aims to make this data available in preprocessed and quality controlled format, including tractography and tractometry derivatives.\n",
    "\n",
    "![](images/sankey.jpg)\n"
   ]
  },
  {
   "cell_type": "markdown",
   "metadata": {},
   "source": [
    "The data is navigable via https://fcp-indi.s3.amazonaws.com/index.html"
   ]
  },
  {
   "cell_type": "code",
   "execution_count": null,
   "metadata": {},
   "outputs": [],
   "source": [
    "from pathlib import Path\n",
    "\n",
    "# Make the path object:\n",
    "cache_path = Path('/home/jovyan/cache')\n",
    "\n",
    "# Just because we have made a cache path object doesn't mean that the directory\n",
    "# we made exists; here we check if it exists and make the directory if not.\n",
    "if not cache_path.exists():\n",
    "    cache_path.mkdir()\n"
   ]
  },
  {
   "cell_type": "code",
   "execution_count": null,
   "metadata": {
    "tags": []
   },
   "outputs": [],
   "source": [
    "from utils import ls, crawl\n",
    "import nibabel as nib"
   ]
  },
  {
   "cell_type": "code",
   "execution_count": null,
   "metadata": {
    "tags": []
   },
   "outputs": [],
   "source": [
    "from cloudpathlib import S3Path, S3Client\n",
    "\n",
    "client = S3Client(\n",
    "    local_cache_dir=cache_path,\n",
    "    no_sign_request=True)\n",
    "\n",
    "hbn_base_path = S3Path(\n",
    "    \"s3://fcp-indi/\",\n",
    "    client=client)"
   ]
  },
  {
   "cell_type": "code",
   "execution_count": null,
   "metadata": {
    "tags": []
   },
   "outputs": [],
   "source": [
    "hbn_pod2_path = hbn_base_path / \"data\" / \"Projects\" / \"HBN\" / \"BIDS_curated\" / \"derivatives\""
   ]
  },
  {
   "cell_type": "code",
   "execution_count": null,
   "metadata": {
    "tags": []
   },
   "outputs": [],
   "source": [
    "import pandas as pd"
   ]
  },
  {
   "cell_type": "code",
   "execution_count": null,
   "metadata": {
    "tags": []
   },
   "outputs": [],
   "source": [
    "participants_table = pd.read_csv(hbn_pod2_path / \"qsiprep\" / \"participants.tsv\", sep=\"\\t\")"
   ]
  },
  {
   "cell_type": "code",
   "execution_count": null,
   "metadata": {
    "tags": []
   },
   "outputs": [],
   "source": [
    "participants_table.head()"
   ]
  },
  {
   "cell_type": "code",
   "execution_count": null,
   "metadata": {
    "tags": []
   },
   "outputs": [],
   "source": [
    "tract_profiles = pd.read_csv(hbn_pod2_path / \"afq\" / \"sub-NDARAA306NT2\" / \"ses-HBNsiteRU\" / \"sub-NDARAA306NT2_ses-HBNsiteRU_acq-64dir_space-T1w_desc-preproc_dwi_space-RASMM_model-CSD_desc-prob-afq_profiles.csv\")"
   ]
  },
  {
   "cell_type": "code",
   "execution_count": null,
   "metadata": {
    "tags": []
   },
   "outputs": [],
   "source": [
    "import matplotlib.pyplot as plt\n",
    "fig, ax = plt.subplots()\n",
    "ax.plot(tract_profiles[tract_profiles[\"tractID\"] == \"CST_L\"][\"dki_fa\"].values)\n",
    "ax.set_xlabel(\"Node\")\n",
    "ax.set_ylabel(\"FA\")"
   ]
  },
  {
   "cell_type": "code",
   "execution_count": null,
   "metadata": {},
   "outputs": [],
   "source": []
  }
 ],
 "metadata": {
  "kernelspec": {
   "display_name": "Python 3 (ipykernel)",
   "language": "python",
   "name": "python3"
  },
  "language_info": {
   "codemirror_mode": {
    "name": "ipython",
    "version": 3
   },
   "file_extension": ".py",
   "mimetype": "text/x-python",
   "name": "python",
   "nbconvert_exporter": "python",
   "pygments_lexer": "ipython3",
   "version": "3.10.11"
  }
 },
 "nbformat": 4,
 "nbformat_minor": 4
}
