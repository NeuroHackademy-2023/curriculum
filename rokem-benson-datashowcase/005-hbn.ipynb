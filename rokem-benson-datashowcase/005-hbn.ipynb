{
 "cells": [
  {
   "cell_type": "markdown",
   "metadata": {},
   "source": [
    "# The Healthy Brain Network dataset"
   ]
  },
  {
   "cell_type": "markdown",
   "metadata": {},
   "source": [
    "![](images/child-mind-institute-hbn-logo.jpg)\n",
    "\n",
    "\n",
    "A large landmark pediatric mental health study,\n",
    "- an ongoing initiative collecting MRI and clinical assessment data from 5,000 NYC area adolescents (ages 5-21), at four sites: RU, CBIC, CUNY, SI\n",
    "- Includes a broad range of psychiatric, behavioral, cognitive, and lifestyle information from both healthy controls and children with a range of disorders.\n",
    "- openly available on FCP-INDI\n",
    "    - For further details, see\n",
    "    Data descriptor: Alexander et al. An open resource for transdiagnostic research in pediatric mental health and learning disorders. Sci Data 4, 170181 (2017).\n",
    "    Scientific data portal http://fcon_1000.projects.nitrc.org/indi/cmi_healthy_brain_network/index.html\n",
    "\n",
    "This dataset provides a transdiagnostic resource for research into the development of mental health disorders and learning disabilities. \n",
    "\n",
    "- Age, sex, and handedness are publicly available\n",
    "- All other HBN phenotypic data are protected by a data usage agreement\n",
    "    - Clinician administered: K-SADS\n",
    "    - Diagnostic specific assessments for ASD, Speech/Language disorders, intellectual disability, OCD, and tic disorders\n",
    "    - Intelligence and learning: WIAT, WISC\n",
    "    - Language: CELF-5, GFTA, CTOPP-2, TOWRE-2, EVT, PPVT\n",
    "    - Self administered assessments: family structure, behavior, stress, trauma, and substance use\n",
    "    - Novel data: voice recordings, actigraphy, genetics, deciduous “baby” teeth\n",
    "\n",
    "\n",
    "One of the datatypes provided through HBN is diffusion MRI data. \n",
    "\n",
    "The [HBN POD2 project](https://www.nature.com/articles/s41597-022-01695-7) aims to make this data available in preprocessed and quality controlled format, including tractography and tractometry derivatives.\n",
    "\n",
    "![](images/sankey.jpg)\n"
   ]
  },
  {
   "cell_type": "markdown",
   "metadata": {},
   "source": [
    "The data is navigable via https://fcp-indi.s3.amazonaws.com/index.html"
   ]
  },
  {
   "cell_type": "code",
   "execution_count": 1,
   "metadata": {},
   "outputs": [],
   "source": [
    "from pathlib import Path\n",
    "\n",
    "# Make the path object:\n",
    "cache_path = Path('/home/jovyan/cache')\n",
    "\n",
    "# Just because we have made a cache path object doesn't mean that the directory\n",
    "# we made exists; here we check if it exists and make the directory if not.\n",
    "if not cache_path.exists():\n",
    "    cache_path.mkdir()\n"
   ]
  },
  {
   "cell_type": "code",
   "execution_count": 2,
   "metadata": {
    "tags": []
   },
   "outputs": [],
   "source": [
    "from utils import ls, crawl\n",
    "import nibabel as nib"
   ]
  },
  {
   "cell_type": "code",
   "execution_count": 6,
   "metadata": {
    "tags": []
   },
   "outputs": [],
   "source": [
    "from cloudpathlib import S3Path, S3Client\n",
    "\n",
    "client = S3Client(\n",
    "    local_cache_dir=cache_path,\n",
    "    no_sign_request=True)\n",
    "\n",
    "hbn_base_path = S3Path(\n",
    "    \"s3://fcp-indi/\",\n",
    "    client=client)"
   ]
  },
  {
   "cell_type": "code",
   "execution_count": 26,
   "metadata": {
    "tags": []
   },
   "outputs": [],
   "source": [
    "hbn_pod2_path = hbn_base_path / \"data\" / \"Projects\" / \"HBN\" / \"BIDS_curated\" / \"derivatives\""
   ]
  },
  {
   "cell_type": "code",
   "execution_count": 27,
   "metadata": {
    "tags": []
   },
   "outputs": [],
   "source": [
    "import pandas as pd"
   ]
  },
  {
   "cell_type": "code",
   "execution_count": 28,
   "metadata": {
    "tags": []
   },
   "outputs": [],
   "source": [
    "participants_table = pd.read_csv(hbn_pod2_path / \"qsiprep\" / \"participants.tsv\", sep=\"\\t\")"
   ]
  },
  {
   "cell_type": "code",
   "execution_count": 29,
   "metadata": {
    "tags": []
   },
   "outputs": [
    {
     "data": {
      "text/html": [
       "<div>\n",
       "<style scoped>\n",
       "    .dataframe tbody tr th:only-of-type {\n",
       "        vertical-align: middle;\n",
       "    }\n",
       "\n",
       "    .dataframe tbody tr th {\n",
       "        vertical-align: top;\n",
       "    }\n",
       "\n",
       "    .dataframe thead th {\n",
       "        text-align: right;\n",
       "    }\n",
       "</style>\n",
       "<table border=\"1\" class=\"dataframe\">\n",
       "  <thead>\n",
       "    <tr style=\"text-align: right;\">\n",
       "      <th></th>\n",
       "      <th>subject_id</th>\n",
       "      <th>scan_site_id</th>\n",
       "      <th>sex</th>\n",
       "      <th>age</th>\n",
       "      <th>ehq_total</th>\n",
       "      <th>commercial_use</th>\n",
       "      <th>full_pheno</th>\n",
       "      <th>expert_qc_score</th>\n",
       "      <th>xgb_qc_score</th>\n",
       "      <th>xgb_qsiprep_qc_score</th>\n",
       "      <th>dl_qc_score</th>\n",
       "      <th>site_variant</th>\n",
       "    </tr>\n",
       "  </thead>\n",
       "  <tbody>\n",
       "    <tr>\n",
       "      <th>0</th>\n",
       "      <td>sub-NDARAA306NT2</td>\n",
       "      <td>RU</td>\n",
       "      <td>F</td>\n",
       "      <td>21.216746</td>\n",
       "      <td>6.67</td>\n",
       "      <td>Yes</td>\n",
       "      <td>Yes</td>\n",
       "      <td>NaN</td>\n",
       "      <td>0.850</td>\n",
       "      <td>0.554065</td>\n",
       "      <td>0.470</td>\n",
       "      <td>RU_64dir_Most_Common</td>\n",
       "    </tr>\n",
       "    <tr>\n",
       "      <th>1</th>\n",
       "      <td>sub-NDARAA536PTU</td>\n",
       "      <td>SI</td>\n",
       "      <td>M</td>\n",
       "      <td>11.998402</td>\n",
       "      <td>-86.67</td>\n",
       "      <td>No</td>\n",
       "      <td>Yes</td>\n",
       "      <td>NaN</td>\n",
       "      <td>NaN</td>\n",
       "      <td>0.962119</td>\n",
       "      <td>0.701</td>\n",
       "      <td>SI_64dir_Obliquity</td>\n",
       "    </tr>\n",
       "    <tr>\n",
       "      <th>2</th>\n",
       "      <td>sub-NDARAA947ZG5</td>\n",
       "      <td>CBIC</td>\n",
       "      <td>M</td>\n",
       "      <td>13.627880</td>\n",
       "      <td>80.00</td>\n",
       "      <td>Yes</td>\n",
       "      <td>Yes</td>\n",
       "      <td>NaN</td>\n",
       "      <td>0.576</td>\n",
       "      <td>0.551769</td>\n",
       "      <td>0.509</td>\n",
       "      <td>CBIC_64dir_Most_Common</td>\n",
       "    </tr>\n",
       "    <tr>\n",
       "      <th>3</th>\n",
       "      <td>sub-NDARAA948VFH</td>\n",
       "      <td>RU</td>\n",
       "      <td>F</td>\n",
       "      <td>7.982660</td>\n",
       "      <td>90.00</td>\n",
       "      <td>Yes</td>\n",
       "      <td>Yes</td>\n",
       "      <td>NaN</td>\n",
       "      <td>0.990</td>\n",
       "      <td>0.954094</td>\n",
       "      <td>0.979</td>\n",
       "      <td>RU_64dir_Most_Common</td>\n",
       "    </tr>\n",
       "    <tr>\n",
       "      <th>4</th>\n",
       "      <td>sub-NDARAB055BPR</td>\n",
       "      <td>RU</td>\n",
       "      <td>F</td>\n",
       "      <td>10.793862</td>\n",
       "      <td>60.00</td>\n",
       "      <td>Yes</td>\n",
       "      <td>Yes</td>\n",
       "      <td>NaN</td>\n",
       "      <td>0.091</td>\n",
       "      <td>0.040714</td>\n",
       "      <td>0.035</td>\n",
       "      <td>RU_64dir_Most_Common</td>\n",
       "    </tr>\n",
       "  </tbody>\n",
       "</table>\n",
       "</div>"
      ],
      "text/plain": [
       "         subject_id scan_site_id sex        age  ehq_total commercial_use  \\\n",
       "0  sub-NDARAA306NT2           RU   F  21.216746       6.67            Yes   \n",
       "1  sub-NDARAA536PTU           SI   M  11.998402     -86.67             No   \n",
       "2  sub-NDARAA947ZG5         CBIC   M  13.627880      80.00            Yes   \n",
       "3  sub-NDARAA948VFH           RU   F   7.982660      90.00            Yes   \n",
       "4  sub-NDARAB055BPR           RU   F  10.793862      60.00            Yes   \n",
       "\n",
       "  full_pheno  expert_qc_score  xgb_qc_score  xgb_qsiprep_qc_score  \\\n",
       "0        Yes              NaN         0.850              0.554065   \n",
       "1        Yes              NaN           NaN              0.962119   \n",
       "2        Yes              NaN         0.576              0.551769   \n",
       "3        Yes              NaN         0.990              0.954094   \n",
       "4        Yes              NaN         0.091              0.040714   \n",
       "\n",
       "   dl_qc_score            site_variant  \n",
       "0        0.470    RU_64dir_Most_Common  \n",
       "1        0.701      SI_64dir_Obliquity  \n",
       "2        0.509  CBIC_64dir_Most_Common  \n",
       "3        0.979    RU_64dir_Most_Common  \n",
       "4        0.035    RU_64dir_Most_Common  "
      ]
     },
     "execution_count": 29,
     "metadata": {},
     "output_type": "execute_result"
    }
   ],
   "source": [
    "participants_table.head()"
   ]
  },
  {
   "cell_type": "code",
   "execution_count": 30,
   "metadata": {
    "tags": []
   },
   "outputs": [],
   "source": [
    "tract_profiles = pd.read_csv(hbn_pod2_path / \"afq\" / \"sub-NDARAA306NT2\" / \"ses-HBNsiteRU\" / \"sub-NDARAA306NT2_ses-HBNsiteRU_acq-64dir_space-T1w_desc-preproc_dwi_space-RASMM_model-CSD_desc-prob-afq_profiles.csv\")"
   ]
  },
  {
   "cell_type": "code",
   "execution_count": 33,
   "metadata": {
    "tags": []
   },
   "outputs": [
    {
     "data": {
      "text/plain": [
       "Text(0, 0.5, 'FA')"
      ]
     },
     "execution_count": 33,
     "metadata": {},
     "output_type": "execute_result"
    },
    {
     "data": {
      "image/png": "[encoded data removed]",
      "text/plain": [
       "<Figure size 640x480 with 1 Axes>"
      ]
     },
     "metadata": {},
     "output_type": "display_data"
    }
   ],
   "source": [
    "import matplotlib.pyplot as plt\n",
    "fig, ax = plt.subplots()\n",
    "ax.plot(tract_profiles[tract_profiles[\"tractID\"] == \"CST_L\"][\"dki_fa\"].values)\n",
    "ax.set_xlabel(\"Node\")\n",
    "ax.set_ylabel(\"FA\")"
   ]
  },
  {
   "cell_type": "code",
   "execution_count": null,
   "metadata": {},
   "outputs": [],
   "source": []
  }
 ],
 "metadata": {
  "kernelspec": {
   "display_name": "Python 3 (ipykernel)",
   "language": "python",
   "name": "python3"
  },
  "language_info": {
   "codemirror_mode": {
    "name": "ipython",
    "version": 3
   },
   "file_extension": ".py",
   "mimetype": "text/x-python",
   "name": "python",
   "nbconvert_exporter": "python",
   "pygments_lexer": "ipython3",
   "version": "3.10.11"
  }
 },
 "nbformat": 4,
 "nbformat_minor": 4
}
