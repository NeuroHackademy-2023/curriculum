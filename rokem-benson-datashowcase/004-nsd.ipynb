{
 "cells": [
  {
   "cell_type": "markdown",
   "id": "4de58e61-7d8d-4642-9204-1e876d8a457b",
   "metadata": {},
   "source": [
    "# The Natural Scenes Dataset (NSD)\n",
    "\n",
    "From [naturalscenesdataset.org](https://naturalscenesdataset.org):\n",
    "```text\n",
    "The Natural Scenes Dataset (NSD) is a large-scale fMRI dataset conducted at ultra-high-field (7T) strength at the Center of Magnetic Resonance Research (CMRR) at the University of Minnesota. The dataset consists of whole-brain, high-resolution (1.8-mm isotropic, 1.6-s sampling rate) fMRI measurements of 8 healthy adult subjects while they viewed thousands of color natural scenes over the course of 30–40 scan sessions. While viewing these images, subjects were engaged in a continuous recognition task in which they reported whether they had seen each given image at any point in the experiment. These data constitute a massive benchmark dataset for computational models of visual representation and cognition, and can support a wide range of scientific inquiry.\n",
    "```\n",
    "\n",
    "The NSD was spear-headed by Kendrick Kay at the University of Minnesota, and is one of the best datasets for examining in-depth visual function due to the large quantity of scan time for each participant.\n",
    "\n",
    "The NSD is hosted on Amazon S3, so we will access it using the `S3Path` and `S3Client` interface of `cloudpathlib`. The NSD does not require authentication for access, so we do not need to load or name our credentials."
   ]
  },
  {
   "cell_type": "code",
   "execution_count": 1,
   "id": "c353df5b-fc8e-4a05-9269-08c39658ea67",
   "metadata": {
    "tags": []
   },
   "outputs": [],
   "source": [
    "from cloudpathlib import S3Path, S3Client\n",
    "from pathlib import Path\n",
    "\n",
    "# Set up our cache path:\n",
    "cache_path = Path('/home/jovyan/cache')\n",
    "if not cache_path.exists():\n",
    "    cache_path.mkdir()\n",
    "\n",
    "# Create the root S3Path for the NSD:\n",
    "nsd_base_path = S3Path(\n",
    "    's3://natural-scenes-dataset/',\n",
    "    client=S3Client(\n",
    "        no_sign_request=True,\n",
    "        local_cache_dir=cache_path))"
   ]
  },
  {
   "cell_type": "markdown",
   "id": "4304e5be-b768-4902-90a1-f8b0d23dda87",
   "metadata": {},
   "source": [
    "Let's look around inside of the NSD S3 bucket..."
   ]
  },
  {
   "cell_type": "code",
   "execution_count": 2,
   "id": "4a85564f-b34f-4bea-8acd-9312c736392b",
   "metadata": {
    "tags": []
   },
   "outputs": [
    {
     "data": {
      "text/plain": [
       "[S3Path('s3://natural-scenes-dataset/nsddata'),\n",
       " S3Path('s3://natural-scenes-dataset/nsddata_betas'),\n",
       " S3Path('s3://natural-scenes-dataset/nsddata_diffusion'),\n",
       " S3Path('s3://natural-scenes-dataset/nsddata_other'),\n",
       " S3Path('s3://natural-scenes-dataset/nsddata_rawdata'),\n",
       " S3Path('s3://natural-scenes-dataset/nsddata_stimuli'),\n",
       " S3Path('s3://natural-scenes-dataset/nsddata_timeseries'),\n",
       " S3Path('s3://natural-scenes-dataset/index.html')]"
      ]
     },
     "execution_count": 2,
     "metadata": {},
     "output_type": "execute_result"
    }
   ],
   "source": [
    "from utils import ls, crawl\n",
    "\n",
    "ls(nsd_base_path)"
   ]
  },
  {
   "cell_type": "code",
   "execution_count": 4,
   "id": "6e8294bb-1a57-4a82-b964-16cb5f1cfcf8",
   "metadata": {
    "tags": []
   },
   "outputs": [
    {
     "data": {
      "text/plain": [
       "[S3Path('s3://natural-scenes-dataset/nsddata/freesurfer/fsaverage'),\n",
       " S3Path('s3://natural-scenes-dataset/nsddata/freesurfer/fsaverage3'),\n",
       " S3Path('s3://natural-scenes-dataset/nsddata/freesurfer/fsaverage4'),\n",
       " S3Path('s3://natural-scenes-dataset/nsddata/freesurfer/fsaverage5'),\n",
       " S3Path('s3://natural-scenes-dataset/nsddata/freesurfer/fsaverage6'),\n",
       " S3Path('s3://natural-scenes-dataset/nsddata/freesurfer/fsaverage_sym'),\n",
       " S3Path('s3://natural-scenes-dataset/nsddata/freesurfer/subj01'),\n",
       " S3Path('s3://natural-scenes-dataset/nsddata/freesurfer/subj02'),\n",
       " S3Path('s3://natural-scenes-dataset/nsddata/freesurfer/subj03'),\n",
       " S3Path('s3://natural-scenes-dataset/nsddata/freesurfer/subj04'),\n",
       " S3Path('s3://natural-scenes-dataset/nsddata/freesurfer/subj05'),\n",
       " S3Path('s3://natural-scenes-dataset/nsddata/freesurfer/subj06'),\n",
       " S3Path('s3://natural-scenes-dataset/nsddata/freesurfer/subj07'),\n",
       " S3Path('s3://natural-scenes-dataset/nsddata/freesurfer/subj08')]"
      ]
     },
     "execution_count": 4,
     "metadata": {},
     "output_type": "execute_result"
    }
   ],
   "source": [
    "ls(nsd_base_path / 'nsddata' / 'freesurfer')"
   ]
  },
  {
   "cell_type": "code",
   "execution_count": 8,
   "id": "639b8f84-b8a3-4b19-b4e7-81667327e77c",
   "metadata": {
    "tags": []
   },
   "outputs": [
    {
     "data": {
      "text/plain": [
       "[S3Path('s3://natural-scenes-dataset/nsddata/ppdata/subj01/func1pt8mm/roi'),\n",
       " S3Path('s3://natural-scenes-dataset/nsddata/ppdata/subj01/func1pt8mm/R2.nii.gz'),\n",
       " S3Path('s3://natural-scenes-dataset/nsddata/ppdata/subj01/func1pt8mm/R2_session01.nii.gz'),\n",
       " S3Path('s3://natural-scenes-dataset/nsddata/ppdata/subj01/func1pt8mm/R2_session02.nii.gz'),\n",
       " S3Path('s3://natural-scenes-dataset/nsddata/ppdata/subj01/func1pt8mm/R2_session03.nii.gz'),\n",
       " S3Path('s3://natural-scenes-dataset/nsddata/ppdata/subj01/func1pt8mm/R2_session04.nii.gz'),\n",
       " S3Path('s3://natural-scenes-dataset/nsddata/ppdata/subj01/func1pt8mm/R2_session05.nii.gz'),\n",
       " S3Path('s3://natural-scenes-dataset/nsddata/ppdata/subj01/func1pt8mm/R2_session06.nii.gz'),\n",
       " S3Path('s3://natural-scenes-dataset/nsddata/ppdata/subj01/func1pt8mm/R2_session07.nii.gz'),\n",
       " S3Path('s3://natural-scenes-dataset/nsddata/ppdata/subj01/func1pt8mm/R2_session08.nii.gz'),\n",
       " S3Path('s3://natural-scenes-dataset/nsddata/ppdata/subj01/func1pt8mm/R2_session09.nii.gz'),\n",
       " S3Path('s3://natural-scenes-dataset/nsddata/ppdata/subj01/func1pt8mm/R2_session10.nii.gz'),\n",
       " S3Path('s3://natural-scenes-dataset/nsddata/ppdata/subj01/func1pt8mm/R2_session11.nii.gz'),\n",
       " S3Path('s3://natural-scenes-dataset/nsddata/ppdata/subj01/func1pt8mm/R2_session12.nii.gz'),\n",
       " S3Path('s3://natural-scenes-dataset/nsddata/ppdata/subj01/func1pt8mm/R2_session13.nii.gz'),\n",
       " S3Path('s3://natural-scenes-dataset/nsddata/ppdata/subj01/func1pt8mm/R2_session14.nii.gz'),\n",
       " S3Path('s3://natural-scenes-dataset/nsddata/ppdata/subj01/func1pt8mm/R2_session15.nii.gz'),\n",
       " S3Path('s3://natural-scenes-dataset/nsddata/ppdata/subj01/func1pt8mm/R2_session16.nii.gz'),\n",
       " S3Path('s3://natural-scenes-dataset/nsddata/ppdata/subj01/func1pt8mm/R2_session17.nii.gz'),\n",
       " S3Path('s3://natural-scenes-dataset/nsddata/ppdata/subj01/func1pt8mm/R2_session18.nii.gz'),\n",
       " S3Path('s3://natural-scenes-dataset/nsddata/ppdata/subj01/func1pt8mm/R2_session19.nii.gz'),\n",
       " S3Path('s3://natural-scenes-dataset/nsddata/ppdata/subj01/func1pt8mm/R2_session20.nii.gz'),\n",
       " S3Path('s3://natural-scenes-dataset/nsddata/ppdata/subj01/func1pt8mm/R2_session21.nii.gz'),\n",
       " S3Path('s3://natural-scenes-dataset/nsddata/ppdata/subj01/func1pt8mm/R2_session22.nii.gz'),\n",
       " S3Path('s3://natural-scenes-dataset/nsddata/ppdata/subj01/func1pt8mm/R2_session23.nii.gz'),\n",
       " S3Path('s3://natural-scenes-dataset/nsddata/ppdata/subj01/func1pt8mm/R2_session24.nii.gz'),\n",
       " S3Path('s3://natural-scenes-dataset/nsddata/ppdata/subj01/func1pt8mm/R2_session25.nii.gz'),\n",
       " S3Path('s3://natural-scenes-dataset/nsddata/ppdata/subj01/func1pt8mm/R2_session26.nii.gz'),\n",
       " S3Path('s3://natural-scenes-dataset/nsddata/ppdata/subj01/func1pt8mm/R2_session27.nii.gz'),\n",
       " S3Path('s3://natural-scenes-dataset/nsddata/ppdata/subj01/func1pt8mm/R2_session28.nii.gz'),\n",
       " S3Path('s3://natural-scenes-dataset/nsddata/ppdata/subj01/func1pt8mm/R2_session29.nii.gz'),\n",
       " S3Path('s3://natural-scenes-dataset/nsddata/ppdata/subj01/func1pt8mm/R2_session30.nii.gz'),\n",
       " S3Path('s3://natural-scenes-dataset/nsddata/ppdata/subj01/func1pt8mm/R2_session31.nii.gz'),\n",
       " S3Path('s3://natural-scenes-dataset/nsddata/ppdata/subj01/func1pt8mm/R2_session32.nii.gz'),\n",
       " S3Path('s3://natural-scenes-dataset/nsddata/ppdata/subj01/func1pt8mm/R2_session33.nii.gz'),\n",
       " S3Path('s3://natural-scenes-dataset/nsddata/ppdata/subj01/func1pt8mm/R2_session34.nii.gz'),\n",
       " S3Path('s3://natural-scenes-dataset/nsddata/ppdata/subj01/func1pt8mm/R2_session35.nii.gz'),\n",
       " S3Path('s3://natural-scenes-dataset/nsddata/ppdata/subj01/func1pt8mm/R2_session36.nii.gz'),\n",
       " S3Path('s3://natural-scenes-dataset/nsddata/ppdata/subj01/func1pt8mm/R2_session37.nii.gz'),\n",
       " S3Path('s3://natural-scenes-dataset/nsddata/ppdata/subj01/func1pt8mm/R2_session38.nii.gz'),\n",
       " S3Path('s3://natural-scenes-dataset/nsddata/ppdata/subj01/func1pt8mm/R2_session39.nii.gz'),\n",
       " S3Path('s3://natural-scenes-dataset/nsddata/ppdata/subj01/func1pt8mm/R2_session40.nii.gz'),\n",
       " S3Path('s3://natural-scenes-dataset/nsddata/ppdata/subj01/func1pt8mm/SWI_to_func1pt8mm.nii.gz'),\n",
       " S3Path('s3://natural-scenes-dataset/nsddata/ppdata/subj01/func1pt8mm/T1_to_func1pt8mm.nii.gz'),\n",
       " S3Path('s3://natural-scenes-dataset/nsddata/ppdata/subj01/func1pt8mm/T2_to_func1pt8mm.nii.gz'),\n",
       " S3Path('s3://natural-scenes-dataset/nsddata/ppdata/subj01/func1pt8mm/TOF_to_func1pt8mm.nii.gz'),\n",
       " S3Path('s3://natural-scenes-dataset/nsddata/ppdata/subj01/func1pt8mm/aseg.nii.gz'),\n",
       " S3Path('s3://natural-scenes-dataset/nsddata/ppdata/subj01/func1pt8mm/brainmask.nii.gz'),\n",
       " S3Path('s3://natural-scenes-dataset/nsddata/ppdata/subj01/func1pt8mm/floc_R2.nii.gz'),\n",
       " S3Path('s3://natural-scenes-dataset/nsddata/ppdata/subj01/func1pt8mm/floc_adultanglemetric.nii.gz'),\n",
       " S3Path('s3://natural-scenes-dataset/nsddata/ppdata/subj01/func1pt8mm/floc_adulttval.nii.gz'),\n",
       " S3Path('s3://natural-scenes-dataset/nsddata/ppdata/subj01/func1pt8mm/floc_betas.nii.gz'),\n",
       " S3Path('s3://natural-scenes-dataset/nsddata/ppdata/subj01/func1pt8mm/floc_bodiesanglemetric.nii.gz'),\n",
       " S3Path('s3://natural-scenes-dataset/nsddata/ppdata/subj01/func1pt8mm/floc_bodiestval.nii.gz'),\n",
       " S3Path('s3://natural-scenes-dataset/nsddata/ppdata/subj01/func1pt8mm/floc_bodyanglemetric.nii.gz'),\n",
       " S3Path('s3://natural-scenes-dataset/nsddata/ppdata/subj01/func1pt8mm/floc_bodytval.nii.gz'),\n",
       " S3Path('s3://natural-scenes-dataset/nsddata/ppdata/subj01/func1pt8mm/floc_caranglemetric.nii.gz'),\n",
       " S3Path('s3://natural-scenes-dataset/nsddata/ppdata/subj01/func1pt8mm/floc_cartval.nii.gz'),\n",
       " S3Path('s3://natural-scenes-dataset/nsddata/ppdata/subj01/func1pt8mm/floc_charactersanglemetric.nii.gz'),\n",
       " S3Path('s3://natural-scenes-dataset/nsddata/ppdata/subj01/func1pt8mm/floc_characterstval.nii.gz'),\n",
       " S3Path('s3://natural-scenes-dataset/nsddata/ppdata/subj01/func1pt8mm/floc_childanglemetric.nii.gz'),\n",
       " S3Path('s3://natural-scenes-dataset/nsddata/ppdata/subj01/func1pt8mm/floc_childtval.nii.gz'),\n",
       " S3Path('s3://natural-scenes-dataset/nsddata/ppdata/subj01/func1pt8mm/floc_corridoranglemetric.nii.gz'),\n",
       " S3Path('s3://natural-scenes-dataset/nsddata/ppdata/subj01/func1pt8mm/floc_corridortval.nii.gz'),\n",
       " S3Path('s3://natural-scenes-dataset/nsddata/ppdata/subj01/func1pt8mm/floc_facesanglemetric.nii.gz'),\n",
       " S3Path('s3://natural-scenes-dataset/nsddata/ppdata/subj01/func1pt8mm/floc_facestval.nii.gz'),\n",
       " S3Path('s3://natural-scenes-dataset/nsddata/ppdata/subj01/func1pt8mm/floc_houseanglemetric.nii.gz'),\n",
       " S3Path('s3://natural-scenes-dataset/nsddata/ppdata/subj01/func1pt8mm/floc_housetval.nii.gz'),\n",
       " S3Path('s3://natural-scenes-dataset/nsddata/ppdata/subj01/func1pt8mm/floc_instrumentanglemetric.nii.gz'),\n",
       " S3Path('s3://natural-scenes-dataset/nsddata/ppdata/subj01/func1pt8mm/floc_instrumenttval.nii.gz'),\n",
       " S3Path('s3://natural-scenes-dataset/nsddata/ppdata/subj01/func1pt8mm/floc_limbanglemetric.nii.gz'),\n",
       " S3Path('s3://natural-scenes-dataset/nsddata/ppdata/subj01/func1pt8mm/floc_limbtval.nii.gz'),\n",
       " S3Path('s3://natural-scenes-dataset/nsddata/ppdata/subj01/func1pt8mm/floc_meanvol.nii.gz'),\n",
       " S3Path('s3://natural-scenes-dataset/nsddata/ppdata/subj01/func1pt8mm/floc_numberanglemetric.nii.gz'),\n",
       " S3Path('s3://natural-scenes-dataset/nsddata/ppdata/subj01/func1pt8mm/floc_numbertval.nii.gz'),\n",
       " S3Path('s3://natural-scenes-dataset/nsddata/ppdata/subj01/func1pt8mm/floc_objectsanglemetric.nii.gz'),\n",
       " S3Path('s3://natural-scenes-dataset/nsddata/ppdata/subj01/func1pt8mm/floc_objectstval.nii.gz'),\n",
       " S3Path('s3://natural-scenes-dataset/nsddata/ppdata/subj01/func1pt8mm/floc_placesanglemetric.nii.gz'),\n",
       " S3Path('s3://natural-scenes-dataset/nsddata/ppdata/subj01/func1pt8mm/floc_placestval.nii.gz'),\n",
       " S3Path('s3://natural-scenes-dataset/nsddata/ppdata/subj01/func1pt8mm/floc_wordanglemetric.nii.gz'),\n",
       " S3Path('s3://natural-scenes-dataset/nsddata/ppdata/subj01/func1pt8mm/floc_wordtval.nii.gz'),\n",
       " S3Path('s3://natural-scenes-dataset/nsddata/ppdata/subj01/func1pt8mm/hippoSfLabels.nii.gz'),\n",
       " S3Path('s3://natural-scenes-dataset/nsddata/ppdata/subj01/func1pt8mm/mean.nii.gz'),\n",
       " S3Path('s3://natural-scenes-dataset/nsddata/ppdata/subj01/func1pt8mm/meanFIRST5.nii.gz'),\n",
       " S3Path('s3://natural-scenes-dataset/nsddata/ppdata/subj01/func1pt8mm/mean_bc.nii.gz'),\n",
       " S3Path('s3://natural-scenes-dataset/nsddata/ppdata/subj01/func1pt8mm/mean_coilbias.nii.gz'),\n",
       " S3Path('s3://natural-scenes-dataset/nsddata/ppdata/subj01/func1pt8mm/mean_nsdimagery.nii.gz'),\n",
       " S3Path('s3://natural-scenes-dataset/nsddata/ppdata/subj01/func1pt8mm/mean_nsdsynthetic.nii.gz'),\n",
       " S3Path('s3://natural-scenes-dataset/nsddata/ppdata/subj01/func1pt8mm/mean_prffloc.nii.gz'),\n",
       " S3Path('s3://natural-scenes-dataset/nsddata/ppdata/subj01/func1pt8mm/mean_session01.nii.gz'),\n",
       " S3Path('s3://natural-scenes-dataset/nsddata/ppdata/subj01/func1pt8mm/mean_session02.nii.gz'),\n",
       " S3Path('s3://natural-scenes-dataset/nsddata/ppdata/subj01/func1pt8mm/mean_session03.nii.gz'),\n",
       " S3Path('s3://natural-scenes-dataset/nsddata/ppdata/subj01/func1pt8mm/mean_session04.nii.gz'),\n",
       " S3Path('s3://natural-scenes-dataset/nsddata/ppdata/subj01/func1pt8mm/mean_session05.nii.gz'),\n",
       " S3Path('s3://natural-scenes-dataset/nsddata/ppdata/subj01/func1pt8mm/mean_session06.nii.gz'),\n",
       " S3Path('s3://natural-scenes-dataset/nsddata/ppdata/subj01/func1pt8mm/mean_session07.nii.gz'),\n",
       " S3Path('s3://natural-scenes-dataset/nsddata/ppdata/subj01/func1pt8mm/mean_session08.nii.gz'),\n",
       " S3Path('s3://natural-scenes-dataset/nsddata/ppdata/subj01/func1pt8mm/mean_session09.nii.gz'),\n",
       " S3Path('s3://natural-scenes-dataset/nsddata/ppdata/subj01/func1pt8mm/mean_session10.nii.gz'),\n",
       " S3Path('s3://natural-scenes-dataset/nsddata/ppdata/subj01/func1pt8mm/mean_session11.nii.gz'),\n",
       " S3Path('s3://natural-scenes-dataset/nsddata/ppdata/subj01/func1pt8mm/mean_session12.nii.gz'),\n",
       " S3Path('s3://natural-scenes-dataset/nsddata/ppdata/subj01/func1pt8mm/mean_session13.nii.gz'),\n",
       " S3Path('s3://natural-scenes-dataset/nsddata/ppdata/subj01/func1pt8mm/mean_session14.nii.gz'),\n",
       " S3Path('s3://natural-scenes-dataset/nsddata/ppdata/subj01/func1pt8mm/mean_session15.nii.gz'),\n",
       " S3Path('s3://natural-scenes-dataset/nsddata/ppdata/subj01/func1pt8mm/mean_session16.nii.gz'),\n",
       " S3Path('s3://natural-scenes-dataset/nsddata/ppdata/subj01/func1pt8mm/mean_session17.nii.gz'),\n",
       " S3Path('s3://natural-scenes-dataset/nsddata/ppdata/subj01/func1pt8mm/mean_session18.nii.gz'),\n",
       " S3Path('s3://natural-scenes-dataset/nsddata/ppdata/subj01/func1pt8mm/mean_session19.nii.gz'),\n",
       " S3Path('s3://natural-scenes-dataset/nsddata/ppdata/subj01/func1pt8mm/mean_session20.nii.gz'),\n",
       " S3Path('s3://natural-scenes-dataset/nsddata/ppdata/subj01/func1pt8mm/mean_session21.nii.gz'),\n",
       " S3Path('s3://natural-scenes-dataset/nsddata/ppdata/subj01/func1pt8mm/mean_session22.nii.gz'),\n",
       " S3Path('s3://natural-scenes-dataset/nsddata/ppdata/subj01/func1pt8mm/mean_session23.nii.gz'),\n",
       " S3Path('s3://natural-scenes-dataset/nsddata/ppdata/subj01/func1pt8mm/mean_session24.nii.gz'),\n",
       " S3Path('s3://natural-scenes-dataset/nsddata/ppdata/subj01/func1pt8mm/mean_session25.nii.gz'),\n",
       " S3Path('s3://natural-scenes-dataset/nsddata/ppdata/subj01/func1pt8mm/mean_session26.nii.gz'),\n",
       " S3Path('s3://natural-scenes-dataset/nsddata/ppdata/subj01/func1pt8mm/mean_session27.nii.gz'),\n",
       " S3Path('s3://natural-scenes-dataset/nsddata/ppdata/subj01/func1pt8mm/mean_session28.nii.gz'),\n",
       " S3Path('s3://natural-scenes-dataset/nsddata/ppdata/subj01/func1pt8mm/mean_session29.nii.gz'),\n",
       " S3Path('s3://natural-scenes-dataset/nsddata/ppdata/subj01/func1pt8mm/mean_session30.nii.gz'),\n",
       " S3Path('s3://natural-scenes-dataset/nsddata/ppdata/subj01/func1pt8mm/mean_session31.nii.gz'),\n",
       " S3Path('s3://natural-scenes-dataset/nsddata/ppdata/subj01/func1pt8mm/mean_session32.nii.gz'),\n",
       " S3Path('s3://natural-scenes-dataset/nsddata/ppdata/subj01/func1pt8mm/mean_session33.nii.gz'),\n",
       " S3Path('s3://natural-scenes-dataset/nsddata/ppdata/subj01/func1pt8mm/mean_session34.nii.gz'),\n",
       " S3Path('s3://natural-scenes-dataset/nsddata/ppdata/subj01/func1pt8mm/mean_session35.nii.gz'),\n",
       " S3Path('s3://natural-scenes-dataset/nsddata/ppdata/subj01/func1pt8mm/mean_session36.nii.gz'),\n",
       " S3Path('s3://natural-scenes-dataset/nsddata/ppdata/subj01/func1pt8mm/mean_session37.nii.gz'),\n",
       " S3Path('s3://natural-scenes-dataset/nsddata/ppdata/subj01/func1pt8mm/mean_session38.nii.gz'),\n",
       " S3Path('s3://natural-scenes-dataset/nsddata/ppdata/subj01/func1pt8mm/mean_session39.nii.gz'),\n",
       " S3Path('s3://natural-scenes-dataset/nsddata/ppdata/subj01/func1pt8mm/mean_session40.nii.gz'),\n",
       " S3Path('s3://natural-scenes-dataset/nsddata/ppdata/subj01/func1pt8mm/onoffbeta.nii.gz'),\n",
       " S3Path('s3://natural-scenes-dataset/nsddata/ppdata/subj01/func1pt8mm/onoffbeta_session01.nii.gz'),\n",
       " S3Path('s3://natural-scenes-dataset/nsddata/ppdata/subj01/func1pt8mm/onoffbeta_session02.nii.gz'),\n",
       " S3Path('s3://natural-scenes-dataset/nsddata/ppdata/subj01/func1pt8mm/onoffbeta_session03.nii.gz'),\n",
       " S3Path('s3://natural-scenes-dataset/nsddata/ppdata/subj01/func1pt8mm/onoffbeta_session04.nii.gz'),\n",
       " S3Path('s3://natural-scenes-dataset/nsddata/ppdata/subj01/func1pt8mm/onoffbeta_session05.nii.gz'),\n",
       " S3Path('s3://natural-scenes-dataset/nsddata/ppdata/subj01/func1pt8mm/onoffbeta_session06.nii.gz'),\n",
       " S3Path('s3://natural-scenes-dataset/nsddata/ppdata/subj01/func1pt8mm/onoffbeta_session07.nii.gz'),\n",
       " S3Path('s3://natural-scenes-dataset/nsddata/ppdata/subj01/func1pt8mm/onoffbeta_session08.nii.gz'),\n",
       " S3Path('s3://natural-scenes-dataset/nsddata/ppdata/subj01/func1pt8mm/onoffbeta_session09.nii.gz'),\n",
       " S3Path('s3://natural-scenes-dataset/nsddata/ppdata/subj01/func1pt8mm/onoffbeta_session10.nii.gz'),\n",
       " S3Path('s3://natural-scenes-dataset/nsddata/ppdata/subj01/func1pt8mm/onoffbeta_session11.nii.gz'),\n",
       " S3Path('s3://natural-scenes-dataset/nsddata/ppdata/subj01/func1pt8mm/onoffbeta_session12.nii.gz'),\n",
       " S3Path('s3://natural-scenes-dataset/nsddata/ppdata/subj01/func1pt8mm/onoffbeta_session13.nii.gz'),\n",
       " S3Path('s3://natural-scenes-dataset/nsddata/ppdata/subj01/func1pt8mm/onoffbeta_session14.nii.gz'),\n",
       " S3Path('s3://natural-scenes-dataset/nsddata/ppdata/subj01/func1pt8mm/onoffbeta_session15.nii.gz'),\n",
       " S3Path('s3://natural-scenes-dataset/nsddata/ppdata/subj01/func1pt8mm/onoffbeta_session16.nii.gz'),\n",
       " S3Path('s3://natural-scenes-dataset/nsddata/ppdata/subj01/func1pt8mm/onoffbeta_session17.nii.gz'),\n",
       " S3Path('s3://natural-scenes-dataset/nsddata/ppdata/subj01/func1pt8mm/onoffbeta_session18.nii.gz'),\n",
       " S3Path('s3://natural-scenes-dataset/nsddata/ppdata/subj01/func1pt8mm/onoffbeta_session19.nii.gz'),\n",
       " S3Path('s3://natural-scenes-dataset/nsddata/ppdata/subj01/func1pt8mm/onoffbeta_session20.nii.gz'),\n",
       " S3Path('s3://natural-scenes-dataset/nsddata/ppdata/subj01/func1pt8mm/onoffbeta_session21.nii.gz'),\n",
       " S3Path('s3://natural-scenes-dataset/nsddata/ppdata/subj01/func1pt8mm/onoffbeta_session22.nii.gz'),\n",
       " S3Path('s3://natural-scenes-dataset/nsddata/ppdata/subj01/func1pt8mm/onoffbeta_session23.nii.gz'),\n",
       " S3Path('s3://natural-scenes-dataset/nsddata/ppdata/subj01/func1pt8mm/onoffbeta_session24.nii.gz'),\n",
       " S3Path('s3://natural-scenes-dataset/nsddata/ppdata/subj01/func1pt8mm/onoffbeta_session25.nii.gz'),\n",
       " S3Path('s3://natural-scenes-dataset/nsddata/ppdata/subj01/func1pt8mm/onoffbeta_session26.nii.gz'),\n",
       " S3Path('s3://natural-scenes-dataset/nsddata/ppdata/subj01/func1pt8mm/onoffbeta_session27.nii.gz'),\n",
       " S3Path('s3://natural-scenes-dataset/nsddata/ppdata/subj01/func1pt8mm/onoffbeta_session28.nii.gz'),\n",
       " S3Path('s3://natural-scenes-dataset/nsddata/ppdata/subj01/func1pt8mm/onoffbeta_session29.nii.gz'),\n",
       " S3Path('s3://natural-scenes-dataset/nsddata/ppdata/subj01/func1pt8mm/onoffbeta_session30.nii.gz'),\n",
       " S3Path('s3://natural-scenes-dataset/nsddata/ppdata/subj01/func1pt8mm/onoffbeta_session31.nii.gz'),\n",
       " S3Path('s3://natural-scenes-dataset/nsddata/ppdata/subj01/func1pt8mm/onoffbeta_session32.nii.gz'),\n",
       " S3Path('s3://natural-scenes-dataset/nsddata/ppdata/subj01/func1pt8mm/onoffbeta_session33.nii.gz'),\n",
       " S3Path('s3://natural-scenes-dataset/nsddata/ppdata/subj01/func1pt8mm/onoffbeta_session34.nii.gz'),\n",
       " S3Path('s3://natural-scenes-dataset/nsddata/ppdata/subj01/func1pt8mm/onoffbeta_session35.nii.gz'),\n",
       " S3Path('s3://natural-scenes-dataset/nsddata/ppdata/subj01/func1pt8mm/onoffbeta_session36.nii.gz'),\n",
       " S3Path('s3://natural-scenes-dataset/nsddata/ppdata/subj01/func1pt8mm/onoffbeta_session37.nii.gz'),\n",
       " S3Path('s3://natural-scenes-dataset/nsddata/ppdata/subj01/func1pt8mm/onoffbeta_session38.nii.gz'),\n",
       " S3Path('s3://natural-scenes-dataset/nsddata/ppdata/subj01/func1pt8mm/onoffbeta_session39.nii.gz'),\n",
       " S3Path('s3://natural-scenes-dataset/nsddata/ppdata/subj01/func1pt8mm/onoffbeta_session40.nii.gz'),\n",
       " S3Path('s3://natural-scenes-dataset/nsddata/ppdata/subj01/func1pt8mm/prf_R2.nii.gz'),\n",
       " S3Path('s3://natural-scenes-dataset/nsddata/ppdata/subj01/func1pt8mm/prf_angle.nii.gz'),\n",
       " S3Path('s3://natural-scenes-dataset/nsddata/ppdata/subj01/func1pt8mm/prf_eccentricity.nii.gz'),\n",
       " S3Path('s3://natural-scenes-dataset/nsddata/ppdata/subj01/func1pt8mm/prf_exponent.nii.gz'),\n",
       " S3Path('s3://natural-scenes-dataset/nsddata/ppdata/subj01/func1pt8mm/prf_gain.nii.gz'),\n",
       " S3Path('s3://natural-scenes-dataset/nsddata/ppdata/subj01/func1pt8mm/prf_meanvol.nii.gz'),\n",
       " S3Path('s3://natural-scenes-dataset/nsddata/ppdata/subj01/func1pt8mm/prf_size.nii.gz'),\n",
       " S3Path('s3://natural-scenes-dataset/nsddata/ppdata/subj01/func1pt8mm/signaldropout.nii.gz'),\n",
       " S3Path('s3://natural-scenes-dataset/nsddata/ppdata/subj01/func1pt8mm/signaldropout_masked.nii.gz'),\n",
       " S3Path('s3://natural-scenes-dataset/nsddata/ppdata/subj01/func1pt8mm/surfaceimperfections.nii.gz'),\n",
       " S3Path('s3://natural-scenes-dataset/nsddata/ppdata/subj01/func1pt8mm/valid.nii.gz'),\n",
       " S3Path('s3://natural-scenes-dataset/nsddata/ppdata/subj01/func1pt8mm/valid_nsdimagery.nii.gz'),\n",
       " S3Path('s3://natural-scenes-dataset/nsddata/ppdata/subj01/func1pt8mm/valid_nsdsynthetic.nii.gz'),\n",
       " S3Path('s3://natural-scenes-dataset/nsddata/ppdata/subj01/func1pt8mm/valid_prffloc.nii.gz'),\n",
       " S3Path('s3://natural-scenes-dataset/nsddata/ppdata/subj01/func1pt8mm/valid_session01.nii.gz'),\n",
       " S3Path('s3://natural-scenes-dataset/nsddata/ppdata/subj01/func1pt8mm/valid_session02.nii.gz'),\n",
       " S3Path('s3://natural-scenes-dataset/nsddata/ppdata/subj01/func1pt8mm/valid_session03.nii.gz'),\n",
       " S3Path('s3://natural-scenes-dataset/nsddata/ppdata/subj01/func1pt8mm/valid_session04.nii.gz'),\n",
       " S3Path('s3://natural-scenes-dataset/nsddata/ppdata/subj01/func1pt8mm/valid_session05.nii.gz'),\n",
       " S3Path('s3://natural-scenes-dataset/nsddata/ppdata/subj01/func1pt8mm/valid_session06.nii.gz'),\n",
       " S3Path('s3://natural-scenes-dataset/nsddata/ppdata/subj01/func1pt8mm/valid_session07.nii.gz'),\n",
       " S3Path('s3://natural-scenes-dataset/nsddata/ppdata/subj01/func1pt8mm/valid_session08.nii.gz'),\n",
       " S3Path('s3://natural-scenes-dataset/nsddata/ppdata/subj01/func1pt8mm/valid_session09.nii.gz'),\n",
       " S3Path('s3://natural-scenes-dataset/nsddata/ppdata/subj01/func1pt8mm/valid_session10.nii.gz'),\n",
       " S3Path('s3://natural-scenes-dataset/nsddata/ppdata/subj01/func1pt8mm/valid_session11.nii.gz'),\n",
       " S3Path('s3://natural-scenes-dataset/nsddata/ppdata/subj01/func1pt8mm/valid_session12.nii.gz'),\n",
       " S3Path('s3://natural-scenes-dataset/nsddata/ppdata/subj01/func1pt8mm/valid_session13.nii.gz'),\n",
       " S3Path('s3://natural-scenes-dataset/nsddata/ppdata/subj01/func1pt8mm/valid_session14.nii.gz'),\n",
       " S3Path('s3://natural-scenes-dataset/nsddata/ppdata/subj01/func1pt8mm/valid_session15.nii.gz'),\n",
       " S3Path('s3://natural-scenes-dataset/nsddata/ppdata/subj01/func1pt8mm/valid_session16.nii.gz'),\n",
       " S3Path('s3://natural-scenes-dataset/nsddata/ppdata/subj01/func1pt8mm/valid_session17.nii.gz'),\n",
       " S3Path('s3://natural-scenes-dataset/nsddata/ppdata/subj01/func1pt8mm/valid_session18.nii.gz'),\n",
       " S3Path('s3://natural-scenes-dataset/nsddata/ppdata/subj01/func1pt8mm/valid_session19.nii.gz'),\n",
       " S3Path('s3://natural-scenes-dataset/nsddata/ppdata/subj01/func1pt8mm/valid_session20.nii.gz'),\n",
       " S3Path('s3://natural-scenes-dataset/nsddata/ppdata/subj01/func1pt8mm/valid_session21.nii.gz'),\n",
       " S3Path('s3://natural-scenes-dataset/nsddata/ppdata/subj01/func1pt8mm/valid_session22.nii.gz'),\n",
       " S3Path('s3://natural-scenes-dataset/nsddata/ppdata/subj01/func1pt8mm/valid_session23.nii.gz'),\n",
       " S3Path('s3://natural-scenes-dataset/nsddata/ppdata/subj01/func1pt8mm/valid_session24.nii.gz'),\n",
       " S3Path('s3://natural-scenes-dataset/nsddata/ppdata/subj01/func1pt8mm/valid_session25.nii.gz'),\n",
       " S3Path('s3://natural-scenes-dataset/nsddata/ppdata/subj01/func1pt8mm/valid_session26.nii.gz'),\n",
       " S3Path('s3://natural-scenes-dataset/nsddata/ppdata/subj01/func1pt8mm/valid_session27.nii.gz'),\n",
       " S3Path('s3://natural-scenes-dataset/nsddata/ppdata/subj01/func1pt8mm/valid_session28.nii.gz'),\n",
       " S3Path('s3://natural-scenes-dataset/nsddata/ppdata/subj01/func1pt8mm/valid_session29.nii.gz'),\n",
       " S3Path('s3://natural-scenes-dataset/nsddata/ppdata/subj01/func1pt8mm/valid_session30.nii.gz'),\n",
       " S3Path('s3://natural-scenes-dataset/nsddata/ppdata/subj01/func1pt8mm/valid_session31.nii.gz'),\n",
       " S3Path('s3://natural-scenes-dataset/nsddata/ppdata/subj01/func1pt8mm/valid_session32.nii.gz'),\n",
       " S3Path('s3://natural-scenes-dataset/nsddata/ppdata/subj01/func1pt8mm/valid_session33.nii.gz'),\n",
       " S3Path('s3://natural-scenes-dataset/nsddata/ppdata/subj01/func1pt8mm/valid_session34.nii.gz'),\n",
       " S3Path('s3://natural-scenes-dataset/nsddata/ppdata/subj01/func1pt8mm/valid_session35.nii.gz'),\n",
       " S3Path('s3://natural-scenes-dataset/nsddata/ppdata/subj01/func1pt8mm/valid_session36.nii.gz'),\n",
       " S3Path('s3://natural-scenes-dataset/nsddata/ppdata/subj01/func1pt8mm/valid_session37.nii.gz'),\n",
       " S3Path('s3://natural-scenes-dataset/nsddata/ppdata/subj01/func1pt8mm/valid_session38.nii.gz'),\n",
       " S3Path('s3://natural-scenes-dataset/nsddata/ppdata/subj01/func1pt8mm/valid_session39.nii.gz'),\n",
       " S3Path('s3://natural-scenes-dataset/nsddata/ppdata/subj01/func1pt8mm/valid_session40.nii.gz')]"
      ]
     },
     "execution_count": 8,
     "metadata": {},
     "output_type": "execute_result"
    }
   ],
   "source": [
    "ls(nsd_base_path / 'nsddata' / 'ppdata' / 'subj01' / 'func1pt8mm')"
   ]
  },
  {
   "cell_type": "markdown",
   "id": "a35b77e3-8a30-45f0-8001-1c2aec5a4fd3",
   "metadata": {},
   "source": [
    "## Loading an NSD file: The Coefficient of Determination (or Variance Explained)\n",
    "\n",
    "We can load a nifti file from the NSD using the cloudpath object, and cloudpath's ability to convert a cloudpath into a local filepath (by using `cloud_path_object.fspath`). The NSD is not in BIDS format, but its data are organized relatively intuitively. The directory `ppdata` in particular holeds the preprocessed data for the subjects. Here we will extract the coefficient of determination (also called the r-squared or the percentage of variance explained) of the population receptive field (PRF) models for subject 1."
   ]
  },
  {
   "cell_type": "code",
   "execution_count": 32,
   "id": "8cb2b3e7-369b-4c85-9ba1-c1ec0835458e",
   "metadata": {
    "tags": []
   },
   "outputs": [
    {
     "data": {
      "text/plain": [
       "(81, 104, 83)"
      ]
     },
     "execution_count": 32,
     "metadata": {},
     "output_type": "execute_result"
    }
   ],
   "source": [
    "import nibabel as nib\n",
    "\n",
    "nsd_pppath = nsd_base_path / 'nsddata' / 'ppdata'\n",
    "cod_filename = nsd_pppath / 'subj01' / 'func1pt8mm' / 'prf_R2.nii.gz'\n",
    "cod = nib.load(cod_filename.fspath)\n",
    "cod.shape"
   ]
  },
  {
   "cell_type": "code",
   "execution_count": 38,
   "id": "7d87d936-377a-4727-a8c7-ed56e0dd9783",
   "metadata": {
    "tags": []
   },
   "outputs": [
    {
     "data": {
      "text/plain": [
       "<matplotlib.image.AxesImage at 0x7f81db738730>"
      ]
     },
     "execution_count": 38,
     "metadata": {},
     "output_type": "execute_result"
    },
    {
     "data": {
      "image/png": "[encoded data removed]",
      "text/plain": [
       "<Figure size 640x480 with 1 Axes>"
      ]
     },
     "metadata": {},
     "output_type": "display_data"
    }
   ],
   "source": [
    "# Once we have loaded the CoD as a nifti object, we can plot it using matplotlib.\n",
    "\n",
    "import matplotlib.pyplot as plt\n",
    "\n",
    "plt.imshow(cod.dataobj[:,:,40], vmin=0, vmax=100, cmap='hot')"
   ]
  },
  {
   "cell_type": "markdown",
   "id": "13b22dce-c8d1-4e9c-8e5b-6ab5ab52e044",
   "metadata": {},
   "source": [
    "### Loading Subjects using neuropythy\n",
    "\n",
    "Because the NSD is on S3, neuropythy can also access it and load FreeSurfer subjects from it. To do this, we can simply direct neuropythy to the S3 FreeSurfer subject directory (note that this will not share cache with the `cloudpathlib` library)."
   ]
  },
  {
   "cell_type": "code",
   "execution_count": 39,
   "id": "f2b739cb-29be-4502-b21d-a6b2b6710a6a",
   "metadata": {
    "tags": []
   },
   "outputs": [],
   "source": [
    "# Import neuropythy\n",
    "import neuropythy as ny\n",
    "\n",
    "# Tell neuropythy where we want to keep cache data.\n",
    "ny.config['data_cache_root'] = '/home/jovyan/cache'"
   ]
  },
  {
   "cell_type": "code",
   "execution_count": 40,
   "id": "4f84bc69-2903-4841-b44a-97bae91090dc",
   "metadata": {
    "tags": []
   },
   "outputs": [
    {
     "data": {
      "text/plain": [
       "[S3Path('s3://natural-scenes-dataset/nsddata/freesurfer/subj01/label'),\n",
       " S3Path('s3://natural-scenes-dataset/nsddata/freesurfer/subj01/mri'),\n",
       " S3Path('s3://natural-scenes-dataset/nsddata/freesurfer/subj01/scripts'),\n",
       " S3Path('s3://natural-scenes-dataset/nsddata/freesurfer/subj01/stats'),\n",
       " S3Path('s3://natural-scenes-dataset/nsddata/freesurfer/subj01/surf'),\n",
       " S3Path('s3://natural-scenes-dataset/nsddata/freesurfer/subj01/tmp'),\n",
       " S3Path('s3://natural-scenes-dataset/nsddata/freesurfer/subj01/touch')]"
      ]
     },
     "execution_count": 40,
     "metadata": {},
     "output_type": "execute_result"
    }
   ],
   "source": [
    "# Where is the FreeSurfer data for a subject?\n",
    "\n",
    "ls(nsd_base_path / 'nsddata' / 'freesurfer' / 'subj01')"
   ]
  },
  {
   "cell_type": "code",
   "execution_count": 41,
   "id": "8e0043cc-4eed-4258-80f4-8cd8a081af03",
   "metadata": {
    "tags": []
   },
   "outputs": [],
   "source": [
    "# Ask neuropythy to load a FreeSurfer subject:\n",
    "sub = ny.freesurfer_subject(\n",
    "    's3://natural-scenes-dataset/nsddata/freesurfer/subj01')"
   ]
  },
  {
   "cell_type": "code",
   "execution_count": null,
   "id": "195a25cb-d982-4d1a-a8aa-9dc1fc19b757",
   "metadata": {
    "tags": []
   },
   "outputs": [],
   "source": [
    "# Have neuropythy plot this subject:\n",
    "ny.cortex_plot((sub.lh, sub.rh), surface='white')"
   ]
  }
 ],
 "metadata": {
  "kernelspec": {
   "display_name": "Python 3 (ipykernel)",
   "language": "python",
   "name": "python3"
  },
  "language_info": {
   "codemirror_mode": {
    "name": "ipython",
    "version": 3
   },
   "file_extension": ".py",
   "mimetype": "text/x-python",
   "name": "python",
   "nbconvert_exporter": "python",
   "pygments_lexer": "ipython3",
   "version": "3.10.11"
  }
 },
 "nbformat": 4,
 "nbformat_minor": 5
}
