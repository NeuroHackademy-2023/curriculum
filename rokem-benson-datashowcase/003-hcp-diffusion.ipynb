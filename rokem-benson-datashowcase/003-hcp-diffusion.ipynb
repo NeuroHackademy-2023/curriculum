{
 "cells": [
  {
   "cell_type": "markdown",
   "metadata": {},
   "source": [
    "# Diffusion MRI data and derivatives in the Human Connectome Project"
   ]
  },
  {
   "cell_type": "markdown",
   "metadata": {},
   "source": [
    "## Diffusion MRI \n",
    "\n",
    "Diffusion MRI uses directionally oriented gradients and a pulsed gradient scan sequence to sensitize the MRI measurement to location- and direction-specific random diffusion of water. \n",
    "\n",
    "This is useful because in locations where the tissue is densely packed, diffusion of water is restricted. In locations where tissue is oriented (e.g., in axonal bundles) diffusion is less restricted along the length of the bundles than across their boundaries providing a cue for computational tractography methods.\n",
    "\n",
    "![](images/diffusion.jpg)\n"
   ]
  },
  {
   "cell_type": "code",
   "execution_count": null,
   "metadata": {
    "tags": []
   },
   "outputs": [],
   "source": [
    "from pathlib import Path\n",
    "\n",
    "# Make the path object:\n",
    "cache_path = Path('/tmp/cache')\n",
    "\n",
    "# Just because we have made a cache path object doesn't mean that the directory\n",
    "# we made exists; here we check if it exists and make the directory if not.\n",
    "if not cache_path.exists():\n",
    "    cache_path.mkdir()\n"
   ]
  },
  {
   "cell_type": "code",
   "execution_count": null,
   "metadata": {
    "tags": []
   },
   "outputs": [],
   "source": [
    "from utils import ls, crawl\n",
    "import nibabel as nib"
   ]
  },
  {
   "cell_type": "code",
   "execution_count": null,
   "metadata": {
    "tags": []
   },
   "outputs": [],
   "source": [
    "from cloudpathlib import S3Path, S3Client\n",
    "\n",
    "client = S3Client(\n",
    "    local_cache_dir=cache_path,\n",
    "    profile_name=\"hcp\")\n",
    "\n",
    "hcp_base_path = S3Path(\n",
    "    \"s3://hcp-openaccess/\",\n",
    "    client=client)"
   ]
  },
  {
   "cell_type": "code",
   "execution_count": null,
   "metadata": {
    "tags": []
   },
   "outputs": [],
   "source": [
    "ls(hcp_base_path)"
   ]
  },
  {
   "cell_type": "code",
   "execution_count": null,
   "metadata": {
    "tags": []
   },
   "outputs": [],
   "source": [
    "# ls(hcp_base_path / \"HCP_1200\")"
   ]
  },
  {
   "cell_type": "code",
   "execution_count": null,
   "metadata": {
    "tags": []
   },
   "outputs": [],
   "source": [
    "crawl(hcp_base_path / \"HCP_1200\" / \"100206\" / \"T1w\" / \"Diffusion\")"
   ]
  },
  {
   "cell_type": "code",
   "execution_count": null,
   "metadata": {
    "tags": []
   },
   "outputs": [],
   "source": [
    "diffusion_100206 = hcp_base_path / \"HCP_1200\" / \"100206\" / \"T1w\" / \"Diffusion\" / \"data.nii.gz\""
   ]
  },
  {
   "cell_type": "code",
   "execution_count": null,
   "metadata": {
    "tags": []
   },
   "outputs": [],
   "source": [
    "img_100206 = nib.load(diffusion_100206.fspath)"
   ]
  },
  {
   "cell_type": "code",
   "execution_count": null,
   "metadata": {
    "tags": []
   },
   "outputs": [],
   "source": [
    "# Careful! This requires a lot of memory! \n",
    "# img_100206.get_fdata()"
   ]
  },
  {
   "cell_type": "markdown",
   "metadata": {},
   "source": [
    "## Fetching HCP diffusion data using DIPY\n",
    "\n",
    "In addition to this direct access to the data through cloudpathlib, the HCP dMRI data can be accessed using DIPY's data fetcher system. A fetcher for HCP diffusion data has been implemented to organize each subjects data into a BIDS-compatible format. This is particularly useful if you are going to process the data using a BIDS-compatible software tool subsequently."
   ]
  },
  {
   "cell_type": "code",
   "execution_count": null,
   "metadata": {
    "tags": []
   },
   "outputs": [],
   "source": [
    "from dipy.data.fetcher import fetch_hcp"
   ]
  },
  {
   "cell_type": "code",
   "execution_count": null,
   "metadata": {
    "tags": []
   },
   "outputs": [],
   "source": [
    "fetch_hcp([\"100206\"])"
   ]
  },
  {
   "cell_type": "code",
   "execution_count": null,
   "metadata": {
    "tags": []
   },
   "outputs": [],
   "source": [
    "import bids"
   ]
  },
  {
   "cell_type": "code",
   "execution_count": null,
   "metadata": {
    "tags": []
   },
   "outputs": [],
   "source": [
    "layout = bids.BIDSLayout('/home/jovyan/.dipy/HCP_1200/derivatives/hcp_pipeline/', is_derivative=True)"
   ]
  },
  {
   "cell_type": "code",
   "execution_count": null,
   "metadata": {
    "tags": []
   },
   "outputs": [],
   "source": [
    "layout.get()"
   ]
  },
  {
   "cell_type": "markdown",
   "metadata": {},
   "source": [
    "## HCP tractometry derivatives\n",
    "\n",
    "Tractometry assesses the properties of the white matter tissue along the major white matter bundles \n",
    "\n",
    "![](images/afq.jpg)\n",
    "\n",
    "We have implemented a pipeline for doing this called [pyAFQ](https://yeatmanlab.github.io/pyAFQ) and we ran it on the 1,041 HCP subjects that have complete dMRI scans."
   ]
  },
  {
   "cell_type": "markdown",
   "metadata": {
    "tags": []
   },
   "source": [
    "![](images/hcp_fa.jpg)\n",
    "\n",
    "\n",
    "These derivatives are available through the [Open Neurodata project](https://neurodata.io/project/ocp/) (not to be confused with OpenNeuro!)"
   ]
  },
  {
   "cell_type": "code",
   "execution_count": null,
   "metadata": {
    "tags": []
   },
   "outputs": [],
   "source": [
    "from cloudpathlib import S3Path, S3Client\n",
    "\n",
    "# Create a client that uses our cache path and that does not try to\n",
    "# authenticate with S3.\n",
    "client = S3Client(\n",
    "    local_cache_dir=cache_path,\n",
    "    no_sign_request=True)\n",
    "\n",
    "# Now, create a cloudpath for the open neurodata's S3 bucket:\n",
    "hcp_derivs_path = S3Path(\n",
    "    \"s3://open-neurodata/rokem/hcp1200/afq\",\n",
    "    client=client)"
   ]
  },
  {
   "cell_type": "code",
   "execution_count": null,
   "metadata": {
    "tags": []
   },
   "outputs": [],
   "source": [
    "crawl(hcp_derivs_path / \"sub-100206\")"
   ]
  },
  {
   "cell_type": "code",
   "execution_count": null,
   "metadata": {
    "tags": []
   },
   "outputs": [],
   "source": [
    "import pandas as pd"
   ]
  },
  {
   "cell_type": "code",
   "execution_count": null,
   "metadata": {},
   "outputs": [],
   "source": [
    "tract_profiles = pd.read_csv(hcp_derivs_path / \"sub-100206\" / \"ses-01\" / \"sub-100206_dwi_space-RASMM_model-CSD_desc-prob-afq_profiles.csv\")"
   ]
  },
  {
   "cell_type": "code",
   "execution_count": null,
   "metadata": {
    "tags": []
   },
   "outputs": [],
   "source": [
    "tract_profiles"
   ]
  },
  {
   "cell_type": "code",
   "execution_count": null,
   "metadata": {
    "tags": []
   },
   "outputs": [],
   "source": [
    "import matplotlib.pyplot as plt\n",
    "fig, ax = plt.subplots()\n",
    "ax.plot(tract_profiles[tract_profiles[\"tractID\"] == \"CST_L\"][\"dki_fa\"].values)\n",
    "ax.set_xlabel(\"Node\")\n",
    "ax.set_ylabel(\"FA\")"
   ]
  }
 ],
 "metadata": {
  "kernelspec": {
   "display_name": "Python 3 (ipykernel)",
   "language": "python",
   "name": "python3"
  },
  "language_info": {
   "codemirror_mode": {
    "name": "ipython",
    "version": 3
   },
   "file_extension": ".py",
   "mimetype": "text/x-python",
   "name": "python",
   "nbconvert_exporter": "python",
   "pygments_lexer": "ipython3",
   "version": "3.10.11"
  }
 },
 "nbformat": 4,
 "nbformat_minor": 4
}
